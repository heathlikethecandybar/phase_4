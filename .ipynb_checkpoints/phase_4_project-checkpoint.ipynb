{
 "cells": [
  {
   "cell_type": "markdown",
   "id": "d546b752",
   "metadata": {},
   "source": [
    "# Phase 4 Final Project Submission"
   ]
  },
  {
   "cell_type": "markdown",
   "id": "0e14bc78",
   "metadata": {},
   "source": [
    "* Student name: Heath Rittler\n",
    "* Student pace: Self paced\n",
    "* Scheduled project review date/time: tbd\n",
    "* Instructor name: Mark Barbour\n",
    "* Blog post URL: https://medium.com/@heathlikethecandybar"
   ]
  },
  {
   "cell_type": "markdown",
   "id": "61fb59a6",
   "metadata": {
    "ExecuteTime": {
     "end_time": "2023-03-16T01:22:20.018790Z",
     "start_time": "2023-03-16T01:22:19.943054Z"
    }
   },
   "source": [
    "# Introduction"
   ]
  },
  {
   "cell_type": "markdown",
   "id": "95453f32",
   "metadata": {},
   "source": [
    "## Business Case/ Summary"
   ]
  },
  {
   "cell_type": "code",
   "execution_count": null,
   "id": "09c5875f",
   "metadata": {},
   "outputs": [],
   "source": []
  },
  {
   "cell_type": "markdown",
   "id": "ffb0f9f3",
   "metadata": {
    "ExecuteTime": {
     "end_time": "2023-03-16T01:33:47.533926Z",
     "start_time": "2023-03-16T01:33:47.519525Z"
    }
   },
   "source": [
    "**Our task is to:**\n",
    "\n",
    "Build a model that provides top 5 movie recommendations to a user, based on their ratings of other movies."
   ]
  },
  {
   "cell_type": "markdown",
   "id": "506cc490",
   "metadata": {
    "ExecuteTime": {
     "end_time": "2023-03-16T01:23:50.925734Z",
     "start_time": "2023-03-16T01:23:50.923245Z"
    }
   },
   "source": [
    "## Modelling and Approach"
   ]
  },
  {
   "cell_type": "markdown",
   "id": "b293c95e",
   "metadata": {},
   "source": [
    "There are two common recommendation filtering techniques: collaborative filtering and content filtering.\n",
    "\n",
    "* `Collaborative filtering` requires the model to learn the connections/similarity between users so that it can generate the best recommendation options based on users’ previous choices, or ratings. \n",
    "* `Content filtering` needs the profile of both the users and the items so that the system can determine the recommendation according to the common properties of the users and respective items."
   ]
  },
  {
   "cell_type": "markdown",
   "id": "3b600b46",
   "metadata": {
    "ExecuteTime": {
     "end_time": "2023-03-16T01:23:23.498075Z",
     "start_time": "2023-03-16T01:23:23.495167Z"
    }
   },
   "source": [
    "## Metrics for Evaluation"
   ]
  },
  {
   "cell_type": "markdown",
   "id": "3e4473fa",
   "metadata": {
    "ExecuteTime": {
     "end_time": "2023-03-16T01:34:39.915200Z",
     "start_time": "2023-03-16T01:34:39.905964Z"
    }
   },
   "source": [
    "### **Evaluation**\n",
    "\n",
    "The MovieLens dataset has explicit ratings, so achieving some sort of evaluation of your model is simple enough. But you should give some thought to the question of metrics. Since the rankings are ordinal, we know we can treat this like a regression problem. But when it comes to regression metrics there are several choices: RMSE, MAE, etc. Here are some further ideas."
   ]
  },
  {
   "cell_type": "markdown",
   "id": "93d81b0a",
   "metadata": {
    "ExecuteTime": {
     "end_time": "2023-03-16T01:22:49.949280Z",
     "start_time": "2023-03-16T01:22:49.946737Z"
    }
   },
   "source": [
    "## Core Field Names and Definitions from Data Source"
   ]
  },
  {
   "cell_type": "markdown",
   "id": "6c5af3bf",
   "metadata": {},
   "source": [
    "This dataset (ml-latest-small) describes 5-star rating and free-text tagging activity from MovieLens, a movie recommendation service. It contains 100836 ratings and 3683 tag applications across 9742 movies. These data were created by 610 users between March 29, 1996 and September 24, 2018. This dataset was generated on September 26, 2018.\n",
    "\n",
    "Users were selected at random for inclusion. All selected users had rated at least 20 movies. No demographic information is included. Each user is represented by an id, and no other information is provided.\n",
    "\n",
    "The data are contained in the files \n",
    "* `links.csv`\n",
    "* `movies.csv` \n",
    "* `ratings.csv` \n",
    "* `tags.csv`"
   ]
  },
  {
   "cell_type": "markdown",
   "id": "5d12de18",
   "metadata": {},
   "source": [
    "### `Formatting and Encoding`\n",
    "The dataset files are written as comma-separated values files with a single header row. Columns that contain commas (,) are escaped using double-quotes (\"). These files are encoded as UTF-8. If accented characters in movie titles or tag values (e.g. Misérables, Les (1995)) display incorrectly, make sure that any program reading the data, such as a text editor, terminal, or script, is configured for UTF-8."
   ]
  },
  {
   "cell_type": "markdown",
   "id": "b967b875",
   "metadata": {},
   "source": [
    "**`User Ids`**\n",
    "MovieLens users were selected at random for inclusion. Their ids have been anonymized. User ids are consistent between ratings.csv and tags.csv (i.e., the same id refers to the same user across the two files).\n",
    "\n",
    "**`Movie Ids`**\n",
    "Only movies with at least one rating or tag are included in the dataset. These movie ids are consistent with those used on the MovieLens web site (e.g., id 1 corresponds to the URL https://movielens.org/movies/1). Movie ids are consistent between ratings.csv, tags.csv, movies.csv, and links.csv (i.e., the same id refers to the same movie across these four data files)."
   ]
  },
  {
   "cell_type": "markdown",
   "id": "a4b1d45b",
   "metadata": {},
   "source": [
    "### `Ratings Data File Structure (ratings.csv)`\n",
    "All ratings are contained in the file ratings.csv. Each line of this file after the header row represents one rating of one movie by one user, and has the following format:\n",
    "\n",
    "userId,movieId,rating,timestamp\n",
    "The lines within this file are ordered first by userId, then, within user, by movieId.\n",
    "\n",
    "Ratings are made on a 5-star scale, with half-star increments (0.5 stars - 5.0 stars).\n",
    "\n",
    "Timestamps represent seconds since midnight Coordinated Universal Time (UTC) of January 1, 1970."
   ]
  },
  {
   "cell_type": "markdown",
   "id": "80e3ffc0",
   "metadata": {
    "ExecuteTime": {
     "end_time": "2023-03-16T01:41:25.978659Z",
     "start_time": "2023-03-16T01:41:25.973534Z"
    }
   },
   "source": [
    "### `Tags Data File Structure (tags.csv)`\n",
    "All tags are contained in the file tags.csv. Each line of this file after the header row represents one tag applied to one movie by one user, and has the following format:\n",
    "\n",
    "userId,movieId,tag,timestamp\n",
    "The lines within this file are ordered first by userId, then, within user, by movieId.\n",
    "\n",
    "Tags are user-generated metadata about movies. Each tag is typically a single word or short phrase. The meaning, value, and purpose of a particular tag is determined by each user.\n",
    "\n",
    "Timestamps represent seconds since midnight Coordinated Universal Time (UTC) of January 1, 1970."
   ]
  },
  {
   "cell_type": "markdown",
   "id": "568efc2a",
   "metadata": {
    "ExecuteTime": {
     "end_time": "2023-03-16T01:42:19.463405Z",
     "start_time": "2023-03-16T01:42:19.458126Z"
    }
   },
   "source": [
    "### `Movies Data File Structure (movies.csv)`\n",
    "Movie information is contained in the file movies.csv. Each line of this file after the header row represents one movie, and has the following format:\n",
    "\n",
    "movieId,title,genres\n",
    "Movie titles are entered manually or imported from https://www.themoviedb.org/, and include the year of release in parentheses. Errors and inconsistencies may exist in these titles.\n",
    "\n",
    "Genres are a pipe-separated list, and are selected from the following:\n",
    "\n",
    "Action\n",
    "Adventure\n",
    "Animation\n",
    "Children's\n",
    "Comedy\n",
    "Crime\n",
    "Documentary\n",
    "Drama\n",
    "Fantasy\n",
    "Film-Noir\n",
    "Horror\n",
    "Musical\n",
    "Mystery\n",
    "Romance\n",
    "Sci-Fi\n",
    "Thriller\n",
    "War\n",
    "Western\n",
    "(no genres listed)"
   ]
  },
  {
   "cell_type": "markdown",
   "id": "e41fabb3",
   "metadata": {
    "ExecuteTime": {
     "end_time": "2023-03-16T01:41:43.032035Z",
     "start_time": "2023-03-16T01:41:43.018355Z"
    }
   },
   "source": [
    "### `Links Data File Structure (links.csv)`\n",
    "Identifiers that can be used to link to other sources of movie data are contained in the file links.csv. Each line of this file after the header row represents one movie, and has the following format:\n",
    "\n",
    "movieId,imdbId,tmdbId\n",
    "movieId is an identifier for movies used by https://movielens.org. E.g., the movie Toy Story has the link https://movielens.org/movies/1.\n",
    "\n",
    "imdbId is an identifier for movies used by http://www.imdb.com. E.g., the movie Toy Story has the link http://www.imdb.com/title/tt0114709/.\n",
    "\n",
    "tmdbId is an identifier for movies used by https://www.themoviedb.org. E.g., the movie Toy Story has the link https://www.themoviedb.org/movie/862.\n",
    "\n",
    "Use of the resources listed above is subject to the terms of each provider."
   ]
  },
  {
   "cell_type": "markdown",
   "id": "cc523493",
   "metadata": {
    "ExecuteTime": {
     "end_time": "2023-03-16T01:24:28.254242Z",
     "start_time": "2023-03-16T01:24:28.251891Z"
    }
   },
   "source": [
    "# Data Load, Cleaning"
   ]
  },
  {
   "cell_type": "markdown",
   "id": "815cc635",
   "metadata": {
    "ExecuteTime": {
     "end_time": "2023-03-16T01:24:43.049099Z",
     "start_time": "2023-03-16T01:24:43.046013Z"
    }
   },
   "source": [
    "## Importing Packages"
   ]
  },
  {
   "cell_type": "code",
   "execution_count": 135,
   "id": "cf350fab",
   "metadata": {
    "ExecuteTime": {
     "end_time": "2023-05-02T01:43:28.938001Z",
     "start_time": "2023-05-02T01:43:27.126217Z"
    }
   },
   "outputs": [],
   "source": [
    "# import necessary packages\n",
    "import pandas as pd\n",
    "import numpy as np\n",
    "from matplotlib import pyplot as plt\n",
    "%matplotlib inline\n",
    "import seaborn as sns\n",
    "import statsmodels.api as sm\n",
    "from datetime import datetime\n",
    "from matplotlib.colors import ListedColormap\n",
    "import matplotlib.ticker as mtick\n",
    "import matplotlib.pyplot as plt\n",
    "from surprise import accuracy, Dataset, SVD, SVDpp, KNNBasic, NMF, CoClustering, SlopeOne, NormalPredictor, Reader\n",
    "from surprise.model_selection import train_test_split, GridSearchCV, cross_validate\n",
    "from surprise.model_selection import GridSearchCV\n",
    "from sklearn.metrics.pairwise import cosine_similarity\n",
    "from sklearn.model_selection import train_test_split\n",
    "\n",
    "\n",
    "from sklearn.preprocessing import LabelEncoder, OneHotEncoder, StandardScaler, FunctionTransformer\n",
    "from sklearn.model_selection import train_test_split, cross_val_score, GridSearchCV, StratifiedKFold"
   ]
  },
  {
   "cell_type": "markdown",
   "id": "6fe4aa4b",
   "metadata": {
    "ExecuteTime": {
     "end_time": "2023-03-16T01:24:56.065157Z",
     "start_time": "2023-03-16T01:24:56.062742Z"
    }
   },
   "source": [
    "## Choosing Colors & Templates"
   ]
  },
  {
   "cell_type": "code",
   "execution_count": 2,
   "id": "9a752e25",
   "metadata": {
    "ExecuteTime": {
     "end_time": "2023-05-02T01:43:28.950537Z",
     "start_time": "2023-05-02T01:43:28.940451Z"
    }
   },
   "outputs": [
    {
     "data": {
      "text/html": [
       "<svg  width=\"330\" height=\"55\"><rect x=\"0\" y=\"0\" width=\"55\" height=\"55\" style=\"fill:#e26952;stroke-width:2;stroke:rgb(255,255,255)\"/><rect x=\"55\" y=\"0\" width=\"55\" height=\"55\" style=\"fill:#f7a889;stroke-width:2;stroke:rgb(255,255,255)\"/><rect x=\"110\" y=\"0\" width=\"55\" height=\"55\" style=\"fill:#edd1c2;stroke-width:2;stroke:rgb(255,255,255)\"/><rect x=\"165\" y=\"0\" width=\"55\" height=\"55\" style=\"fill:#c9d7f0;stroke-width:2;stroke:rgb(255,255,255)\"/><rect x=\"220\" y=\"0\" width=\"55\" height=\"55\" style=\"fill:#9abbff;stroke-width:2;stroke:rgb(255,255,255)\"/><rect x=\"275\" y=\"0\" width=\"55\" height=\"55\" style=\"fill:#6788ee;stroke-width:2;stroke:rgb(255,255,255)\"/></svg>"
      ],
      "text/plain": [
       "['#e26952', '#f7a889', '#edd1c2', '#c9d7f0', '#9abbff', '#6788ee']"
      ]
     },
     "execution_count": 2,
     "metadata": {},
     "output_type": "execute_result"
    }
   ],
   "source": [
    "# choosing standard colors for project\n",
    "pal = sns.color_palette(\"coolwarm_r\")\n",
    "\n",
    "color_codes = ['red', 'peach', 'tan', 'gray', 'lightblue', 'blue']\n",
    "\n",
    "my_cmap = ListedColormap(sns.color_palette(pal).as_hex())\n",
    "\n",
    "pal.as_hex()"
   ]
  },
  {
   "cell_type": "markdown",
   "id": "fe9b8d50",
   "metadata": {
    "ExecuteTime": {
     "end_time": "2023-03-16T01:25:02.612854Z",
     "start_time": "2023-03-16T01:25:02.610057Z"
    }
   },
   "source": [
    "## Import Data"
   ]
  },
  {
   "cell_type": "markdown",
   "id": "399e1460",
   "metadata": {},
   "source": [
    "### Ratings"
   ]
  },
  {
   "cell_type": "code",
   "execution_count": 149,
   "id": "6e701ad1",
   "metadata": {
    "ExecuteTime": {
     "end_time": "2023-05-02T01:43:29.004859Z",
     "start_time": "2023-05-02T01:43:28.956417Z"
    }
   },
   "outputs": [],
   "source": [
    "# import ratings data file\n",
    "ratings = pd.read_csv('data/ratings.csv')"
   ]
  },
  {
   "cell_type": "code",
   "execution_count": 150,
   "id": "44beb206",
   "metadata": {
    "ExecuteTime": {
     "end_time": "2023-05-02T01:43:29.019708Z",
     "start_time": "2023-05-02T01:43:29.007941Z"
    },
    "scrolled": true
   },
   "outputs": [
    {
     "data": {
      "text/html": [
       "<div>\n",
       "<style scoped>\n",
       "    .dataframe tbody tr th:only-of-type {\n",
       "        vertical-align: middle;\n",
       "    }\n",
       "\n",
       "    .dataframe tbody tr th {\n",
       "        vertical-align: top;\n",
       "    }\n",
       "\n",
       "    .dataframe thead th {\n",
       "        text-align: right;\n",
       "    }\n",
       "</style>\n",
       "<table border=\"1\" class=\"dataframe\">\n",
       "  <thead>\n",
       "    <tr style=\"text-align: right;\">\n",
       "      <th></th>\n",
       "      <th>userId</th>\n",
       "      <th>movieId</th>\n",
       "      <th>rating</th>\n",
       "      <th>timestamp</th>\n",
       "    </tr>\n",
       "  </thead>\n",
       "  <tbody>\n",
       "    <tr>\n",
       "      <th>0</th>\n",
       "      <td>1</td>\n",
       "      <td>1</td>\n",
       "      <td>4.0</td>\n",
       "      <td>964982703</td>\n",
       "    </tr>\n",
       "    <tr>\n",
       "      <th>1</th>\n",
       "      <td>1</td>\n",
       "      <td>3</td>\n",
       "      <td>4.0</td>\n",
       "      <td>964981247</td>\n",
       "    </tr>\n",
       "    <tr>\n",
       "      <th>2</th>\n",
       "      <td>1</td>\n",
       "      <td>6</td>\n",
       "      <td>4.0</td>\n",
       "      <td>964982224</td>\n",
       "    </tr>\n",
       "    <tr>\n",
       "      <th>3</th>\n",
       "      <td>1</td>\n",
       "      <td>47</td>\n",
       "      <td>5.0</td>\n",
       "      <td>964983815</td>\n",
       "    </tr>\n",
       "    <tr>\n",
       "      <th>4</th>\n",
       "      <td>1</td>\n",
       "      <td>50</td>\n",
       "      <td>5.0</td>\n",
       "      <td>964982931</td>\n",
       "    </tr>\n",
       "  </tbody>\n",
       "</table>\n",
       "</div>"
      ],
      "text/plain": [
       "   userId  movieId  rating  timestamp\n",
       "0       1        1     4.0  964982703\n",
       "1       1        3     4.0  964981247\n",
       "2       1        6     4.0  964982224\n",
       "3       1       47     5.0  964983815\n",
       "4       1       50     5.0  964982931"
      ]
     },
     "execution_count": 150,
     "metadata": {},
     "output_type": "execute_result"
    }
   ],
   "source": [
    "# view the first 5 rows\n",
    "ratings.head()"
   ]
  },
  {
   "cell_type": "code",
   "execution_count": 151,
   "id": "d486d519",
   "metadata": {
    "ExecuteTime": {
     "end_time": "2023-05-02T01:43:29.033201Z",
     "start_time": "2023-05-02T01:43:29.022391Z"
    }
   },
   "outputs": [
    {
     "name": "stdout",
     "output_type": "stream",
     "text": [
      "<class 'pandas.core.frame.DataFrame'>\n",
      "RangeIndex: 100836 entries, 0 to 100835\n",
      "Data columns (total 4 columns):\n",
      " #   Column     Non-Null Count   Dtype  \n",
      "---  ------     --------------   -----  \n",
      " 0   userId     100836 non-null  int64  \n",
      " 1   movieId    100836 non-null  int64  \n",
      " 2   rating     100836 non-null  float64\n",
      " 3   timestamp  100836 non-null  int64  \n",
      "dtypes: float64(1), int64(3)\n",
      "memory usage: 3.1 MB\n"
     ]
    }
   ],
   "source": [
    "# view data types record counts\n",
    "ratings.info()"
   ]
  },
  {
   "cell_type": "code",
   "execution_count": 152,
   "id": "5679806e",
   "metadata": {
    "ExecuteTime": {
     "end_time": "2023-05-02T01:43:29.042808Z",
     "start_time": "2023-05-02T01:43:29.035603Z"
    }
   },
   "outputs": [
    {
     "data": {
      "text/plain": [
       "userId       0\n",
       "movieId      0\n",
       "rating       0\n",
       "timestamp    0\n",
       "dtype: int64"
      ]
     },
     "execution_count": 152,
     "metadata": {},
     "output_type": "execute_result"
    }
   ],
   "source": [
    "# check for missing values within any columns\n",
    "ratings.isna().sum()"
   ]
  },
  {
   "cell_type": "markdown",
   "id": "287bb13e",
   "metadata": {},
   "source": [
    "### Tags"
   ]
  },
  {
   "cell_type": "code",
   "execution_count": 7,
   "id": "b15f6d3e",
   "metadata": {
    "ExecuteTime": {
     "end_time": "2023-05-02T01:43:29.057324Z",
     "start_time": "2023-05-02T01:43:29.045148Z"
    }
   },
   "outputs": [],
   "source": [
    "# import ratings data file\n",
    "tags = pd.read_csv('data/tags.csv')"
   ]
  },
  {
   "cell_type": "code",
   "execution_count": 8,
   "id": "49b34c82",
   "metadata": {
    "ExecuteTime": {
     "end_time": "2023-05-02T01:43:29.070568Z",
     "start_time": "2023-05-02T01:43:29.062302Z"
    }
   },
   "outputs": [
    {
     "data": {
      "text/html": [
       "<div>\n",
       "<style scoped>\n",
       "    .dataframe tbody tr th:only-of-type {\n",
       "        vertical-align: middle;\n",
       "    }\n",
       "\n",
       "    .dataframe tbody tr th {\n",
       "        vertical-align: top;\n",
       "    }\n",
       "\n",
       "    .dataframe thead th {\n",
       "        text-align: right;\n",
       "    }\n",
       "</style>\n",
       "<table border=\"1\" class=\"dataframe\">\n",
       "  <thead>\n",
       "    <tr style=\"text-align: right;\">\n",
       "      <th></th>\n",
       "      <th>userId</th>\n",
       "      <th>movieId</th>\n",
       "      <th>tag</th>\n",
       "      <th>timestamp</th>\n",
       "    </tr>\n",
       "  </thead>\n",
       "  <tbody>\n",
       "    <tr>\n",
       "      <th>0</th>\n",
       "      <td>2</td>\n",
       "      <td>60756</td>\n",
       "      <td>funny</td>\n",
       "      <td>1445714994</td>\n",
       "    </tr>\n",
       "    <tr>\n",
       "      <th>1</th>\n",
       "      <td>2</td>\n",
       "      <td>60756</td>\n",
       "      <td>Highly quotable</td>\n",
       "      <td>1445714996</td>\n",
       "    </tr>\n",
       "    <tr>\n",
       "      <th>2</th>\n",
       "      <td>2</td>\n",
       "      <td>60756</td>\n",
       "      <td>will ferrell</td>\n",
       "      <td>1445714992</td>\n",
       "    </tr>\n",
       "    <tr>\n",
       "      <th>3</th>\n",
       "      <td>2</td>\n",
       "      <td>89774</td>\n",
       "      <td>Boxing story</td>\n",
       "      <td>1445715207</td>\n",
       "    </tr>\n",
       "    <tr>\n",
       "      <th>4</th>\n",
       "      <td>2</td>\n",
       "      <td>89774</td>\n",
       "      <td>MMA</td>\n",
       "      <td>1445715200</td>\n",
       "    </tr>\n",
       "  </tbody>\n",
       "</table>\n",
       "</div>"
      ],
      "text/plain": [
       "   userId  movieId              tag   timestamp\n",
       "0       2    60756            funny  1445714994\n",
       "1       2    60756  Highly quotable  1445714996\n",
       "2       2    60756     will ferrell  1445714992\n",
       "3       2    89774     Boxing story  1445715207\n",
       "4       2    89774              MMA  1445715200"
      ]
     },
     "execution_count": 8,
     "metadata": {},
     "output_type": "execute_result"
    }
   ],
   "source": [
    "# view the first 5 rows\n",
    "tags.head()"
   ]
  },
  {
   "cell_type": "code",
   "execution_count": 9,
   "id": "b5ec8ca0",
   "metadata": {
    "ExecuteTime": {
     "end_time": "2023-05-02T01:43:29.085396Z",
     "start_time": "2023-05-02T01:43:29.075711Z"
    }
   },
   "outputs": [
    {
     "name": "stdout",
     "output_type": "stream",
     "text": [
      "<class 'pandas.core.frame.DataFrame'>\n",
      "RangeIndex: 3683 entries, 0 to 3682\n",
      "Data columns (total 4 columns):\n",
      " #   Column     Non-Null Count  Dtype \n",
      "---  ------     --------------  ----- \n",
      " 0   userId     3683 non-null   int64 \n",
      " 1   movieId    3683 non-null   int64 \n",
      " 2   tag        3683 non-null   object\n",
      " 3   timestamp  3683 non-null   int64 \n",
      "dtypes: int64(3), object(1)\n",
      "memory usage: 115.2+ KB\n"
     ]
    }
   ],
   "source": [
    "# view data types record counts\n",
    "tags.info()"
   ]
  },
  {
   "cell_type": "code",
   "execution_count": 10,
   "id": "fec5d24e",
   "metadata": {
    "ExecuteTime": {
     "end_time": "2023-05-02T01:43:29.094892Z",
     "start_time": "2023-05-02T01:43:29.087636Z"
    }
   },
   "outputs": [
    {
     "data": {
      "text/plain": [
       "userId       0\n",
       "movieId      0\n",
       "tag          0\n",
       "timestamp    0\n",
       "dtype: int64"
      ]
     },
     "execution_count": 10,
     "metadata": {},
     "output_type": "execute_result"
    }
   ],
   "source": [
    "# check for missing values within any columns\n",
    "tags.isna().sum()"
   ]
  },
  {
   "cell_type": "markdown",
   "id": "565ff7d3",
   "metadata": {},
   "source": [
    "### Movies"
   ]
  },
  {
   "cell_type": "code",
   "execution_count": 11,
   "id": "dc8feb3e",
   "metadata": {
    "ExecuteTime": {
     "end_time": "2023-05-02T01:43:29.114412Z",
     "start_time": "2023-05-02T01:43:29.097565Z"
    }
   },
   "outputs": [],
   "source": [
    "# import ratings data file\n",
    "movies = pd.read_csv('data/movies.csv')"
   ]
  },
  {
   "cell_type": "code",
   "execution_count": 12,
   "id": "b985edf0",
   "metadata": {
    "ExecuteTime": {
     "end_time": "2023-05-02T01:43:29.127817Z",
     "start_time": "2023-05-02T01:43:29.117137Z"
    }
   },
   "outputs": [
    {
     "data": {
      "text/html": [
       "<div>\n",
       "<style scoped>\n",
       "    .dataframe tbody tr th:only-of-type {\n",
       "        vertical-align: middle;\n",
       "    }\n",
       "\n",
       "    .dataframe tbody tr th {\n",
       "        vertical-align: top;\n",
       "    }\n",
       "\n",
       "    .dataframe thead th {\n",
       "        text-align: right;\n",
       "    }\n",
       "</style>\n",
       "<table border=\"1\" class=\"dataframe\">\n",
       "  <thead>\n",
       "    <tr style=\"text-align: right;\">\n",
       "      <th></th>\n",
       "      <th>movieId</th>\n",
       "      <th>title</th>\n",
       "      <th>genres</th>\n",
       "    </tr>\n",
       "  </thead>\n",
       "  <tbody>\n",
       "    <tr>\n",
       "      <th>0</th>\n",
       "      <td>1</td>\n",
       "      <td>Toy Story (1995)</td>\n",
       "      <td>Adventure|Animation|Children|Comedy|Fantasy</td>\n",
       "    </tr>\n",
       "    <tr>\n",
       "      <th>1</th>\n",
       "      <td>2</td>\n",
       "      <td>Jumanji (1995)</td>\n",
       "      <td>Adventure|Children|Fantasy</td>\n",
       "    </tr>\n",
       "    <tr>\n",
       "      <th>2</th>\n",
       "      <td>3</td>\n",
       "      <td>Grumpier Old Men (1995)</td>\n",
       "      <td>Comedy|Romance</td>\n",
       "    </tr>\n",
       "    <tr>\n",
       "      <th>3</th>\n",
       "      <td>4</td>\n",
       "      <td>Waiting to Exhale (1995)</td>\n",
       "      <td>Comedy|Drama|Romance</td>\n",
       "    </tr>\n",
       "    <tr>\n",
       "      <th>4</th>\n",
       "      <td>5</td>\n",
       "      <td>Father of the Bride Part II (1995)</td>\n",
       "      <td>Comedy</td>\n",
       "    </tr>\n",
       "  </tbody>\n",
       "</table>\n",
       "</div>"
      ],
      "text/plain": [
       "   movieId                               title  \\\n",
       "0        1                    Toy Story (1995)   \n",
       "1        2                      Jumanji (1995)   \n",
       "2        3             Grumpier Old Men (1995)   \n",
       "3        4            Waiting to Exhale (1995)   \n",
       "4        5  Father of the Bride Part II (1995)   \n",
       "\n",
       "                                        genres  \n",
       "0  Adventure|Animation|Children|Comedy|Fantasy  \n",
       "1                   Adventure|Children|Fantasy  \n",
       "2                               Comedy|Romance  \n",
       "3                         Comedy|Drama|Romance  \n",
       "4                                       Comedy  "
      ]
     },
     "execution_count": 12,
     "metadata": {},
     "output_type": "execute_result"
    }
   ],
   "source": [
    "# view the first 5 rows\n",
    "movies.head()"
   ]
  },
  {
   "cell_type": "code",
   "execution_count": 13,
   "id": "36f1c029",
   "metadata": {
    "ExecuteTime": {
     "end_time": "2023-05-02T01:43:29.141303Z",
     "start_time": "2023-05-02T01:43:29.130709Z"
    },
    "scrolled": true
   },
   "outputs": [
    {
     "name": "stdout",
     "output_type": "stream",
     "text": [
      "<class 'pandas.core.frame.DataFrame'>\n",
      "RangeIndex: 9742 entries, 0 to 9741\n",
      "Data columns (total 3 columns):\n",
      " #   Column   Non-Null Count  Dtype \n",
      "---  ------   --------------  ----- \n",
      " 0   movieId  9742 non-null   int64 \n",
      " 1   title    9742 non-null   object\n",
      " 2   genres   9742 non-null   object\n",
      "dtypes: int64(1), object(2)\n",
      "memory usage: 228.5+ KB\n"
     ]
    }
   ],
   "source": [
    "# view data types record counts\n",
    "movies.info()"
   ]
  },
  {
   "cell_type": "code",
   "execution_count": 14,
   "id": "72cf98a0",
   "metadata": {
    "ExecuteTime": {
     "end_time": "2023-05-02T01:43:29.151697Z",
     "start_time": "2023-05-02T01:43:29.144073Z"
    },
    "scrolled": true
   },
   "outputs": [
    {
     "data": {
      "text/plain": [
       "movieId    0\n",
       "title      0\n",
       "genres     0\n",
       "dtype: int64"
      ]
     },
     "execution_count": 14,
     "metadata": {},
     "output_type": "execute_result"
    }
   ],
   "source": [
    "# check for missing values within any columns\n",
    "movies.isna().sum()"
   ]
  },
  {
   "cell_type": "code",
   "execution_count": 15,
   "id": "e675813e",
   "metadata": {
    "ExecuteTime": {
     "end_time": "2023-05-02T01:43:29.199953Z",
     "start_time": "2023-05-02T01:43:29.154190Z"
    }
   },
   "outputs": [
    {
     "data": {
      "text/html": [
       "<div>\n",
       "<style scoped>\n",
       "    .dataframe tbody tr th:only-of-type {\n",
       "        vertical-align: middle;\n",
       "    }\n",
       "\n",
       "    .dataframe tbody tr th {\n",
       "        vertical-align: top;\n",
       "    }\n",
       "\n",
       "    .dataframe thead th {\n",
       "        text-align: right;\n",
       "    }\n",
       "</style>\n",
       "<table border=\"1\" class=\"dataframe\">\n",
       "  <thead>\n",
       "    <tr style=\"text-align: right;\">\n",
       "      <th></th>\n",
       "      <th>genre_0</th>\n",
       "      <th>genre_1</th>\n",
       "      <th>genre_2</th>\n",
       "      <th>genre_3</th>\n",
       "      <th>genre_4</th>\n",
       "      <th>genre_5</th>\n",
       "      <th>genre_6</th>\n",
       "      <th>genre_7</th>\n",
       "      <th>genre_8</th>\n",
       "      <th>genre_9</th>\n",
       "    </tr>\n",
       "  </thead>\n",
       "  <tbody>\n",
       "    <tr>\n",
       "      <th>0</th>\n",
       "      <td>Adventure</td>\n",
       "      <td>Animation</td>\n",
       "      <td>Children</td>\n",
       "      <td>Comedy</td>\n",
       "      <td>Fantasy</td>\n",
       "      <td>None</td>\n",
       "      <td>None</td>\n",
       "      <td>None</td>\n",
       "      <td>None</td>\n",
       "      <td>None</td>\n",
       "    </tr>\n",
       "    <tr>\n",
       "      <th>1</th>\n",
       "      <td>Adventure</td>\n",
       "      <td>Children</td>\n",
       "      <td>Fantasy</td>\n",
       "      <td>None</td>\n",
       "      <td>None</td>\n",
       "      <td>None</td>\n",
       "      <td>None</td>\n",
       "      <td>None</td>\n",
       "      <td>None</td>\n",
       "      <td>None</td>\n",
       "    </tr>\n",
       "    <tr>\n",
       "      <th>2</th>\n",
       "      <td>Comedy</td>\n",
       "      <td>Romance</td>\n",
       "      <td>None</td>\n",
       "      <td>None</td>\n",
       "      <td>None</td>\n",
       "      <td>None</td>\n",
       "      <td>None</td>\n",
       "      <td>None</td>\n",
       "      <td>None</td>\n",
       "      <td>None</td>\n",
       "    </tr>\n",
       "    <tr>\n",
       "      <th>3</th>\n",
       "      <td>Comedy</td>\n",
       "      <td>Drama</td>\n",
       "      <td>Romance</td>\n",
       "      <td>None</td>\n",
       "      <td>None</td>\n",
       "      <td>None</td>\n",
       "      <td>None</td>\n",
       "      <td>None</td>\n",
       "      <td>None</td>\n",
       "      <td>None</td>\n",
       "    </tr>\n",
       "    <tr>\n",
       "      <th>4</th>\n",
       "      <td>Comedy</td>\n",
       "      <td>None</td>\n",
       "      <td>None</td>\n",
       "      <td>None</td>\n",
       "      <td>None</td>\n",
       "      <td>None</td>\n",
       "      <td>None</td>\n",
       "      <td>None</td>\n",
       "      <td>None</td>\n",
       "      <td>None</td>\n",
       "    </tr>\n",
       "  </tbody>\n",
       "</table>\n",
       "</div>"
      ],
      "text/plain": [
       "     genre_0    genre_1   genre_2 genre_3  genre_4 genre_5 genre_6 genre_7  \\\n",
       "0  Adventure  Animation  Children  Comedy  Fantasy    None    None    None   \n",
       "1  Adventure   Children   Fantasy    None     None    None    None    None   \n",
       "2     Comedy    Romance      None    None     None    None    None    None   \n",
       "3     Comedy      Drama   Romance    None     None    None    None    None   \n",
       "4     Comedy       None      None    None     None    None    None    None   \n",
       "\n",
       "  genre_8 genre_9  \n",
       "0    None    None  \n",
       "1    None    None  \n",
       "2    None    None  \n",
       "3    None    None  \n",
       "4    None    None  "
      ]
     },
     "execution_count": 15,
     "metadata": {},
     "output_type": "execute_result"
    }
   ],
   "source": [
    "# split out genres\n",
    "movie_genres = movies.genres.str.split(\"|\", expand = True).add_prefix('genre_')\n",
    "movie_genres.head()"
   ]
  },
  {
   "cell_type": "code",
   "execution_count": 16,
   "id": "9a360494",
   "metadata": {
    "ExecuteTime": {
     "end_time": "2023-05-02T01:43:29.213821Z",
     "start_time": "2023-05-02T01:43:29.202321Z"
    }
   },
   "outputs": [],
   "source": [
    "# concat df back together\n",
    "movies_2 = pd.concat([movies, movie_genres], axis=1)\n",
    "\n",
    "# drop old genres column\n",
    "movies_2.drop('genres', axis=1, inplace=True)"
   ]
  },
  {
   "cell_type": "code",
   "execution_count": 17,
   "id": "ae75299d",
   "metadata": {
    "ExecuteTime": {
     "end_time": "2023-05-02T01:43:29.231268Z",
     "start_time": "2023-05-02T01:43:29.216256Z"
    },
    "scrolled": true
   },
   "outputs": [
    {
     "data": {
      "text/html": [
       "<div>\n",
       "<style scoped>\n",
       "    .dataframe tbody tr th:only-of-type {\n",
       "        vertical-align: middle;\n",
       "    }\n",
       "\n",
       "    .dataframe tbody tr th {\n",
       "        vertical-align: top;\n",
       "    }\n",
       "\n",
       "    .dataframe thead th {\n",
       "        text-align: right;\n",
       "    }\n",
       "</style>\n",
       "<table border=\"1\" class=\"dataframe\">\n",
       "  <thead>\n",
       "    <tr style=\"text-align: right;\">\n",
       "      <th></th>\n",
       "      <th>movieId</th>\n",
       "      <th>title</th>\n",
       "      <th>genre_0</th>\n",
       "      <th>genre_1</th>\n",
       "      <th>genre_2</th>\n",
       "      <th>genre_3</th>\n",
       "      <th>genre_4</th>\n",
       "      <th>genre_5</th>\n",
       "      <th>genre_6</th>\n",
       "      <th>genre_7</th>\n",
       "      <th>genre_8</th>\n",
       "      <th>genre_9</th>\n",
       "    </tr>\n",
       "  </thead>\n",
       "  <tbody>\n",
       "    <tr>\n",
       "      <th>0</th>\n",
       "      <td>1</td>\n",
       "      <td>Toy Story (1995)</td>\n",
       "      <td>Adventure</td>\n",
       "      <td>Animation</td>\n",
       "      <td>Children</td>\n",
       "      <td>Comedy</td>\n",
       "      <td>Fantasy</td>\n",
       "      <td>None</td>\n",
       "      <td>None</td>\n",
       "      <td>None</td>\n",
       "      <td>None</td>\n",
       "      <td>None</td>\n",
       "    </tr>\n",
       "    <tr>\n",
       "      <th>1</th>\n",
       "      <td>2</td>\n",
       "      <td>Jumanji (1995)</td>\n",
       "      <td>Adventure</td>\n",
       "      <td>Children</td>\n",
       "      <td>Fantasy</td>\n",
       "      <td>None</td>\n",
       "      <td>None</td>\n",
       "      <td>None</td>\n",
       "      <td>None</td>\n",
       "      <td>None</td>\n",
       "      <td>None</td>\n",
       "      <td>None</td>\n",
       "    </tr>\n",
       "    <tr>\n",
       "      <th>2</th>\n",
       "      <td>3</td>\n",
       "      <td>Grumpier Old Men (1995)</td>\n",
       "      <td>Comedy</td>\n",
       "      <td>Romance</td>\n",
       "      <td>None</td>\n",
       "      <td>None</td>\n",
       "      <td>None</td>\n",
       "      <td>None</td>\n",
       "      <td>None</td>\n",
       "      <td>None</td>\n",
       "      <td>None</td>\n",
       "      <td>None</td>\n",
       "    </tr>\n",
       "    <tr>\n",
       "      <th>3</th>\n",
       "      <td>4</td>\n",
       "      <td>Waiting to Exhale (1995)</td>\n",
       "      <td>Comedy</td>\n",
       "      <td>Drama</td>\n",
       "      <td>Romance</td>\n",
       "      <td>None</td>\n",
       "      <td>None</td>\n",
       "      <td>None</td>\n",
       "      <td>None</td>\n",
       "      <td>None</td>\n",
       "      <td>None</td>\n",
       "      <td>None</td>\n",
       "    </tr>\n",
       "    <tr>\n",
       "      <th>4</th>\n",
       "      <td>5</td>\n",
       "      <td>Father of the Bride Part II (1995)</td>\n",
       "      <td>Comedy</td>\n",
       "      <td>None</td>\n",
       "      <td>None</td>\n",
       "      <td>None</td>\n",
       "      <td>None</td>\n",
       "      <td>None</td>\n",
       "      <td>None</td>\n",
       "      <td>None</td>\n",
       "      <td>None</td>\n",
       "      <td>None</td>\n",
       "    </tr>\n",
       "  </tbody>\n",
       "</table>\n",
       "</div>"
      ],
      "text/plain": [
       "   movieId                               title    genre_0    genre_1  \\\n",
       "0        1                    Toy Story (1995)  Adventure  Animation   \n",
       "1        2                      Jumanji (1995)  Adventure   Children   \n",
       "2        3             Grumpier Old Men (1995)     Comedy    Romance   \n",
       "3        4            Waiting to Exhale (1995)     Comedy      Drama   \n",
       "4        5  Father of the Bride Part II (1995)     Comedy       None   \n",
       "\n",
       "    genre_2 genre_3  genre_4 genre_5 genre_6 genre_7 genre_8 genre_9  \n",
       "0  Children  Comedy  Fantasy    None    None    None    None    None  \n",
       "1   Fantasy    None     None    None    None    None    None    None  \n",
       "2      None    None     None    None    None    None    None    None  \n",
       "3   Romance    None     None    None    None    None    None    None  \n",
       "4      None    None     None    None    None    None    None    None  "
      ]
     },
     "execution_count": 17,
     "metadata": {},
     "output_type": "execute_result"
    }
   ],
   "source": [
    "# view first 5 rows\n",
    "movies_2.head()"
   ]
  },
  {
   "cell_type": "markdown",
   "id": "d4aa0752",
   "metadata": {},
   "source": [
    "This looks great, however, I don't like how a single genre column could have more than one value.  It is hard for us to tell which are westerns as we would need to traverse multiple columns.  I am going to create now single columns for each genre, and a boolean flag so we can tell at a glance the movies and genre distributions."
   ]
  },
  {
   "cell_type": "code",
   "execution_count": 18,
   "id": "c319295e",
   "metadata": {
    "ExecuteTime": {
     "end_time": "2023-05-02T01:43:29.242087Z",
     "start_time": "2023-05-02T01:43:29.233468Z"
    }
   },
   "outputs": [
    {
     "data": {
      "text/plain": [
       "Comedy                2779\n",
       "Drama                 2226\n",
       "Action                1828\n",
       "Adventure              653\n",
       "Crime                  537\n",
       "Horror                 468\n",
       "Documentary            386\n",
       "Animation              298\n",
       "Children               197\n",
       "Thriller                84\n",
       "Sci-Fi                  62\n",
       "Mystery                 48\n",
       "Fantasy                 42\n",
       "Romance                 38\n",
       "(no genres listed)      34\n",
       "Western                 23\n",
       "Musical                 23\n",
       "Film-Noir               12\n",
       "War                      4\n",
       "Name: genre_0, dtype: int64"
      ]
     },
     "execution_count": 18,
     "metadata": {},
     "output_type": "execute_result"
    }
   ],
   "source": [
    "# viewing the first column of genres to start splitting out into our denormalized data frame\n",
    "movies_2['genre_0'].value_counts()"
   ]
  },
  {
   "cell_type": "code",
   "execution_count": 19,
   "id": "f43c8132",
   "metadata": {
    "ExecuteTime": {
     "end_time": "2023-05-02T01:43:29.247071Z",
     "start_time": "2023-05-02T01:43:29.244371Z"
    }
   },
   "outputs": [],
   "source": [
    "movies_denormal = movies"
   ]
  },
  {
   "cell_type": "code",
   "execution_count": 20,
   "id": "71dcf643",
   "metadata": {
    "ExecuteTime": {
     "end_time": "2023-05-02T01:43:29.260054Z",
     "start_time": "2023-05-02T01:43:29.249818Z"
    }
   },
   "outputs": [],
   "source": [
    "# comedies\n",
    "movies_denormal['Comedy'] = movies['genres'].str.contains(\"Comedy\", case=False)"
   ]
  },
  {
   "cell_type": "code",
   "execution_count": 21,
   "id": "37576803",
   "metadata": {
    "ExecuteTime": {
     "end_time": "2023-05-02T01:43:29.276701Z",
     "start_time": "2023-05-02T01:43:29.263396Z"
    }
   },
   "outputs": [],
   "source": [
    "# drama\n",
    "movies_denormal['Drama'] = movies['genres'].str.contains(\"Drama\", case=False)"
   ]
  },
  {
   "cell_type": "code",
   "execution_count": 22,
   "id": "8d6619e2",
   "metadata": {
    "ExecuteTime": {
     "end_time": "2023-05-02T01:43:29.292458Z",
     "start_time": "2023-05-02T01:43:29.280528Z"
    }
   },
   "outputs": [],
   "source": [
    "# action\n",
    "movies_denormal['Action'] = movies['genres'].str.contains(\"Action\", case=False)"
   ]
  },
  {
   "cell_type": "code",
   "execution_count": 23,
   "id": "57fd9f62",
   "metadata": {
    "ExecuteTime": {
     "end_time": "2023-05-02T01:43:29.311750Z",
     "start_time": "2023-05-02T01:43:29.301226Z"
    }
   },
   "outputs": [],
   "source": [
    "# adventure\n",
    "movies_denormal['Adventure'] = movies['genres'].str.contains(\"Adventure\", case=False)"
   ]
  },
  {
   "cell_type": "code",
   "execution_count": 24,
   "id": "1cc6e1fe",
   "metadata": {
    "ExecuteTime": {
     "end_time": "2023-05-02T01:43:29.328443Z",
     "start_time": "2023-05-02T01:43:29.316772Z"
    }
   },
   "outputs": [],
   "source": [
    "# crime\n",
    "movies_denormal['Crime'] = movies['genres'].str.contains(\"Crime\", case=False)"
   ]
  },
  {
   "cell_type": "code",
   "execution_count": 25,
   "id": "ab99a4b7",
   "metadata": {
    "ExecuteTime": {
     "end_time": "2023-05-02T01:43:29.343135Z",
     "start_time": "2023-05-02T01:43:29.332372Z"
    }
   },
   "outputs": [],
   "source": [
    "# horror\n",
    "movies_denormal['Horror'] = movies['genres'].str.contains(\"Horror\", case=False)"
   ]
  },
  {
   "cell_type": "code",
   "execution_count": 26,
   "id": "b4207840",
   "metadata": {
    "ExecuteTime": {
     "end_time": "2023-05-02T01:43:29.355823Z",
     "start_time": "2023-05-02T01:43:29.345466Z"
    }
   },
   "outputs": [],
   "source": [
    "# documentary\n",
    "movies_denormal['Documentary'] = movies['genres'].str.contains(\"Documentary\", case=False)"
   ]
  },
  {
   "cell_type": "code",
   "execution_count": 27,
   "id": "e0808297",
   "metadata": {
    "ExecuteTime": {
     "end_time": "2023-05-02T01:43:29.369842Z",
     "start_time": "2023-05-02T01:43:29.358536Z"
    }
   },
   "outputs": [],
   "source": [
    "# animation\n",
    "movies_denormal['Animation'] = movies['genres'].str.contains(\"Animation\", case=False)"
   ]
  },
  {
   "cell_type": "code",
   "execution_count": 28,
   "id": "c8b9add3",
   "metadata": {
    "ExecuteTime": {
     "end_time": "2023-05-02T01:43:29.384081Z",
     "start_time": "2023-05-02T01:43:29.372689Z"
    }
   },
   "outputs": [],
   "source": [
    "# children\n",
    "movies_denormal['Children'] = movies['genres'].str.contains(\"Children\", case=False)"
   ]
  },
  {
   "cell_type": "code",
   "execution_count": 29,
   "id": "3c228bd5",
   "metadata": {
    "ExecuteTime": {
     "end_time": "2023-05-02T01:43:29.398301Z",
     "start_time": "2023-05-02T01:43:29.386658Z"
    }
   },
   "outputs": [],
   "source": [
    "# thriller\n",
    "movies_denormal['Thriller'] = movies['genres'].str.contains(\"Thriller\", case=False)"
   ]
  },
  {
   "cell_type": "code",
   "execution_count": 30,
   "id": "df325d24",
   "metadata": {
    "ExecuteTime": {
     "end_time": "2023-05-02T01:43:29.412815Z",
     "start_time": "2023-05-02T01:43:29.400477Z"
    }
   },
   "outputs": [],
   "source": [
    "# sci-fi\n",
    "movies_denormal['Sci_Fi'] = movies['genres'].str.contains(\"Sci-Fi\", case=False)"
   ]
  },
  {
   "cell_type": "code",
   "execution_count": 31,
   "id": "6eff40dd",
   "metadata": {
    "ExecuteTime": {
     "end_time": "2023-05-02T01:43:29.426628Z",
     "start_time": "2023-05-02T01:43:29.415558Z"
    },
    "code_folding": []
   },
   "outputs": [],
   "source": [
    "# mystery\n",
    "movies_denormal['Mystery'] = movies['genres'].str.contains(\"Mystery\", case=False)"
   ]
  },
  {
   "cell_type": "code",
   "execution_count": 32,
   "id": "4dcb7b5a",
   "metadata": {
    "ExecuteTime": {
     "end_time": "2023-05-02T01:43:29.443002Z",
     "start_time": "2023-05-02T01:43:29.430596Z"
    }
   },
   "outputs": [],
   "source": [
    "# fantasy\n",
    "movies_denormal['Fantasy'] = movies['genres'].str.contains(\"Fantasy\", case=False)"
   ]
  },
  {
   "cell_type": "code",
   "execution_count": 33,
   "id": "c0499723",
   "metadata": {
    "ExecuteTime": {
     "end_time": "2023-05-02T01:43:29.457055Z",
     "start_time": "2023-05-02T01:43:29.445635Z"
    }
   },
   "outputs": [],
   "source": [
    "# romance\n",
    "movies_denormal['Romance'] = movies['genres'].str.contains(\"Romance\", case=False)"
   ]
  },
  {
   "cell_type": "code",
   "execution_count": 34,
   "id": "75e80344",
   "metadata": {
    "ExecuteTime": {
     "end_time": "2023-05-02T01:43:29.476578Z",
     "start_time": "2023-05-02T01:43:29.461555Z"
    }
   },
   "outputs": [
    {
     "name": "stderr",
     "output_type": "stream",
     "text": [
      "/var/folders/s8/hk0kxcr16nd9ymn3d5qp95900000gn/T/ipykernel_35007/1024631526.py:2: UserWarning: This pattern is interpreted as a regular expression, and has match groups. To actually get the groups, use str.extract.\n",
      "  movies_denormal['(no genres listed)'] = movies['genres'].str.contains(\"(no genres listed)\", case=False)\n"
     ]
    }
   ],
   "source": [
    "# (no genres listed)\n",
    "movies_denormal['(no genres listed)'] = movies['genres'].str.contains(\"(no genres listed)\", case=False)"
   ]
  },
  {
   "cell_type": "code",
   "execution_count": 35,
   "id": "43314875",
   "metadata": {
    "ExecuteTime": {
     "end_time": "2023-05-02T01:43:29.491125Z",
     "start_time": "2023-05-02T01:43:29.479275Z"
    }
   },
   "outputs": [],
   "source": [
    "# western\n",
    "movies_denormal['Western'] = movies['genres'].str.contains(\"Western\", case=False)"
   ]
  },
  {
   "cell_type": "code",
   "execution_count": 36,
   "id": "be33821c",
   "metadata": {
    "ExecuteTime": {
     "end_time": "2023-05-02T01:43:29.504692Z",
     "start_time": "2023-05-02T01:43:29.494379Z"
    }
   },
   "outputs": [],
   "source": [
    "# musical\n",
    "movies_denormal['Musical'] = movies['genres'].str.contains(\"Musical\", case=False)"
   ]
  },
  {
   "cell_type": "code",
   "execution_count": 37,
   "id": "fcb47293",
   "metadata": {
    "ExecuteTime": {
     "end_time": "2023-05-02T01:43:29.517111Z",
     "start_time": "2023-05-02T01:43:29.506901Z"
    }
   },
   "outputs": [],
   "source": [
    "# rilm-noir\n",
    "movies_denormal['Film-Noir'] = movies['genres'].str.contains(\"Film-Noir\", case=False)"
   ]
  },
  {
   "cell_type": "code",
   "execution_count": 38,
   "id": "77b0b67d",
   "metadata": {
    "ExecuteTime": {
     "end_time": "2023-05-02T01:43:29.533049Z",
     "start_time": "2023-05-02T01:43:29.519505Z"
    }
   },
   "outputs": [],
   "source": [
    "# war\n",
    "movies_denormal['War'] = movies['genres'].str.contains(\"War\", case=False)"
   ]
  },
  {
   "cell_type": "code",
   "execution_count": 39,
   "id": "2db9a49a",
   "metadata": {
    "ExecuteTime": {
     "end_time": "2023-05-02T01:43:29.578049Z",
     "start_time": "2023-05-02T01:43:29.537064Z"
    },
    "scrolled": false
   },
   "outputs": [
    {
     "data": {
      "text/html": [
       "<div>\n",
       "<style scoped>\n",
       "    .dataframe tbody tr th:only-of-type {\n",
       "        vertical-align: middle;\n",
       "    }\n",
       "\n",
       "    .dataframe tbody tr th {\n",
       "        vertical-align: top;\n",
       "    }\n",
       "\n",
       "    .dataframe thead th {\n",
       "        text-align: right;\n",
       "    }\n",
       "</style>\n",
       "<table border=\"1\" class=\"dataframe\">\n",
       "  <thead>\n",
       "    <tr style=\"text-align: right;\">\n",
       "      <th></th>\n",
       "      <th>movieId</th>\n",
       "      <th>title</th>\n",
       "      <th>Comedy</th>\n",
       "      <th>Drama</th>\n",
       "      <th>Action</th>\n",
       "      <th>Adventure</th>\n",
       "      <th>Crime</th>\n",
       "      <th>Horror</th>\n",
       "      <th>Documentary</th>\n",
       "      <th>Animation</th>\n",
       "      <th>...</th>\n",
       "      <th>Thriller</th>\n",
       "      <th>Sci_Fi</th>\n",
       "      <th>Mystery</th>\n",
       "      <th>Fantasy</th>\n",
       "      <th>Romance</th>\n",
       "      <th>(no genres listed)</th>\n",
       "      <th>Western</th>\n",
       "      <th>Musical</th>\n",
       "      <th>Film-Noir</th>\n",
       "      <th>War</th>\n",
       "    </tr>\n",
       "  </thead>\n",
       "  <tbody>\n",
       "    <tr>\n",
       "      <th>0</th>\n",
       "      <td>1</td>\n",
       "      <td>Toy Story (1995)</td>\n",
       "      <td>True</td>\n",
       "      <td>False</td>\n",
       "      <td>False</td>\n",
       "      <td>True</td>\n",
       "      <td>False</td>\n",
       "      <td>False</td>\n",
       "      <td>False</td>\n",
       "      <td>True</td>\n",
       "      <td>...</td>\n",
       "      <td>False</td>\n",
       "      <td>False</td>\n",
       "      <td>False</td>\n",
       "      <td>True</td>\n",
       "      <td>False</td>\n",
       "      <td>False</td>\n",
       "      <td>False</td>\n",
       "      <td>False</td>\n",
       "      <td>False</td>\n",
       "      <td>False</td>\n",
       "    </tr>\n",
       "    <tr>\n",
       "      <th>1</th>\n",
       "      <td>2</td>\n",
       "      <td>Jumanji (1995)</td>\n",
       "      <td>False</td>\n",
       "      <td>False</td>\n",
       "      <td>False</td>\n",
       "      <td>True</td>\n",
       "      <td>False</td>\n",
       "      <td>False</td>\n",
       "      <td>False</td>\n",
       "      <td>False</td>\n",
       "      <td>...</td>\n",
       "      <td>False</td>\n",
       "      <td>False</td>\n",
       "      <td>False</td>\n",
       "      <td>True</td>\n",
       "      <td>False</td>\n",
       "      <td>False</td>\n",
       "      <td>False</td>\n",
       "      <td>False</td>\n",
       "      <td>False</td>\n",
       "      <td>False</td>\n",
       "    </tr>\n",
       "    <tr>\n",
       "      <th>2</th>\n",
       "      <td>3</td>\n",
       "      <td>Grumpier Old Men (1995)</td>\n",
       "      <td>True</td>\n",
       "      <td>False</td>\n",
       "      <td>False</td>\n",
       "      <td>False</td>\n",
       "      <td>False</td>\n",
       "      <td>False</td>\n",
       "      <td>False</td>\n",
       "      <td>False</td>\n",
       "      <td>...</td>\n",
       "      <td>False</td>\n",
       "      <td>False</td>\n",
       "      <td>False</td>\n",
       "      <td>False</td>\n",
       "      <td>True</td>\n",
       "      <td>False</td>\n",
       "      <td>False</td>\n",
       "      <td>False</td>\n",
       "      <td>False</td>\n",
       "      <td>False</td>\n",
       "    </tr>\n",
       "    <tr>\n",
       "      <th>3</th>\n",
       "      <td>4</td>\n",
       "      <td>Waiting to Exhale (1995)</td>\n",
       "      <td>True</td>\n",
       "      <td>True</td>\n",
       "      <td>False</td>\n",
       "      <td>False</td>\n",
       "      <td>False</td>\n",
       "      <td>False</td>\n",
       "      <td>False</td>\n",
       "      <td>False</td>\n",
       "      <td>...</td>\n",
       "      <td>False</td>\n",
       "      <td>False</td>\n",
       "      <td>False</td>\n",
       "      <td>False</td>\n",
       "      <td>True</td>\n",
       "      <td>False</td>\n",
       "      <td>False</td>\n",
       "      <td>False</td>\n",
       "      <td>False</td>\n",
       "      <td>False</td>\n",
       "    </tr>\n",
       "    <tr>\n",
       "      <th>4</th>\n",
       "      <td>5</td>\n",
       "      <td>Father of the Bride Part II (1995)</td>\n",
       "      <td>True</td>\n",
       "      <td>False</td>\n",
       "      <td>False</td>\n",
       "      <td>False</td>\n",
       "      <td>False</td>\n",
       "      <td>False</td>\n",
       "      <td>False</td>\n",
       "      <td>False</td>\n",
       "      <td>...</td>\n",
       "      <td>False</td>\n",
       "      <td>False</td>\n",
       "      <td>False</td>\n",
       "      <td>False</td>\n",
       "      <td>False</td>\n",
       "      <td>False</td>\n",
       "      <td>False</td>\n",
       "      <td>False</td>\n",
       "      <td>False</td>\n",
       "      <td>False</td>\n",
       "    </tr>\n",
       "    <tr>\n",
       "      <th>...</th>\n",
       "      <td>...</td>\n",
       "      <td>...</td>\n",
       "      <td>...</td>\n",
       "      <td>...</td>\n",
       "      <td>...</td>\n",
       "      <td>...</td>\n",
       "      <td>...</td>\n",
       "      <td>...</td>\n",
       "      <td>...</td>\n",
       "      <td>...</td>\n",
       "      <td>...</td>\n",
       "      <td>...</td>\n",
       "      <td>...</td>\n",
       "      <td>...</td>\n",
       "      <td>...</td>\n",
       "      <td>...</td>\n",
       "      <td>...</td>\n",
       "      <td>...</td>\n",
       "      <td>...</td>\n",
       "      <td>...</td>\n",
       "      <td>...</td>\n",
       "    </tr>\n",
       "    <tr>\n",
       "      <th>9737</th>\n",
       "      <td>193581</td>\n",
       "      <td>Black Butler: Book of the Atlantic (2017)</td>\n",
       "      <td>True</td>\n",
       "      <td>False</td>\n",
       "      <td>True</td>\n",
       "      <td>False</td>\n",
       "      <td>False</td>\n",
       "      <td>False</td>\n",
       "      <td>False</td>\n",
       "      <td>True</td>\n",
       "      <td>...</td>\n",
       "      <td>False</td>\n",
       "      <td>False</td>\n",
       "      <td>False</td>\n",
       "      <td>True</td>\n",
       "      <td>False</td>\n",
       "      <td>False</td>\n",
       "      <td>False</td>\n",
       "      <td>False</td>\n",
       "      <td>False</td>\n",
       "      <td>False</td>\n",
       "    </tr>\n",
       "    <tr>\n",
       "      <th>9738</th>\n",
       "      <td>193583</td>\n",
       "      <td>No Game No Life: Zero (2017)</td>\n",
       "      <td>True</td>\n",
       "      <td>False</td>\n",
       "      <td>False</td>\n",
       "      <td>False</td>\n",
       "      <td>False</td>\n",
       "      <td>False</td>\n",
       "      <td>False</td>\n",
       "      <td>True</td>\n",
       "      <td>...</td>\n",
       "      <td>False</td>\n",
       "      <td>False</td>\n",
       "      <td>False</td>\n",
       "      <td>True</td>\n",
       "      <td>False</td>\n",
       "      <td>False</td>\n",
       "      <td>False</td>\n",
       "      <td>False</td>\n",
       "      <td>False</td>\n",
       "      <td>False</td>\n",
       "    </tr>\n",
       "    <tr>\n",
       "      <th>9739</th>\n",
       "      <td>193585</td>\n",
       "      <td>Flint (2017)</td>\n",
       "      <td>False</td>\n",
       "      <td>True</td>\n",
       "      <td>False</td>\n",
       "      <td>False</td>\n",
       "      <td>False</td>\n",
       "      <td>False</td>\n",
       "      <td>False</td>\n",
       "      <td>False</td>\n",
       "      <td>...</td>\n",
       "      <td>False</td>\n",
       "      <td>False</td>\n",
       "      <td>False</td>\n",
       "      <td>False</td>\n",
       "      <td>False</td>\n",
       "      <td>False</td>\n",
       "      <td>False</td>\n",
       "      <td>False</td>\n",
       "      <td>False</td>\n",
       "      <td>False</td>\n",
       "    </tr>\n",
       "    <tr>\n",
       "      <th>9740</th>\n",
       "      <td>193587</td>\n",
       "      <td>Bungo Stray Dogs: Dead Apple (2018)</td>\n",
       "      <td>False</td>\n",
       "      <td>False</td>\n",
       "      <td>True</td>\n",
       "      <td>False</td>\n",
       "      <td>False</td>\n",
       "      <td>False</td>\n",
       "      <td>False</td>\n",
       "      <td>True</td>\n",
       "      <td>...</td>\n",
       "      <td>False</td>\n",
       "      <td>False</td>\n",
       "      <td>False</td>\n",
       "      <td>False</td>\n",
       "      <td>False</td>\n",
       "      <td>False</td>\n",
       "      <td>False</td>\n",
       "      <td>False</td>\n",
       "      <td>False</td>\n",
       "      <td>False</td>\n",
       "    </tr>\n",
       "    <tr>\n",
       "      <th>9741</th>\n",
       "      <td>193609</td>\n",
       "      <td>Andrew Dice Clay: Dice Rules (1991)</td>\n",
       "      <td>True</td>\n",
       "      <td>False</td>\n",
       "      <td>False</td>\n",
       "      <td>False</td>\n",
       "      <td>False</td>\n",
       "      <td>False</td>\n",
       "      <td>False</td>\n",
       "      <td>False</td>\n",
       "      <td>...</td>\n",
       "      <td>False</td>\n",
       "      <td>False</td>\n",
       "      <td>False</td>\n",
       "      <td>False</td>\n",
       "      <td>False</td>\n",
       "      <td>False</td>\n",
       "      <td>False</td>\n",
       "      <td>False</td>\n",
       "      <td>False</td>\n",
       "      <td>False</td>\n",
       "    </tr>\n",
       "  </tbody>\n",
       "</table>\n",
       "<p>9742 rows × 21 columns</p>\n",
       "</div>"
      ],
      "text/plain": [
       "      movieId                                      title  Comedy  Drama  \\\n",
       "0           1                           Toy Story (1995)    True  False   \n",
       "1           2                             Jumanji (1995)   False  False   \n",
       "2           3                    Grumpier Old Men (1995)    True  False   \n",
       "3           4                   Waiting to Exhale (1995)    True   True   \n",
       "4           5         Father of the Bride Part II (1995)    True  False   \n",
       "...       ...                                        ...     ...    ...   \n",
       "9737   193581  Black Butler: Book of the Atlantic (2017)    True  False   \n",
       "9738   193583               No Game No Life: Zero (2017)    True  False   \n",
       "9739   193585                               Flint (2017)   False   True   \n",
       "9740   193587        Bungo Stray Dogs: Dead Apple (2018)   False  False   \n",
       "9741   193609        Andrew Dice Clay: Dice Rules (1991)    True  False   \n",
       "\n",
       "      Action  Adventure  Crime  Horror  Documentary  Animation  ...  Thriller  \\\n",
       "0      False       True  False   False        False       True  ...     False   \n",
       "1      False       True  False   False        False      False  ...     False   \n",
       "2      False      False  False   False        False      False  ...     False   \n",
       "3      False      False  False   False        False      False  ...     False   \n",
       "4      False      False  False   False        False      False  ...     False   \n",
       "...      ...        ...    ...     ...          ...        ...  ...       ...   \n",
       "9737    True      False  False   False        False       True  ...     False   \n",
       "9738   False      False  False   False        False       True  ...     False   \n",
       "9739   False      False  False   False        False      False  ...     False   \n",
       "9740    True      False  False   False        False       True  ...     False   \n",
       "9741   False      False  False   False        False      False  ...     False   \n",
       "\n",
       "      Sci_Fi  Mystery  Fantasy  Romance  (no genres listed)  Western  Musical  \\\n",
       "0      False    False     True    False               False    False    False   \n",
       "1      False    False     True    False               False    False    False   \n",
       "2      False    False    False     True               False    False    False   \n",
       "3      False    False    False     True               False    False    False   \n",
       "4      False    False    False    False               False    False    False   \n",
       "...      ...      ...      ...      ...                 ...      ...      ...   \n",
       "9737   False    False     True    False               False    False    False   \n",
       "9738   False    False     True    False               False    False    False   \n",
       "9739   False    False    False    False               False    False    False   \n",
       "9740   False    False    False    False               False    False    False   \n",
       "9741   False    False    False    False               False    False    False   \n",
       "\n",
       "      Film-Noir    War  \n",
       "0         False  False  \n",
       "1         False  False  \n",
       "2         False  False  \n",
       "3         False  False  \n",
       "4         False  False  \n",
       "...         ...    ...  \n",
       "9737      False  False  \n",
       "9738      False  False  \n",
       "9739      False  False  \n",
       "9740      False  False  \n",
       "9741      False  False  \n",
       "\n",
       "[9742 rows x 21 columns]"
      ]
     },
     "execution_count": 39,
     "metadata": {},
     "output_type": "execute_result"
    }
   ],
   "source": [
    "# now let's remove our string/ concatenated genres column\n",
    "movies_denormal.drop('genres', axis=1)"
   ]
  },
  {
   "cell_type": "markdown",
   "id": "264ca744",
   "metadata": {},
   "source": [
    "This now looks much better and will be easier to work with as we move forward with our EDA.  Worst case scenario, we transform back into one of the previous versions with movies, or movies2 datasets.  Now going to move on to further denomalize our data set by joining the other files onto a single data frame."
   ]
  },
  {
   "cell_type": "markdown",
   "id": "250c3a0c",
   "metadata": {},
   "source": [
    "### Join datasets together"
   ]
  },
  {
   "cell_type": "code",
   "execution_count": 40,
   "id": "f1e70e30",
   "metadata": {
    "ExecuteTime": {
     "end_time": "2023-05-02T01:43:29.637464Z",
     "start_time": "2023-05-02T01:43:29.580350Z"
    },
    "scrolled": true
   },
   "outputs": [
    {
     "data": {
      "text/html": [
       "<div>\n",
       "<style scoped>\n",
       "    .dataframe tbody tr th:only-of-type {\n",
       "        vertical-align: middle;\n",
       "    }\n",
       "\n",
       "    .dataframe tbody tr th {\n",
       "        vertical-align: top;\n",
       "    }\n",
       "\n",
       "    .dataframe thead th {\n",
       "        text-align: right;\n",
       "    }\n",
       "</style>\n",
       "<table border=\"1\" class=\"dataframe\">\n",
       "  <thead>\n",
       "    <tr style=\"text-align: right;\">\n",
       "      <th></th>\n",
       "      <th>movieId</th>\n",
       "      <th>title</th>\n",
       "      <th>genres</th>\n",
       "      <th>Comedy</th>\n",
       "      <th>Drama</th>\n",
       "      <th>Action</th>\n",
       "      <th>Adventure</th>\n",
       "      <th>Crime</th>\n",
       "      <th>Horror</th>\n",
       "      <th>Documentary</th>\n",
       "      <th>...</th>\n",
       "      <th>Fantasy</th>\n",
       "      <th>Romance</th>\n",
       "      <th>(no genres listed)</th>\n",
       "      <th>Western</th>\n",
       "      <th>Musical</th>\n",
       "      <th>Film-Noir</th>\n",
       "      <th>War</th>\n",
       "      <th>userId</th>\n",
       "      <th>rating</th>\n",
       "      <th>timestamp</th>\n",
       "    </tr>\n",
       "  </thead>\n",
       "  <tbody>\n",
       "    <tr>\n",
       "      <th>0</th>\n",
       "      <td>1</td>\n",
       "      <td>Toy Story (1995)</td>\n",
       "      <td>Adventure|Animation|Children|Comedy|Fantasy</td>\n",
       "      <td>True</td>\n",
       "      <td>False</td>\n",
       "      <td>False</td>\n",
       "      <td>True</td>\n",
       "      <td>False</td>\n",
       "      <td>False</td>\n",
       "      <td>False</td>\n",
       "      <td>...</td>\n",
       "      <td>True</td>\n",
       "      <td>False</td>\n",
       "      <td>False</td>\n",
       "      <td>False</td>\n",
       "      <td>False</td>\n",
       "      <td>False</td>\n",
       "      <td>False</td>\n",
       "      <td>1.0</td>\n",
       "      <td>4.0</td>\n",
       "      <td>9.649827e+08</td>\n",
       "    </tr>\n",
       "    <tr>\n",
       "      <th>1</th>\n",
       "      <td>1</td>\n",
       "      <td>Toy Story (1995)</td>\n",
       "      <td>Adventure|Animation|Children|Comedy|Fantasy</td>\n",
       "      <td>True</td>\n",
       "      <td>False</td>\n",
       "      <td>False</td>\n",
       "      <td>True</td>\n",
       "      <td>False</td>\n",
       "      <td>False</td>\n",
       "      <td>False</td>\n",
       "      <td>...</td>\n",
       "      <td>True</td>\n",
       "      <td>False</td>\n",
       "      <td>False</td>\n",
       "      <td>False</td>\n",
       "      <td>False</td>\n",
       "      <td>False</td>\n",
       "      <td>False</td>\n",
       "      <td>5.0</td>\n",
       "      <td>4.0</td>\n",
       "      <td>8.474350e+08</td>\n",
       "    </tr>\n",
       "    <tr>\n",
       "      <th>2</th>\n",
       "      <td>1</td>\n",
       "      <td>Toy Story (1995)</td>\n",
       "      <td>Adventure|Animation|Children|Comedy|Fantasy</td>\n",
       "      <td>True</td>\n",
       "      <td>False</td>\n",
       "      <td>False</td>\n",
       "      <td>True</td>\n",
       "      <td>False</td>\n",
       "      <td>False</td>\n",
       "      <td>False</td>\n",
       "      <td>...</td>\n",
       "      <td>True</td>\n",
       "      <td>False</td>\n",
       "      <td>False</td>\n",
       "      <td>False</td>\n",
       "      <td>False</td>\n",
       "      <td>False</td>\n",
       "      <td>False</td>\n",
       "      <td>7.0</td>\n",
       "      <td>4.5</td>\n",
       "      <td>1.106636e+09</td>\n",
       "    </tr>\n",
       "    <tr>\n",
       "      <th>3</th>\n",
       "      <td>1</td>\n",
       "      <td>Toy Story (1995)</td>\n",
       "      <td>Adventure|Animation|Children|Comedy|Fantasy</td>\n",
       "      <td>True</td>\n",
       "      <td>False</td>\n",
       "      <td>False</td>\n",
       "      <td>True</td>\n",
       "      <td>False</td>\n",
       "      <td>False</td>\n",
       "      <td>False</td>\n",
       "      <td>...</td>\n",
       "      <td>True</td>\n",
       "      <td>False</td>\n",
       "      <td>False</td>\n",
       "      <td>False</td>\n",
       "      <td>False</td>\n",
       "      <td>False</td>\n",
       "      <td>False</td>\n",
       "      <td>15.0</td>\n",
       "      <td>2.5</td>\n",
       "      <td>1.510578e+09</td>\n",
       "    </tr>\n",
       "    <tr>\n",
       "      <th>4</th>\n",
       "      <td>1</td>\n",
       "      <td>Toy Story (1995)</td>\n",
       "      <td>Adventure|Animation|Children|Comedy|Fantasy</td>\n",
       "      <td>True</td>\n",
       "      <td>False</td>\n",
       "      <td>False</td>\n",
       "      <td>True</td>\n",
       "      <td>False</td>\n",
       "      <td>False</td>\n",
       "      <td>False</td>\n",
       "      <td>...</td>\n",
       "      <td>True</td>\n",
       "      <td>False</td>\n",
       "      <td>False</td>\n",
       "      <td>False</td>\n",
       "      <td>False</td>\n",
       "      <td>False</td>\n",
       "      <td>False</td>\n",
       "      <td>17.0</td>\n",
       "      <td>4.5</td>\n",
       "      <td>1.305696e+09</td>\n",
       "    </tr>\n",
       "  </tbody>\n",
       "</table>\n",
       "<p>5 rows × 25 columns</p>\n",
       "</div>"
      ],
      "text/plain": [
       "   movieId             title                                       genres  \\\n",
       "0        1  Toy Story (1995)  Adventure|Animation|Children|Comedy|Fantasy   \n",
       "1        1  Toy Story (1995)  Adventure|Animation|Children|Comedy|Fantasy   \n",
       "2        1  Toy Story (1995)  Adventure|Animation|Children|Comedy|Fantasy   \n",
       "3        1  Toy Story (1995)  Adventure|Animation|Children|Comedy|Fantasy   \n",
       "4        1  Toy Story (1995)  Adventure|Animation|Children|Comedy|Fantasy   \n",
       "\n",
       "   Comedy  Drama  Action  Adventure  Crime  Horror  Documentary  ...  Fantasy  \\\n",
       "0    True  False   False       True  False   False        False  ...     True   \n",
       "1    True  False   False       True  False   False        False  ...     True   \n",
       "2    True  False   False       True  False   False        False  ...     True   \n",
       "3    True  False   False       True  False   False        False  ...     True   \n",
       "4    True  False   False       True  False   False        False  ...     True   \n",
       "\n",
       "   Romance  (no genres listed)  Western  Musical  Film-Noir    War  userId  \\\n",
       "0    False               False    False    False      False  False     1.0   \n",
       "1    False               False    False    False      False  False     5.0   \n",
       "2    False               False    False    False      False  False     7.0   \n",
       "3    False               False    False    False      False  False    15.0   \n",
       "4    False               False    False    False      False  False    17.0   \n",
       "\n",
       "   rating     timestamp  \n",
       "0     4.0  9.649827e+08  \n",
       "1     4.0  8.474350e+08  \n",
       "2     4.5  1.106636e+09  \n",
       "3     2.5  1.510578e+09  \n",
       "4     4.5  1.305696e+09  \n",
       "\n",
       "[5 rows x 25 columns]"
      ]
     },
     "execution_count": 40,
     "metadata": {},
     "output_type": "execute_result"
    }
   ],
   "source": [
    "# joining movies onto tags\n",
    "denormal = pd.merge(\n",
    "    movies,\n",
    "    ratings,\n",
    "    how=\"left\",\n",
    "    on='movieId'\n",
    ")\n",
    "\n",
    "denormal.head()\n"
   ]
  },
  {
   "cell_type": "code",
   "execution_count": 41,
   "id": "c9e71958",
   "metadata": {
    "ExecuteTime": {
     "end_time": "2023-05-02T01:43:29.672561Z",
     "start_time": "2023-05-02T01:43:29.640646Z"
    }
   },
   "outputs": [
    {
     "data": {
      "text/html": [
       "<div>\n",
       "<style scoped>\n",
       "    .dataframe tbody tr th:only-of-type {\n",
       "        vertical-align: middle;\n",
       "    }\n",
       "\n",
       "    .dataframe tbody tr th {\n",
       "        vertical-align: top;\n",
       "    }\n",
       "\n",
       "    .dataframe thead th {\n",
       "        text-align: right;\n",
       "    }\n",
       "</style>\n",
       "<table border=\"1\" class=\"dataframe\">\n",
       "  <thead>\n",
       "    <tr style=\"text-align: right;\">\n",
       "      <th></th>\n",
       "      <th>userId</th>\n",
       "      <th>movieId</th>\n",
       "      <th>tag</th>\n",
       "      <th>timestamp</th>\n",
       "      <th>title</th>\n",
       "      <th>genres</th>\n",
       "      <th>Comedy</th>\n",
       "      <th>Drama</th>\n",
       "      <th>Action</th>\n",
       "      <th>Adventure</th>\n",
       "      <th>...</th>\n",
       "      <th>Thriller</th>\n",
       "      <th>Sci_Fi</th>\n",
       "      <th>Mystery</th>\n",
       "      <th>Fantasy</th>\n",
       "      <th>Romance</th>\n",
       "      <th>(no genres listed)</th>\n",
       "      <th>Western</th>\n",
       "      <th>Musical</th>\n",
       "      <th>Film-Noir</th>\n",
       "      <th>War</th>\n",
       "    </tr>\n",
       "  </thead>\n",
       "  <tbody>\n",
       "    <tr>\n",
       "      <th>0</th>\n",
       "      <td>2</td>\n",
       "      <td>60756</td>\n",
       "      <td>funny</td>\n",
       "      <td>1445714994</td>\n",
       "      <td>Step Brothers (2008)</td>\n",
       "      <td>Comedy</td>\n",
       "      <td>True</td>\n",
       "      <td>False</td>\n",
       "      <td>False</td>\n",
       "      <td>False</td>\n",
       "      <td>...</td>\n",
       "      <td>False</td>\n",
       "      <td>False</td>\n",
       "      <td>False</td>\n",
       "      <td>False</td>\n",
       "      <td>False</td>\n",
       "      <td>False</td>\n",
       "      <td>False</td>\n",
       "      <td>False</td>\n",
       "      <td>False</td>\n",
       "      <td>False</td>\n",
       "    </tr>\n",
       "    <tr>\n",
       "      <th>1</th>\n",
       "      <td>2</td>\n",
       "      <td>60756</td>\n",
       "      <td>Highly quotable</td>\n",
       "      <td>1445714996</td>\n",
       "      <td>Step Brothers (2008)</td>\n",
       "      <td>Comedy</td>\n",
       "      <td>True</td>\n",
       "      <td>False</td>\n",
       "      <td>False</td>\n",
       "      <td>False</td>\n",
       "      <td>...</td>\n",
       "      <td>False</td>\n",
       "      <td>False</td>\n",
       "      <td>False</td>\n",
       "      <td>False</td>\n",
       "      <td>False</td>\n",
       "      <td>False</td>\n",
       "      <td>False</td>\n",
       "      <td>False</td>\n",
       "      <td>False</td>\n",
       "      <td>False</td>\n",
       "    </tr>\n",
       "    <tr>\n",
       "      <th>2</th>\n",
       "      <td>2</td>\n",
       "      <td>60756</td>\n",
       "      <td>will ferrell</td>\n",
       "      <td>1445714992</td>\n",
       "      <td>Step Brothers (2008)</td>\n",
       "      <td>Comedy</td>\n",
       "      <td>True</td>\n",
       "      <td>False</td>\n",
       "      <td>False</td>\n",
       "      <td>False</td>\n",
       "      <td>...</td>\n",
       "      <td>False</td>\n",
       "      <td>False</td>\n",
       "      <td>False</td>\n",
       "      <td>False</td>\n",
       "      <td>False</td>\n",
       "      <td>False</td>\n",
       "      <td>False</td>\n",
       "      <td>False</td>\n",
       "      <td>False</td>\n",
       "      <td>False</td>\n",
       "    </tr>\n",
       "    <tr>\n",
       "      <th>3</th>\n",
       "      <td>2</td>\n",
       "      <td>89774</td>\n",
       "      <td>Boxing story</td>\n",
       "      <td>1445715207</td>\n",
       "      <td>Warrior (2011)</td>\n",
       "      <td>Drama</td>\n",
       "      <td>False</td>\n",
       "      <td>True</td>\n",
       "      <td>False</td>\n",
       "      <td>False</td>\n",
       "      <td>...</td>\n",
       "      <td>False</td>\n",
       "      <td>False</td>\n",
       "      <td>False</td>\n",
       "      <td>False</td>\n",
       "      <td>False</td>\n",
       "      <td>False</td>\n",
       "      <td>False</td>\n",
       "      <td>False</td>\n",
       "      <td>False</td>\n",
       "      <td>False</td>\n",
       "    </tr>\n",
       "    <tr>\n",
       "      <th>4</th>\n",
       "      <td>2</td>\n",
       "      <td>89774</td>\n",
       "      <td>MMA</td>\n",
       "      <td>1445715200</td>\n",
       "      <td>Warrior (2011)</td>\n",
       "      <td>Drama</td>\n",
       "      <td>False</td>\n",
       "      <td>True</td>\n",
       "      <td>False</td>\n",
       "      <td>False</td>\n",
       "      <td>...</td>\n",
       "      <td>False</td>\n",
       "      <td>False</td>\n",
       "      <td>False</td>\n",
       "      <td>False</td>\n",
       "      <td>False</td>\n",
       "      <td>False</td>\n",
       "      <td>False</td>\n",
       "      <td>False</td>\n",
       "      <td>False</td>\n",
       "      <td>False</td>\n",
       "    </tr>\n",
       "  </tbody>\n",
       "</table>\n",
       "<p>5 rows × 25 columns</p>\n",
       "</div>"
      ],
      "text/plain": [
       "   userId  movieId              tag   timestamp                 title  genres  \\\n",
       "0       2    60756            funny  1445714994  Step Brothers (2008)  Comedy   \n",
       "1       2    60756  Highly quotable  1445714996  Step Brothers (2008)  Comedy   \n",
       "2       2    60756     will ferrell  1445714992  Step Brothers (2008)  Comedy   \n",
       "3       2    89774     Boxing story  1445715207        Warrior (2011)   Drama   \n",
       "4       2    89774              MMA  1445715200        Warrior (2011)   Drama   \n",
       "\n",
       "   Comedy  Drama  Action  Adventure  ...  Thriller  Sci_Fi  Mystery  Fantasy  \\\n",
       "0    True  False   False      False  ...     False   False    False    False   \n",
       "1    True  False   False      False  ...     False   False    False    False   \n",
       "2    True  False   False      False  ...     False   False    False    False   \n",
       "3   False   True   False      False  ...     False   False    False    False   \n",
       "4   False   True   False      False  ...     False   False    False    False   \n",
       "\n",
       "   Romance  (no genres listed)  Western  Musical  Film-Noir    War  \n",
       "0    False               False    False    False      False  False  \n",
       "1    False               False    False    False      False  False  \n",
       "2    False               False    False    False      False  False  \n",
       "3    False               False    False    False      False  False  \n",
       "4    False               False    False    False      False  False  \n",
       "\n",
       "[5 rows x 25 columns]"
      ]
     },
     "execution_count": 41,
     "metadata": {},
     "output_type": "execute_result"
    }
   ],
   "source": [
    "# joining movies onto tags\n",
    "denormal = pd.merge(\n",
    "    tags,\n",
    "    movies,\n",
    "    how=\"left\",\n",
    "    on='movieId'\n",
    ")\n",
    "\n",
    "denormal.head()\n"
   ]
  },
  {
   "cell_type": "markdown",
   "id": "c0ad1a86",
   "metadata": {
    "ExecuteTime": {
     "end_time": "2023-03-16T01:25:51.687030Z",
     "start_time": "2023-03-16T01:25:51.684549Z"
    }
   },
   "source": [
    "# Exploratory Data Analysis"
   ]
  },
  {
   "cell_type": "code",
   "execution_count": 44,
   "id": "ea30fe94",
   "metadata": {
    "ExecuteTime": {
     "end_time": "2023-05-02T01:43:36.997707Z",
     "start_time": "2023-05-02T01:43:36.964340Z"
    },
    "scrolled": true
   },
   "outputs": [
    {
     "data": {
      "text/html": [
       "<div>\n",
       "<style scoped>\n",
       "    .dataframe tbody tr th:only-of-type {\n",
       "        vertical-align: middle;\n",
       "    }\n",
       "\n",
       "    .dataframe tbody tr th {\n",
       "        vertical-align: top;\n",
       "    }\n",
       "\n",
       "    .dataframe thead th {\n",
       "        text-align: right;\n",
       "    }\n",
       "</style>\n",
       "<table border=\"1\" class=\"dataframe\">\n",
       "  <thead>\n",
       "    <tr style=\"text-align: right;\">\n",
       "      <th></th>\n",
       "      <th>userId</th>\n",
       "      <th>movieId</th>\n",
       "      <th>rating</th>\n",
       "      <th>timestamp</th>\n",
       "    </tr>\n",
       "  </thead>\n",
       "  <tbody>\n",
       "    <tr>\n",
       "      <th>count</th>\n",
       "      <td>100836.000000</td>\n",
       "      <td>100836.000000</td>\n",
       "      <td>100836.000000</td>\n",
       "      <td>1.008360e+05</td>\n",
       "    </tr>\n",
       "    <tr>\n",
       "      <th>mean</th>\n",
       "      <td>326.127564</td>\n",
       "      <td>19435.295718</td>\n",
       "      <td>3.501557</td>\n",
       "      <td>1.205946e+09</td>\n",
       "    </tr>\n",
       "    <tr>\n",
       "      <th>std</th>\n",
       "      <td>182.618491</td>\n",
       "      <td>35530.987199</td>\n",
       "      <td>1.042529</td>\n",
       "      <td>2.162610e+08</td>\n",
       "    </tr>\n",
       "    <tr>\n",
       "      <th>min</th>\n",
       "      <td>1.000000</td>\n",
       "      <td>1.000000</td>\n",
       "      <td>0.500000</td>\n",
       "      <td>8.281246e+08</td>\n",
       "    </tr>\n",
       "    <tr>\n",
       "      <th>25%</th>\n",
       "      <td>177.000000</td>\n",
       "      <td>1199.000000</td>\n",
       "      <td>3.000000</td>\n",
       "      <td>1.019124e+09</td>\n",
       "    </tr>\n",
       "    <tr>\n",
       "      <th>50%</th>\n",
       "      <td>325.000000</td>\n",
       "      <td>2991.000000</td>\n",
       "      <td>3.500000</td>\n",
       "      <td>1.186087e+09</td>\n",
       "    </tr>\n",
       "    <tr>\n",
       "      <th>75%</th>\n",
       "      <td>477.000000</td>\n",
       "      <td>8122.000000</td>\n",
       "      <td>4.000000</td>\n",
       "      <td>1.435994e+09</td>\n",
       "    </tr>\n",
       "    <tr>\n",
       "      <th>max</th>\n",
       "      <td>610.000000</td>\n",
       "      <td>193609.000000</td>\n",
       "      <td>5.000000</td>\n",
       "      <td>1.537799e+09</td>\n",
       "    </tr>\n",
       "  </tbody>\n",
       "</table>\n",
       "</div>"
      ],
      "text/plain": [
       "              userId        movieId         rating     timestamp\n",
       "count  100836.000000  100836.000000  100836.000000  1.008360e+05\n",
       "mean      326.127564   19435.295718       3.501557  1.205946e+09\n",
       "std       182.618491   35530.987199       1.042529  2.162610e+08\n",
       "min         1.000000       1.000000       0.500000  8.281246e+08\n",
       "25%       177.000000    1199.000000       3.000000  1.019124e+09\n",
       "50%       325.000000    2991.000000       3.500000  1.186087e+09\n",
       "75%       477.000000    8122.000000       4.000000  1.435994e+09\n",
       "max       610.000000  193609.000000       5.000000  1.537799e+09"
      ]
     },
     "execution_count": 44,
     "metadata": {},
     "output_type": "execute_result"
    }
   ],
   "source": [
    "# views the ratings dataset and high level stats.\n",
    "ratings.describe()"
   ]
  },
  {
   "cell_type": "code",
   "execution_count": 45,
   "id": "c47c3ad7",
   "metadata": {
    "ExecuteTime": {
     "end_time": "2023-05-02T01:43:37.154620Z",
     "start_time": "2023-05-02T01:43:37.149495Z"
    },
    "scrolled": true
   },
   "outputs": [
    {
     "name": "stdout",
     "output_type": "stream",
     "text": [
      "The data set contains 9724 distinct movies with at least 1 rating.\n"
     ]
    }
   ],
   "source": [
    "# of distinct movies/ movieIds\n",
    "movie_count = str(ratings['movieId'].nunique())\n",
    "\n",
    "print(\"The data set contains \" + movie_count + \" distinct movies with at least 1 rating.\")"
   ]
  },
  {
   "cell_type": "code",
   "execution_count": 46,
   "id": "82c14e57",
   "metadata": {
    "ExecuteTime": {
     "end_time": "2023-05-02T01:43:37.757337Z",
     "start_time": "2023-05-02T01:43:37.752935Z"
    }
   },
   "outputs": [
    {
     "name": "stdout",
     "output_type": "stream",
     "text": [
      "The data set contains 610 distinct users with at least 1 rating.\n"
     ]
    }
   ],
   "source": [
    "# of distinct users/ userIds\n",
    "user_count = str(ratings['userId'].nunique())\n",
    "\n",
    "print(\"The data set contains \" + user_count + \" distinct users with at least 1 rating.\")"
   ]
  },
  {
   "cell_type": "code",
   "execution_count": 47,
   "id": "27fef698",
   "metadata": {
    "ExecuteTime": {
     "end_time": "2023-05-02T01:43:37.958172Z",
     "start_time": "2023-05-02T01:43:37.954600Z"
    }
   },
   "outputs": [
    {
     "name": "stdout",
     "output_type": "stream",
     "text": [
      "The data set contains 100836 ratings.\n"
     ]
    }
   ],
   "source": [
    "# of ratings\n",
    "review_count = str(ratings['userId'].count())\n",
    "\n",
    "print(\"The data set contains \" + review_count + \" ratings.\")"
   ]
  },
  {
   "cell_type": "code",
   "execution_count": 48,
   "id": "3b5eb623",
   "metadata": {
    "ExecuteTime": {
     "end_time": "2023-05-02T01:43:38.140746Z",
     "start_time": "2023-05-02T01:43:38.133250Z"
    },
    "scrolled": true
   },
   "outputs": [
    {
     "name": "stdout",
     "output_type": "stream",
     "text": [
      "The average review for all movies is 3.5, and the median review for all movies is 3.5.\n"
     ]
    }
   ],
   "source": [
    "# average and median reviews\n",
    "avg_review = str(round(ratings.rating.mean(),2))\n",
    "med_review = str(round(ratings.rating.median(),2))\n",
    "\n",
    "print(\"The average review for all movies is \" \n",
    "      + avg_review \n",
    "      + \", and the median review for all movies is \" \n",
    "      + med_review \n",
    "      + \".\")"
   ]
  },
  {
   "cell_type": "code",
   "execution_count": 54,
   "id": "6770d5fa",
   "metadata": {
    "ExecuteTime": {
     "end_time": "2023-05-02T01:46:43.468427Z",
     "start_time": "2023-05-02T01:46:43.224883Z"
    }
   },
   "outputs": [
    {
     "data": {
      "image/png": "[encoded data removed]",
      "text/plain": [
       "<Figure size 1600x800 with 1 Axes>"
      ]
     },
     "metadata": {},
     "output_type": "display_data"
    }
   ],
   "source": [
    "# show total number of ratings by rating score\n",
    "fig, ax = plt.subplots(figsize=(16,8))\n",
    "\n",
    "ax.set_title('# of Ratings by Rating Score')\n",
    "\n",
    "\n",
    "bp = sns.countplot(data=ratings, \n",
    "            y='rating', \n",
    "            color=pal[5]\n",
    "            )\n",
    "\n",
    "bp.set_ylabel('Rating')\n",
    "bp.set_xlabel('# of Ratings')\n",
    "fmt = '{x:,.0f}'\n",
    "tick = mtick.StrMethodFormatter(fmt)\n",
    "ax.xaxis.set_major_formatter(tick)"
   ]
  },
  {
   "cell_type": "markdown",
   "id": "4bc3b35e",
   "metadata": {},
   "source": [
    "Not surprisingly it looks like the most ratings are between 3 to 5.  I believe this is pretty common for these types of reviews.  Let's continue to move on and see if there are other insights into genre, or year reviewed."
   ]
  },
  {
   "cell_type": "code",
   "execution_count": 60,
   "id": "0e3cf3b6",
   "metadata": {
    "ExecuteTime": {
     "end_time": "2023-05-02T01:43:38.655187Z",
     "start_time": "2023-05-02T01:43:38.633350Z"
    }
   },
   "outputs": [],
   "source": [
    "# adjusting datetime epoch to a date so we can plot ratings over time\n",
    "ratings['year'] = pd.to_datetime(ratings['timestamp'], unit='s').dt.year"
   ]
  },
  {
   "cell_type": "code",
   "execution_count": 61,
   "id": "d804503f",
   "metadata": {
    "ExecuteTime": {
     "end_time": "2023-05-02T01:43:38.967131Z",
     "start_time": "2023-05-02T01:43:38.948002Z"
    }
   },
   "outputs": [
    {
     "data": {
      "text/html": [
       "<div>\n",
       "<style scoped>\n",
       "    .dataframe tbody tr th:only-of-type {\n",
       "        vertical-align: middle;\n",
       "    }\n",
       "\n",
       "    .dataframe tbody tr th {\n",
       "        vertical-align: top;\n",
       "    }\n",
       "\n",
       "    .dataframe thead th {\n",
       "        text-align: right;\n",
       "    }\n",
       "</style>\n",
       "<table border=\"1\" class=\"dataframe\">\n",
       "  <thead>\n",
       "    <tr style=\"text-align: right;\">\n",
       "      <th></th>\n",
       "      <th>userId</th>\n",
       "      <th>movieId</th>\n",
       "      <th>rating</th>\n",
       "      <th>year</th>\n",
       "    </tr>\n",
       "  </thead>\n",
       "  <tbody>\n",
       "    <tr>\n",
       "      <th>0</th>\n",
       "      <td>1</td>\n",
       "      <td>1</td>\n",
       "      <td>4.0</td>\n",
       "      <td>2000</td>\n",
       "    </tr>\n",
       "    <tr>\n",
       "      <th>1</th>\n",
       "      <td>1</td>\n",
       "      <td>3</td>\n",
       "      <td>4.0</td>\n",
       "      <td>2000</td>\n",
       "    </tr>\n",
       "    <tr>\n",
       "      <th>2</th>\n",
       "      <td>1</td>\n",
       "      <td>6</td>\n",
       "      <td>4.0</td>\n",
       "      <td>2000</td>\n",
       "    </tr>\n",
       "    <tr>\n",
       "      <th>3</th>\n",
       "      <td>1</td>\n",
       "      <td>47</td>\n",
       "      <td>5.0</td>\n",
       "      <td>2000</td>\n",
       "    </tr>\n",
       "    <tr>\n",
       "      <th>4</th>\n",
       "      <td>1</td>\n",
       "      <td>50</td>\n",
       "      <td>5.0</td>\n",
       "      <td>2000</td>\n",
       "    </tr>\n",
       "    <tr>\n",
       "      <th>...</th>\n",
       "      <td>...</td>\n",
       "      <td>...</td>\n",
       "      <td>...</td>\n",
       "      <td>...</td>\n",
       "    </tr>\n",
       "    <tr>\n",
       "      <th>100831</th>\n",
       "      <td>610</td>\n",
       "      <td>166534</td>\n",
       "      <td>4.0</td>\n",
       "      <td>2017</td>\n",
       "    </tr>\n",
       "    <tr>\n",
       "      <th>100832</th>\n",
       "      <td>610</td>\n",
       "      <td>168248</td>\n",
       "      <td>5.0</td>\n",
       "      <td>2017</td>\n",
       "    </tr>\n",
       "    <tr>\n",
       "      <th>100833</th>\n",
       "      <td>610</td>\n",
       "      <td>168250</td>\n",
       "      <td>5.0</td>\n",
       "      <td>2017</td>\n",
       "    </tr>\n",
       "    <tr>\n",
       "      <th>100834</th>\n",
       "      <td>610</td>\n",
       "      <td>168252</td>\n",
       "      <td>5.0</td>\n",
       "      <td>2017</td>\n",
       "    </tr>\n",
       "    <tr>\n",
       "      <th>100835</th>\n",
       "      <td>610</td>\n",
       "      <td>170875</td>\n",
       "      <td>3.0</td>\n",
       "      <td>2017</td>\n",
       "    </tr>\n",
       "  </tbody>\n",
       "</table>\n",
       "<p>100836 rows × 4 columns</p>\n",
       "</div>"
      ],
      "text/plain": [
       "        userId  movieId  rating  year\n",
       "0            1        1     4.0  2000\n",
       "1            1        3     4.0  2000\n",
       "2            1        6     4.0  2000\n",
       "3            1       47     5.0  2000\n",
       "4            1       50     5.0  2000\n",
       "...        ...      ...     ...   ...\n",
       "100831     610   166534     4.0  2017\n",
       "100832     610   168248     5.0  2017\n",
       "100833     610   168250     5.0  2017\n",
       "100834     610   168252     5.0  2017\n",
       "100835     610   170875     3.0  2017\n",
       "\n",
       "[100836 rows x 4 columns]"
      ]
     },
     "execution_count": 61,
     "metadata": {},
     "output_type": "execute_result"
    }
   ],
   "source": [
    "# dropping our timestamp column as we really don't need it\n",
    "ratings.drop('timestamp', axis=1)"
   ]
  },
  {
   "cell_type": "code",
   "execution_count": 62,
   "id": "44d26f50",
   "metadata": {
    "ExecuteTime": {
     "end_time": "2023-05-02T01:43:39.506858Z",
     "start_time": "2023-05-02T01:43:39.485269Z"
    }
   },
   "outputs": [
    {
     "data": {
      "text/html": [
       "<div>\n",
       "<style scoped>\n",
       "    .dataframe tbody tr th:only-of-type {\n",
       "        vertical-align: middle;\n",
       "    }\n",
       "\n",
       "    .dataframe tbody tr th {\n",
       "        vertical-align: top;\n",
       "    }\n",
       "\n",
       "    .dataframe thead th {\n",
       "        text-align: right;\n",
       "    }\n",
       "</style>\n",
       "<table border=\"1\" class=\"dataframe\">\n",
       "  <thead>\n",
       "    <tr style=\"text-align: right;\">\n",
       "      <th></th>\n",
       "      <th>year</th>\n",
       "      <th>rating_x</th>\n",
       "      <th>rating_y</th>\n",
       "    </tr>\n",
       "  </thead>\n",
       "  <tbody>\n",
       "    <tr>\n",
       "      <th>0</th>\n",
       "      <td>1996</td>\n",
       "      <td>3.535927</td>\n",
       "      <td>6040</td>\n",
       "    </tr>\n",
       "    <tr>\n",
       "      <th>1</th>\n",
       "      <td>1997</td>\n",
       "      <td>3.727557</td>\n",
       "      <td>1916</td>\n",
       "    </tr>\n",
       "    <tr>\n",
       "      <th>2</th>\n",
       "      <td>1998</td>\n",
       "      <td>3.435897</td>\n",
       "      <td>507</td>\n",
       "    </tr>\n",
       "    <tr>\n",
       "      <th>3</th>\n",
       "      <td>1999</td>\n",
       "      <td>3.772448</td>\n",
       "      <td>2439</td>\n",
       "    </tr>\n",
       "    <tr>\n",
       "      <th>4</th>\n",
       "      <td>2000</td>\n",
       "      <td>3.392506</td>\n",
       "      <td>10061</td>\n",
       "    </tr>\n",
       "    <tr>\n",
       "      <th>5</th>\n",
       "      <td>2001</td>\n",
       "      <td>3.512239</td>\n",
       "      <td>3922</td>\n",
       "    </tr>\n",
       "    <tr>\n",
       "      <th>6</th>\n",
       "      <td>2002</td>\n",
       "      <td>3.606958</td>\n",
       "      <td>3478</td>\n",
       "    </tr>\n",
       "    <tr>\n",
       "      <th>7</th>\n",
       "      <td>2003</td>\n",
       "      <td>3.499377</td>\n",
       "      <td>4014</td>\n",
       "    </tr>\n",
       "    <tr>\n",
       "      <th>8</th>\n",
       "      <td>2004</td>\n",
       "      <td>3.506099</td>\n",
       "      <td>3279</td>\n",
       "    </tr>\n",
       "    <tr>\n",
       "      <th>9</th>\n",
       "      <td>2005</td>\n",
       "      <td>3.431533</td>\n",
       "      <td>5813</td>\n",
       "    </tr>\n",
       "    <tr>\n",
       "      <th>10</th>\n",
       "      <td>2006</td>\n",
       "      <td>3.487928</td>\n",
       "      <td>4059</td>\n",
       "    </tr>\n",
       "    <tr>\n",
       "      <th>11</th>\n",
       "      <td>2007</td>\n",
       "      <td>3.309039</td>\n",
       "      <td>7114</td>\n",
       "    </tr>\n",
       "    <tr>\n",
       "      <th>12</th>\n",
       "      <td>2008</td>\n",
       "      <td>3.656746</td>\n",
       "      <td>4351</td>\n",
       "    </tr>\n",
       "    <tr>\n",
       "      <th>13</th>\n",
       "      <td>2009</td>\n",
       "      <td>3.392496</td>\n",
       "      <td>4158</td>\n",
       "    </tr>\n",
       "    <tr>\n",
       "      <th>14</th>\n",
       "      <td>2010</td>\n",
       "      <td>3.463494</td>\n",
       "      <td>2301</td>\n",
       "    </tr>\n",
       "    <tr>\n",
       "      <th>15</th>\n",
       "      <td>2011</td>\n",
       "      <td>3.784024</td>\n",
       "      <td>1690</td>\n",
       "    </tr>\n",
       "    <tr>\n",
       "      <th>16</th>\n",
       "      <td>2012</td>\n",
       "      <td>3.641323</td>\n",
       "      <td>4656</td>\n",
       "    </tr>\n",
       "    <tr>\n",
       "      <th>17</th>\n",
       "      <td>2013</td>\n",
       "      <td>3.877404</td>\n",
       "      <td>1664</td>\n",
       "    </tr>\n",
       "    <tr>\n",
       "      <th>18</th>\n",
       "      <td>2014</td>\n",
       "      <td>3.510771</td>\n",
       "      <td>1439</td>\n",
       "    </tr>\n",
       "    <tr>\n",
       "      <th>19</th>\n",
       "      <td>2015</td>\n",
       "      <td>3.513830</td>\n",
       "      <td>6616</td>\n",
       "    </tr>\n",
       "    <tr>\n",
       "      <th>20</th>\n",
       "      <td>2016</td>\n",
       "      <td>3.686334</td>\n",
       "      <td>6703</td>\n",
       "    </tr>\n",
       "    <tr>\n",
       "      <th>21</th>\n",
       "      <td>2017</td>\n",
       "      <td>3.348805</td>\n",
       "      <td>8198</td>\n",
       "    </tr>\n",
       "    <tr>\n",
       "      <th>22</th>\n",
       "      <td>2018</td>\n",
       "      <td>3.389062</td>\n",
       "      <td>6418</td>\n",
       "    </tr>\n",
       "  </tbody>\n",
       "</table>\n",
       "</div>"
      ],
      "text/plain": [
       "    year  rating_x  rating_y\n",
       "0   1996  3.535927      6040\n",
       "1   1997  3.727557      1916\n",
       "2   1998  3.435897       507\n",
       "3   1999  3.772448      2439\n",
       "4   2000  3.392506     10061\n",
       "5   2001  3.512239      3922\n",
       "6   2002  3.606958      3478\n",
       "7   2003  3.499377      4014\n",
       "8   2004  3.506099      3279\n",
       "9   2005  3.431533      5813\n",
       "10  2006  3.487928      4059\n",
       "11  2007  3.309039      7114\n",
       "12  2008  3.656746      4351\n",
       "13  2009  3.392496      4158\n",
       "14  2010  3.463494      2301\n",
       "15  2011  3.784024      1690\n",
       "16  2012  3.641323      4656\n",
       "17  2013  3.877404      1664\n",
       "18  2014  3.510771      1439\n",
       "19  2015  3.513830      6616\n",
       "20  2016  3.686334      6703\n",
       "21  2017  3.348805      8198\n",
       "22  2018  3.389062      6418"
      ]
     },
     "execution_count": 62,
     "metadata": {},
     "output_type": "execute_result"
    }
   ],
   "source": [
    "# creating a cleaner dataframe to visualize ratings by year\n",
    "ratings_yr_chrt = (\n",
    "    ratings\n",
    "    .groupby('year')['rating']\n",
    "    .mean()\n",
    "    .reset_index()\n",
    "    )\n",
    "\n",
    "counts = (\n",
    "    ratings\n",
    "    .groupby('year')['rating']\n",
    "    .count()\n",
    "    .reset_index()\n",
    "    )\n",
    "\n",
    "\n",
    "result = pd.merge(ratings_yr_chrt, counts, how=\"inner\", on=['year', 'year'])\n",
    "result"
   ]
  },
  {
   "cell_type": "code",
   "execution_count": 63,
   "id": "721b4a5d",
   "metadata": {
    "ExecuteTime": {
     "end_time": "2023-05-02T01:48:36.100638Z",
     "start_time": "2023-05-02T01:48:35.569186Z"
    },
    "scrolled": false
   },
   "outputs": [
    {
     "data": {
      "image/png": "[encoded data removed]",
      "text/plain": [
       "<Figure size 1600x800 with 2 Axes>"
      ]
     },
     "metadata": {},
     "output_type": "display_data"
    }
   ],
   "source": [
    "# summary chart for number of ratings and average rating by rating year\n",
    "fig, ax1 = plt.subplots(figsize=(16,8))\n",
    "\n",
    "lp = sns.lineplot(data = result['rating_y'], \n",
    "                  marker='o', \n",
    "                  sort = False, \n",
    "                  ax=ax1, \n",
    "                  label='Number of Ratings', \n",
    "                  color=pal[5])\n",
    "\n",
    "ax2 = ax1.twinx()\n",
    "\n",
    "bp = sns.barplot(data = result, \n",
    "                 x='year', \n",
    "                 y='rating_x', \n",
    "                 alpha=0.4, \n",
    "                 ax=ax2, \n",
    "                 color=pal[5], \n",
    "                 label='Average Rating')\n",
    "\n",
    "ax1.set_title('Number of Movies & Total Box Office Revenue by Year')\n",
    "ax1.set_xlabel('Rating Year')\n",
    "ax1.set_ylabel('# of Ratings')\n",
    "ax2.set_ylabel('Average Rating')\n",
    "fig.legend(loc='upper right', bbox_to_anchor=(.88,.88))\n",
    "ax1.get_legend().remove()\n",
    "fmt = '{x:,.0f}'\n",
    "tick = mtick.StrMethodFormatter(fmt)\n",
    "ax1.yaxis.set_major_formatter(tick);"
   ]
  },
  {
   "cell_type": "markdown",
   "id": "e5784756",
   "metadata": {},
   "source": [
    "Interesting enough it looks like the largest number of ratings happened in the year 2000.  Conversely that was the highest year that was rated.  Movies that came out around 2011-2013 had the highest ratings, and also not a ton of reviews in that year.  The average is most likely being inflated by higher reviews in that year."
   ]
  },
  {
   "cell_type": "code",
   "execution_count": 65,
   "id": "13de12fa",
   "metadata": {
    "ExecuteTime": {
     "end_time": "2023-05-02T01:50:34.215784Z",
     "start_time": "2023-05-02T01:50:33.542168Z"
    },
    "scrolled": false
   },
   "outputs": [
    {
     "data": {
      "image/png": "[encoded data removed]",
      "text/plain": [
       "<Figure size 1600x800 with 1 Axes>"
      ]
     },
     "metadata": {},
     "output_type": "display_data"
    }
   ],
   "source": [
    "# creating a word cloud for the tags that were created as a part of the review process.\n",
    "from wordcloud import WordCloud\n",
    "\n",
    "# Read the whole text.\n",
    "text = tags['tag']\n",
    "\n",
    "# Generate a word cloud image\n",
    "wordcloud = WordCloud().generate(' '.join(tags['tag']))\n",
    "\n",
    "# take relative word frequencies into account, lower max_font_size\n",
    "wordcloud = WordCloud(background_color=\"white\",\n",
    "                      max_words=50,\n",
    "                      max_font_size=40, \n",
    "                      relative_scaling=.5,\n",
    "                      width=600, \n",
    "                      height=400).generate(' '.join(tags['tag']))\n",
    "\n",
    "plt.figure(figsize=(16,8))\n",
    "plt.imshow(wordcloud)\n",
    "plt.axis(\"off\")\n",
    "plt.show()"
   ]
  },
  {
   "cell_type": "markdown",
   "id": "650710de",
   "metadata": {},
   "source": [
    "This is just a super rough word cloud to see if there is any sentiment that we can pick up on.  Looks like netflix is a mentioned quite a bit, along with visually appealing, and thought provoking to name a few.  "
   ]
  },
  {
   "cell_type": "code",
   "execution_count": 66,
   "id": "a880fcf8",
   "metadata": {
    "ExecuteTime": {
     "end_time": "2023-05-02T02:34:50.132456Z",
     "start_time": "2023-05-02T02:34:50.113268Z"
    }
   },
   "outputs": [
    {
     "data": {
      "text/html": [
       "<div>\n",
       "<style scoped>\n",
       "    .dataframe tbody tr th:only-of-type {\n",
       "        vertical-align: middle;\n",
       "    }\n",
       "\n",
       "    .dataframe tbody tr th {\n",
       "        vertical-align: top;\n",
       "    }\n",
       "\n",
       "    .dataframe thead th {\n",
       "        text-align: right;\n",
       "    }\n",
       "</style>\n",
       "<table border=\"1\" class=\"dataframe\">\n",
       "  <thead>\n",
       "    <tr style=\"text-align: right;\">\n",
       "      <th></th>\n",
       "      <th>userId</th>\n",
       "      <th>avg_rating</th>\n",
       "      <th>rating_cnt</th>\n",
       "    </tr>\n",
       "  </thead>\n",
       "  <tbody>\n",
       "    <tr>\n",
       "      <th>413</th>\n",
       "      <td>414</td>\n",
       "      <td>3.391957</td>\n",
       "      <td>2698</td>\n",
       "    </tr>\n",
       "    <tr>\n",
       "      <th>598</th>\n",
       "      <td>599</td>\n",
       "      <td>2.642050</td>\n",
       "      <td>2478</td>\n",
       "    </tr>\n",
       "    <tr>\n",
       "      <th>473</th>\n",
       "      <td>474</td>\n",
       "      <td>3.398956</td>\n",
       "      <td>2108</td>\n",
       "    </tr>\n",
       "    <tr>\n",
       "      <th>447</th>\n",
       "      <td>448</td>\n",
       "      <td>2.847371</td>\n",
       "      <td>1864</td>\n",
       "    </tr>\n",
       "    <tr>\n",
       "      <th>273</th>\n",
       "      <td>274</td>\n",
       "      <td>3.235884</td>\n",
       "      <td>1346</td>\n",
       "    </tr>\n",
       "  </tbody>\n",
       "</table>\n",
       "</div>"
      ],
      "text/plain": [
       "     userId  avg_rating  rating_cnt\n",
       "413     414    3.391957        2698\n",
       "598     599    2.642050        2478\n",
       "473     474    3.398956        2108\n",
       "447     448    2.847371        1864\n",
       "273     274    3.235884        1346"
      ]
     },
     "execution_count": 66,
     "metadata": {},
     "output_type": "execute_result"
    }
   ],
   "source": [
    "# view the number of ratings per user, and distribution\n",
    "user_chrt = (\n",
    "    ratings\n",
    "    .groupby('userId')\n",
    "    .agg(avg_rating=('rating','mean'),rating_cnt=('rating','count'))\n",
    "    .reset_index()\n",
    "    .sort_values(by='rating_cnt', ascending=False)\n",
    "    )\n",
    "\n",
    "user_chrt.head()"
   ]
  },
  {
   "cell_type": "markdown",
   "id": "d88d3f93",
   "metadata": {},
   "source": [
    "It looks like there are a few users that have a ton of ratings.  One user has as many as 2,698 ratings!  Someone has been busy!  The min is 20 reviews.  But lets take a look at a box plot to see if we can identify outliers a little easier."
   ]
  },
  {
   "cell_type": "code",
   "execution_count": 67,
   "id": "68d4aa9e",
   "metadata": {
    "ExecuteTime": {
     "end_time": "2023-05-02T02:45:52.982203Z",
     "start_time": "2023-05-02T02:45:52.589056Z"
    }
   },
   "outputs": [
    {
     "name": "stdout",
     "output_type": "stream",
     "text": [
      "userId\n"
     ]
    },
    {
     "data": {
      "image/png": "[encoded data removed]",
      "text/plain": [
       "<Figure size 1400x300 with 1 Axes>"
      ]
     },
     "metadata": {},
     "output_type": "display_data"
    },
    {
     "name": "stdout",
     "output_type": "stream",
     "text": [
      "avg_rating\n"
     ]
    },
    {
     "data": {
      "image/png": "[encoded data removed]",
      "text/plain": [
       "<Figure size 1400x300 with 1 Axes>"
      ]
     },
     "metadata": {},
     "output_type": "display_data"
    },
    {
     "name": "stdout",
     "output_type": "stream",
     "text": [
      "rating_cnt\n"
     ]
    },
    {
     "data": {
      "image/png": "[encoded data removed]",
      "text/plain": [
       "<Figure size 1400x300 with 1 Axes>"
      ]
     },
     "metadata": {},
     "output_type": "display_data"
    }
   ],
   "source": [
    "# creating a quick box plot to look at our outliers.\n",
    "for column in user_chrt:\n",
    "    print(column)\n",
    "    plt.figure(figsize=(14,3))\n",
    "    sns.boxplot(data=user_chrt, x=column, color=pal[5])\n",
    "    plt.show()"
   ]
  },
  {
   "cell_type": "code",
   "execution_count": 71,
   "id": "971c30a7",
   "metadata": {
    "ExecuteTime": {
     "end_time": "2023-05-02T02:51:17.627287Z",
     "start_time": "2023-05-02T02:51:17.619827Z"
    }
   },
   "outputs": [],
   "source": [
    "# let's count these outliers visualized from above.\n",
    "Q1 = user_chrt['avg_rating'].quantile(0.25)\n",
    "Q3 = user_chrt['avg_rating'].quantile(0.75)\n",
    "IQR = Q3 - Q1\n",
    "user_rating_outliers = ((user_chrt['avg_rating'] < (Q1 - 1.5 * IQR)) \n",
    "                        | (user_chrt['avg_rating'] > (Q3 + 1.5 * IQR))).sum()"
   ]
  },
  {
   "cell_type": "code",
   "execution_count": 72,
   "id": "cea62ad5",
   "metadata": {
    "ExecuteTime": {
     "end_time": "2023-05-02T02:09:58.734949Z",
     "start_time": "2023-05-02T02:09:58.731436Z"
    }
   },
   "outputs": [
    {
     "name": "stdout",
     "output_type": "stream",
     "text": [
      "The are a total of 9 users that are considered outliers when considering how many movies they have rated.\n"
     ]
    }
   ],
   "source": [
    "# pring a fact statement regarding outliers.\n",
    "print(\"The are a total of\", \n",
    "      user_rating_outliers,\n",
    "      \"users that are considered outliers when considering how many movies they have rated.\")"
   ]
  },
  {
   "cell_type": "code",
   "execution_count": 73,
   "id": "9328ec1e",
   "metadata": {
    "ExecuteTime": {
     "end_time": "2023-05-02T02:46:53.158607Z",
     "start_time": "2023-05-02T02:46:53.135001Z"
    }
   },
   "outputs": [
    {
     "data": {
      "text/html": [
       "<div>\n",
       "<style scoped>\n",
       "    .dataframe tbody tr th:only-of-type {\n",
       "        vertical-align: middle;\n",
       "    }\n",
       "\n",
       "    .dataframe tbody tr th {\n",
       "        vertical-align: top;\n",
       "    }\n",
       "\n",
       "    .dataframe thead th {\n",
       "        text-align: right;\n",
       "    }\n",
       "</style>\n",
       "<table border=\"1\" class=\"dataframe\">\n",
       "  <thead>\n",
       "    <tr style=\"text-align: right;\">\n",
       "      <th></th>\n",
       "      <th>movieId</th>\n",
       "      <th>avg_rating</th>\n",
       "      <th>rating_cnt</th>\n",
       "    </tr>\n",
       "  </thead>\n",
       "  <tbody>\n",
       "    <tr>\n",
       "      <th>314</th>\n",
       "      <td>356</td>\n",
       "      <td>4.164134</td>\n",
       "      <td>329</td>\n",
       "    </tr>\n",
       "    <tr>\n",
       "      <th>277</th>\n",
       "      <td>318</td>\n",
       "      <td>4.429022</td>\n",
       "      <td>317</td>\n",
       "    </tr>\n",
       "    <tr>\n",
       "      <th>257</th>\n",
       "      <td>296</td>\n",
       "      <td>4.197068</td>\n",
       "      <td>307</td>\n",
       "    </tr>\n",
       "    <tr>\n",
       "      <th>510</th>\n",
       "      <td>593</td>\n",
       "      <td>4.161290</td>\n",
       "      <td>279</td>\n",
       "    </tr>\n",
       "    <tr>\n",
       "      <th>1938</th>\n",
       "      <td>2571</td>\n",
       "      <td>4.192446</td>\n",
       "      <td>278</td>\n",
       "    </tr>\n",
       "  </tbody>\n",
       "</table>\n",
       "</div>"
      ],
      "text/plain": [
       "      movieId  avg_rating  rating_cnt\n",
       "314       356    4.164134         329\n",
       "277       318    4.429022         317\n",
       "257       296    4.197068         307\n",
       "510       593    4.161290         279\n",
       "1938     2571    4.192446         278"
      ]
     },
     "execution_count": 73,
     "metadata": {},
     "output_type": "execute_result"
    }
   ],
   "source": [
    "# creating a dataframe for visualizing the average review per movie, and the # of reviews.\n",
    "movie_chrt = (\n",
    "    ratings\n",
    "    .groupby('movieId')\n",
    "    .agg(avg_rating=('rating','mean'),rating_cnt=('rating','count'))\n",
    "    .reset_index()\n",
    "    .sort_values(by='rating_cnt', ascending=False)\n",
    "    )\n",
    "\n",
    "movie_chrt.head()"
   ]
  },
  {
   "cell_type": "code",
   "execution_count": 74,
   "id": "a1dda257",
   "metadata": {
    "ExecuteTime": {
     "end_time": "2023-05-02T02:53:30.920053Z",
     "start_time": "2023-05-02T02:53:30.899268Z"
    },
    "scrolled": true
   },
   "outputs": [
    {
     "data": {
      "text/html": [
       "<div>\n",
       "<style scoped>\n",
       "    .dataframe tbody tr th:only-of-type {\n",
       "        vertical-align: middle;\n",
       "    }\n",
       "\n",
       "    .dataframe tbody tr th {\n",
       "        vertical-align: top;\n",
       "    }\n",
       "\n",
       "    .dataframe thead th {\n",
       "        text-align: right;\n",
       "    }\n",
       "</style>\n",
       "<table border=\"1\" class=\"dataframe\">\n",
       "  <thead>\n",
       "    <tr style=\"text-align: right;\">\n",
       "      <th></th>\n",
       "      <th>movieId</th>\n",
       "      <th>avg_rating</th>\n",
       "      <th>rating_cnt</th>\n",
       "      <th>title</th>\n",
       "    </tr>\n",
       "  </thead>\n",
       "  <tbody>\n",
       "    <tr>\n",
       "      <th>0</th>\n",
       "      <td>356</td>\n",
       "      <td>4.164134</td>\n",
       "      <td>329</td>\n",
       "      <td>Forrest Gump (1994)</td>\n",
       "    </tr>\n",
       "    <tr>\n",
       "      <th>1</th>\n",
       "      <td>318</td>\n",
       "      <td>4.429022</td>\n",
       "      <td>317</td>\n",
       "      <td>Shawshank Redemption, The (1994)</td>\n",
       "    </tr>\n",
       "    <tr>\n",
       "      <th>2</th>\n",
       "      <td>296</td>\n",
       "      <td>4.197068</td>\n",
       "      <td>307</td>\n",
       "      <td>Pulp Fiction (1994)</td>\n",
       "    </tr>\n",
       "    <tr>\n",
       "      <th>3</th>\n",
       "      <td>593</td>\n",
       "      <td>4.161290</td>\n",
       "      <td>279</td>\n",
       "      <td>Silence of the Lambs, The (1991)</td>\n",
       "    </tr>\n",
       "    <tr>\n",
       "      <th>4</th>\n",
       "      <td>2571</td>\n",
       "      <td>4.192446</td>\n",
       "      <td>278</td>\n",
       "      <td>Matrix, The (1999)</td>\n",
       "    </tr>\n",
       "    <tr>\n",
       "      <th>5</th>\n",
       "      <td>260</td>\n",
       "      <td>4.231076</td>\n",
       "      <td>251</td>\n",
       "      <td>Star Wars: Episode IV - A New Hope (1977)</td>\n",
       "    </tr>\n",
       "    <tr>\n",
       "      <th>6</th>\n",
       "      <td>480</td>\n",
       "      <td>3.750000</td>\n",
       "      <td>238</td>\n",
       "      <td>Jurassic Park (1993)</td>\n",
       "    </tr>\n",
       "    <tr>\n",
       "      <th>7</th>\n",
       "      <td>110</td>\n",
       "      <td>4.031646</td>\n",
       "      <td>237</td>\n",
       "      <td>Braveheart (1995)</td>\n",
       "    </tr>\n",
       "    <tr>\n",
       "      <th>8</th>\n",
       "      <td>589</td>\n",
       "      <td>3.970982</td>\n",
       "      <td>224</td>\n",
       "      <td>Terminator 2: Judgment Day (1991)</td>\n",
       "    </tr>\n",
       "    <tr>\n",
       "      <th>9</th>\n",
       "      <td>527</td>\n",
       "      <td>4.225000</td>\n",
       "      <td>220</td>\n",
       "      <td>Schindler's List (1993)</td>\n",
       "    </tr>\n",
       "  </tbody>\n",
       "</table>\n",
       "</div>"
      ],
      "text/plain": [
       "   movieId  avg_rating  rating_cnt                                      title\n",
       "0      356    4.164134         329                        Forrest Gump (1994)\n",
       "1      318    4.429022         317           Shawshank Redemption, The (1994)\n",
       "2      296    4.197068         307                        Pulp Fiction (1994)\n",
       "3      593    4.161290         279           Silence of the Lambs, The (1991)\n",
       "4     2571    4.192446         278                         Matrix, The (1999)\n",
       "5      260    4.231076         251  Star Wars: Episode IV - A New Hope (1977)\n",
       "6      480    3.750000         238                       Jurassic Park (1993)\n",
       "7      110    4.031646         237                          Braveheart (1995)\n",
       "8      589    3.970982         224          Terminator 2: Judgment Day (1991)\n",
       "9      527    4.225000         220                    Schindler's List (1993)"
      ]
     },
     "execution_count": 74,
     "metadata": {},
     "output_type": "execute_result"
    }
   ],
   "source": [
    "# joining the movie name so we can see what movies are floating to the top.\n",
    "movie_chrt_names = pd.merge(\n",
    "    movie_chrt,\n",
    "    movies[['movieId','title']],\n",
    "    how=\"inner\",\n",
    "    on='movieId'\n",
    ")\n",
    "\n",
    "movie_chrt_names.head(10)\n"
   ]
  },
  {
   "cell_type": "markdown",
   "id": "e3c86b95",
   "metadata": {},
   "source": [
    "They don't make them like they used to -- a number of movies from the mid 90's here showing the highest number of ratings.  Might be something to look into with more time is the demographics of our users.  Were they a certain age, which predisposed them to these movies at these points in time?  Let's also take a look at the movies with the fewest number of ratings.\n"
   ]
  },
  {
   "cell_type": "code",
   "execution_count": 75,
   "id": "e3a2c808",
   "metadata": {
    "ExecuteTime": {
     "end_time": "2023-05-02T03:02:19.718216Z",
     "start_time": "2023-05-02T03:02:19.699848Z"
    }
   },
   "outputs": [
    {
     "data": {
      "text/html": [
       "<div>\n",
       "<style scoped>\n",
       "    .dataframe tbody tr th:only-of-type {\n",
       "        vertical-align: middle;\n",
       "    }\n",
       "\n",
       "    .dataframe tbody tr th {\n",
       "        vertical-align: top;\n",
       "    }\n",
       "\n",
       "    .dataframe thead th {\n",
       "        text-align: right;\n",
       "    }\n",
       "</style>\n",
       "<table border=\"1\" class=\"dataframe\">\n",
       "  <thead>\n",
       "    <tr style=\"text-align: right;\">\n",
       "      <th></th>\n",
       "      <th>movieId</th>\n",
       "      <th>avg_rating</th>\n",
       "      <th>rating_cnt</th>\n",
       "      <th>title</th>\n",
       "    </tr>\n",
       "  </thead>\n",
       "  <tbody>\n",
       "    <tr>\n",
       "      <th>9714</th>\n",
       "      <td>58297</td>\n",
       "      <td>4.0</td>\n",
       "      <td>1</td>\n",
       "      <td>Doomsday (2008)</td>\n",
       "    </tr>\n",
       "    <tr>\n",
       "      <th>9715</th>\n",
       "      <td>4111</td>\n",
       "      <td>3.0</td>\n",
       "      <td>1</td>\n",
       "      <td>Gardens of Stone (1987)</td>\n",
       "    </tr>\n",
       "    <tr>\n",
       "      <th>9716</th>\n",
       "      <td>4110</td>\n",
       "      <td>3.0</td>\n",
       "      <td>1</td>\n",
       "      <td>Fourth Protocol, The (1987)</td>\n",
       "    </tr>\n",
       "    <tr>\n",
       "      <th>9717</th>\n",
       "      <td>58306</td>\n",
       "      <td>2.5</td>\n",
       "      <td>1</td>\n",
       "      <td>Mongol (2007)</td>\n",
       "    </tr>\n",
       "    <tr>\n",
       "      <th>9718</th>\n",
       "      <td>58309</td>\n",
       "      <td>4.5</td>\n",
       "      <td>1</td>\n",
       "      <td>War Dance (2007)</td>\n",
       "    </tr>\n",
       "    <tr>\n",
       "      <th>9719</th>\n",
       "      <td>4093</td>\n",
       "      <td>1.5</td>\n",
       "      <td>1</td>\n",
       "      <td>Cop (1988)</td>\n",
       "    </tr>\n",
       "    <tr>\n",
       "      <th>9720</th>\n",
       "      <td>4089</td>\n",
       "      <td>2.0</td>\n",
       "      <td>1</td>\n",
       "      <td>Born in East L.A. (1987)</td>\n",
       "    </tr>\n",
       "    <tr>\n",
       "      <th>9721</th>\n",
       "      <td>58351</td>\n",
       "      <td>4.0</td>\n",
       "      <td>1</td>\n",
       "      <td>City of Men (Cidade dos Homens) (2007)</td>\n",
       "    </tr>\n",
       "    <tr>\n",
       "      <th>9722</th>\n",
       "      <td>4083</td>\n",
       "      <td>4.0</td>\n",
       "      <td>1</td>\n",
       "      <td>Best Seller (1987)</td>\n",
       "    </tr>\n",
       "    <tr>\n",
       "      <th>9723</th>\n",
       "      <td>193609</td>\n",
       "      <td>4.0</td>\n",
       "      <td>1</td>\n",
       "      <td>Andrew Dice Clay: Dice Rules (1991)</td>\n",
       "    </tr>\n",
       "  </tbody>\n",
       "</table>\n",
       "</div>"
      ],
      "text/plain": [
       "      movieId  avg_rating  rating_cnt                                   title\n",
       "9714    58297         4.0           1                         Doomsday (2008)\n",
       "9715     4111         3.0           1                 Gardens of Stone (1987)\n",
       "9716     4110         3.0           1             Fourth Protocol, The (1987)\n",
       "9717    58306         2.5           1                           Mongol (2007)\n",
       "9718    58309         4.5           1                        War Dance (2007)\n",
       "9719     4093         1.5           1                              Cop (1988)\n",
       "9720     4089         2.0           1                Born in East L.A. (1987)\n",
       "9721    58351         4.0           1  City of Men (Cidade dos Homens) (2007)\n",
       "9722     4083         4.0           1                      Best Seller (1987)\n",
       "9723   193609         4.0           1     Andrew Dice Clay: Dice Rules (1991)"
      ]
     },
     "execution_count": 75,
     "metadata": {},
     "output_type": "execute_result"
    }
   ],
   "source": [
    "# looking at the movies that are floating to the bottom.\n",
    "movie_chrt_names = pd.merge(\n",
    "    movie_chrt,\n",
    "    movies[['movieId','title']],\n",
    "    how=\"inner\",\n",
    "    on='movieId'\n",
    ")\n",
    "\n",
    "movie_chrt_names.tail(10)\n"
   ]
  },
  {
   "cell_type": "markdown",
   "id": "1f32a5b4",
   "metadata": {},
   "source": [
    "Well, I don't think I have seen any of these movies.  I guess that might be a good thing?  Either way, here are the movies with the fewest number of ratings.  The other item that is interesting here is that even though they don't have many ratings, we have a rating as low as 1.5, and as high as 4.5.  So to say that War Dance, could have a higher average rating, than Shawshank redemption, is probably a risky statement."
   ]
  },
  {
   "cell_type": "code",
   "execution_count": 76,
   "id": "365b93b4",
   "metadata": {
    "ExecuteTime": {
     "end_time": "2023-05-02T02:48:36.923428Z",
     "start_time": "2023-05-02T02:48:36.536943Z"
    }
   },
   "outputs": [
    {
     "name": "stdout",
     "output_type": "stream",
     "text": [
      "movieId\n"
     ]
    },
    {
     "data": {
      "image/png": "[encoded data removed]",
      "text/plain": [
       "<Figure size 1400x300 with 1 Axes>"
      ]
     },
     "metadata": {},
     "output_type": "display_data"
    },
    {
     "name": "stdout",
     "output_type": "stream",
     "text": [
      "avg_rating\n"
     ]
    },
    {
     "data": {
      "image/png": "[encoded data removed]",
      "text/plain": [
       "<Figure size 1400x300 with 1 Axes>"
      ]
     },
     "metadata": {},
     "output_type": "display_data"
    },
    {
     "name": "stdout",
     "output_type": "stream",
     "text": [
      "rating_cnt\n"
     ]
    },
    {
     "data": {
      "image/png": "[encoded data removed]",
      "text/plain": [
       "<Figure size 1400x300 with 1 Axes>"
      ]
     },
     "metadata": {},
     "output_type": "display_data"
    }
   ],
   "source": [
    "# creating a quick box plot to look at our outliers for our movies dataframe\n",
    "for column in movie_chrt:\n",
    "    print(column)\n",
    "    plt.figure(figsize=(14,3))\n",
    "    sns.boxplot(data=movie_chrt, x=column, color=pal[5])\n",
    "    plt.show()"
   ]
  },
  {
   "cell_type": "markdown",
   "id": "74e4da54",
   "metadata": {},
   "source": [
    "There are quite a few outliers when looking at the number of outliers per movie.  Let's count those so we know what we're working with as we finalize our EDA process."
   ]
  },
  {
   "cell_type": "code",
   "execution_count": 77,
   "id": "271e990c",
   "metadata": {
    "ExecuteTime": {
     "end_time": "2023-05-02T02:52:27.874637Z",
     "start_time": "2023-05-02T02:52:27.866523Z"
    }
   },
   "outputs": [],
   "source": [
    "# let's count these outliers visualized from above.\n",
    "Q1 = movie_chrt['rating_cnt'].quantile(0.25)\n",
    "Q3 = movie_chrt['rating_cnt'].quantile(0.75)\n",
    "IQR = Q3 - Q1\n",
    "movie_rating_outliers = ((movie_chrt['rating_cnt'] < (Q1 - 1.5 * IQR)) \n",
    "                        | (movie_chrt['rating_cnt'] > (Q3 + 1.5 * IQR))).sum()"
   ]
  },
  {
   "cell_type": "code",
   "execution_count": 78,
   "id": "1f214f79",
   "metadata": {
    "ExecuteTime": {
     "end_time": "2023-05-02T02:52:28.903324Z",
     "start_time": "2023-05-02T02:52:28.900233Z"
    }
   },
   "outputs": [
    {
     "name": "stdout",
     "output_type": "stream",
     "text": [
      "The are a total of 1179 movies that are considered outliers when considering how many ratings they recorded.\n"
     ]
    }
   ],
   "source": [
    "# pring fact statement for user outliers.\n",
    "print(\"The are a total of\", \n",
    "      movie_rating_outliers,\n",
    "      \"movies that are considered outliers when considering how many ratings they recorded.\")"
   ]
  },
  {
   "cell_type": "code",
   "execution_count": 79,
   "id": "761655de",
   "metadata": {
    "ExecuteTime": {
     "end_time": "2023-05-02T02:58:08.122072Z",
     "start_time": "2023-05-02T02:58:08.030425Z"
    }
   },
   "outputs": [
    {
     "data": {
      "text/html": [
       "<div>\n",
       "<style scoped>\n",
       "    .dataframe tbody tr th:only-of-type {\n",
       "        vertical-align: middle;\n",
       "    }\n",
       "\n",
       "    .dataframe tbody tr th {\n",
       "        vertical-align: top;\n",
       "    }\n",
       "\n",
       "    .dataframe thead th {\n",
       "        text-align: right;\n",
       "    }\n",
       "</style>\n",
       "<table border=\"1\" class=\"dataframe\">\n",
       "  <thead>\n",
       "    <tr style=\"text-align: right;\">\n",
       "      <th></th>\n",
       "      <th>userId</th>\n",
       "      <th>movieId</th>\n",
       "      <th>rating</th>\n",
       "      <th>timestamp</th>\n",
       "      <th>year</th>\n",
       "      <th>title</th>\n",
       "      <th>genres</th>\n",
       "      <th>Comedy</th>\n",
       "      <th>Drama</th>\n",
       "      <th>Action</th>\n",
       "      <th>...</th>\n",
       "      <th>Thriller</th>\n",
       "      <th>Sci_Fi</th>\n",
       "      <th>Mystery</th>\n",
       "      <th>Fantasy</th>\n",
       "      <th>Romance</th>\n",
       "      <th>(no genres listed)</th>\n",
       "      <th>Western</th>\n",
       "      <th>Musical</th>\n",
       "      <th>Film-Noir</th>\n",
       "      <th>War</th>\n",
       "    </tr>\n",
       "  </thead>\n",
       "  <tbody>\n",
       "    <tr>\n",
       "      <th>0</th>\n",
       "      <td>1</td>\n",
       "      <td>1</td>\n",
       "      <td>4.0</td>\n",
       "      <td>964982703</td>\n",
       "      <td>2000</td>\n",
       "      <td>Toy Story (1995)</td>\n",
       "      <td>Adventure|Animation|Children|Comedy|Fantasy</td>\n",
       "      <td>True</td>\n",
       "      <td>False</td>\n",
       "      <td>False</td>\n",
       "      <td>...</td>\n",
       "      <td>False</td>\n",
       "      <td>False</td>\n",
       "      <td>False</td>\n",
       "      <td>True</td>\n",
       "      <td>False</td>\n",
       "      <td>False</td>\n",
       "      <td>False</td>\n",
       "      <td>False</td>\n",
       "      <td>False</td>\n",
       "      <td>False</td>\n",
       "    </tr>\n",
       "    <tr>\n",
       "      <th>1</th>\n",
       "      <td>5</td>\n",
       "      <td>1</td>\n",
       "      <td>4.0</td>\n",
       "      <td>847434962</td>\n",
       "      <td>1996</td>\n",
       "      <td>Toy Story (1995)</td>\n",
       "      <td>Adventure|Animation|Children|Comedy|Fantasy</td>\n",
       "      <td>True</td>\n",
       "      <td>False</td>\n",
       "      <td>False</td>\n",
       "      <td>...</td>\n",
       "      <td>False</td>\n",
       "      <td>False</td>\n",
       "      <td>False</td>\n",
       "      <td>True</td>\n",
       "      <td>False</td>\n",
       "      <td>False</td>\n",
       "      <td>False</td>\n",
       "      <td>False</td>\n",
       "      <td>False</td>\n",
       "      <td>False</td>\n",
       "    </tr>\n",
       "    <tr>\n",
       "      <th>2</th>\n",
       "      <td>7</td>\n",
       "      <td>1</td>\n",
       "      <td>4.5</td>\n",
       "      <td>1106635946</td>\n",
       "      <td>2005</td>\n",
       "      <td>Toy Story (1995)</td>\n",
       "      <td>Adventure|Animation|Children|Comedy|Fantasy</td>\n",
       "      <td>True</td>\n",
       "      <td>False</td>\n",
       "      <td>False</td>\n",
       "      <td>...</td>\n",
       "      <td>False</td>\n",
       "      <td>False</td>\n",
       "      <td>False</td>\n",
       "      <td>True</td>\n",
       "      <td>False</td>\n",
       "      <td>False</td>\n",
       "      <td>False</td>\n",
       "      <td>False</td>\n",
       "      <td>False</td>\n",
       "      <td>False</td>\n",
       "    </tr>\n",
       "    <tr>\n",
       "      <th>3</th>\n",
       "      <td>15</td>\n",
       "      <td>1</td>\n",
       "      <td>2.5</td>\n",
       "      <td>1510577970</td>\n",
       "      <td>2017</td>\n",
       "      <td>Toy Story (1995)</td>\n",
       "      <td>Adventure|Animation|Children|Comedy|Fantasy</td>\n",
       "      <td>True</td>\n",
       "      <td>False</td>\n",
       "      <td>False</td>\n",
       "      <td>...</td>\n",
       "      <td>False</td>\n",
       "      <td>False</td>\n",
       "      <td>False</td>\n",
       "      <td>True</td>\n",
       "      <td>False</td>\n",
       "      <td>False</td>\n",
       "      <td>False</td>\n",
       "      <td>False</td>\n",
       "      <td>False</td>\n",
       "      <td>False</td>\n",
       "    </tr>\n",
       "    <tr>\n",
       "      <th>4</th>\n",
       "      <td>17</td>\n",
       "      <td>1</td>\n",
       "      <td>4.5</td>\n",
       "      <td>1305696483</td>\n",
       "      <td>2011</td>\n",
       "      <td>Toy Story (1995)</td>\n",
       "      <td>Adventure|Animation|Children|Comedy|Fantasy</td>\n",
       "      <td>True</td>\n",
       "      <td>False</td>\n",
       "      <td>False</td>\n",
       "      <td>...</td>\n",
       "      <td>False</td>\n",
       "      <td>False</td>\n",
       "      <td>False</td>\n",
       "      <td>True</td>\n",
       "      <td>False</td>\n",
       "      <td>False</td>\n",
       "      <td>False</td>\n",
       "      <td>False</td>\n",
       "      <td>False</td>\n",
       "      <td>False</td>\n",
       "    </tr>\n",
       "    <tr>\n",
       "      <th>...</th>\n",
       "      <td>...</td>\n",
       "      <td>...</td>\n",
       "      <td>...</td>\n",
       "      <td>...</td>\n",
       "      <td>...</td>\n",
       "      <td>...</td>\n",
       "      <td>...</td>\n",
       "      <td>...</td>\n",
       "      <td>...</td>\n",
       "      <td>...</td>\n",
       "      <td>...</td>\n",
       "      <td>...</td>\n",
       "      <td>...</td>\n",
       "      <td>...</td>\n",
       "      <td>...</td>\n",
       "      <td>...</td>\n",
       "      <td>...</td>\n",
       "      <td>...</td>\n",
       "      <td>...</td>\n",
       "      <td>...</td>\n",
       "      <td>...</td>\n",
       "    </tr>\n",
       "    <tr>\n",
       "      <th>100831</th>\n",
       "      <td>610</td>\n",
       "      <td>160341</td>\n",
       "      <td>2.5</td>\n",
       "      <td>1479545749</td>\n",
       "      <td>2016</td>\n",
       "      <td>Bloodmoon (1997)</td>\n",
       "      <td>Action|Thriller</td>\n",
       "      <td>False</td>\n",
       "      <td>False</td>\n",
       "      <td>True</td>\n",
       "      <td>...</td>\n",
       "      <td>True</td>\n",
       "      <td>False</td>\n",
       "      <td>False</td>\n",
       "      <td>False</td>\n",
       "      <td>False</td>\n",
       "      <td>False</td>\n",
       "      <td>False</td>\n",
       "      <td>False</td>\n",
       "      <td>False</td>\n",
       "      <td>False</td>\n",
       "    </tr>\n",
       "    <tr>\n",
       "      <th>100832</th>\n",
       "      <td>610</td>\n",
       "      <td>160527</td>\n",
       "      <td>4.5</td>\n",
       "      <td>1479544998</td>\n",
       "      <td>2016</td>\n",
       "      <td>Sympathy for the Underdog (1971)</td>\n",
       "      <td>Action|Crime|Drama</td>\n",
       "      <td>False</td>\n",
       "      <td>True</td>\n",
       "      <td>True</td>\n",
       "      <td>...</td>\n",
       "      <td>False</td>\n",
       "      <td>False</td>\n",
       "      <td>False</td>\n",
       "      <td>False</td>\n",
       "      <td>False</td>\n",
       "      <td>False</td>\n",
       "      <td>False</td>\n",
       "      <td>False</td>\n",
       "      <td>False</td>\n",
       "      <td>False</td>\n",
       "    </tr>\n",
       "    <tr>\n",
       "      <th>100833</th>\n",
       "      <td>610</td>\n",
       "      <td>160836</td>\n",
       "      <td>3.0</td>\n",
       "      <td>1493844794</td>\n",
       "      <td>2017</td>\n",
       "      <td>Hazard (2005)</td>\n",
       "      <td>Action|Drama|Thriller</td>\n",
       "      <td>False</td>\n",
       "      <td>True</td>\n",
       "      <td>True</td>\n",
       "      <td>...</td>\n",
       "      <td>True</td>\n",
       "      <td>False</td>\n",
       "      <td>False</td>\n",
       "      <td>False</td>\n",
       "      <td>False</td>\n",
       "      <td>False</td>\n",
       "      <td>False</td>\n",
       "      <td>False</td>\n",
       "      <td>False</td>\n",
       "      <td>False</td>\n",
       "    </tr>\n",
       "    <tr>\n",
       "      <th>100834</th>\n",
       "      <td>610</td>\n",
       "      <td>163937</td>\n",
       "      <td>3.5</td>\n",
       "      <td>1493848789</td>\n",
       "      <td>2017</td>\n",
       "      <td>Blair Witch (2016)</td>\n",
       "      <td>Horror|Thriller</td>\n",
       "      <td>False</td>\n",
       "      <td>False</td>\n",
       "      <td>False</td>\n",
       "      <td>...</td>\n",
       "      <td>True</td>\n",
       "      <td>False</td>\n",
       "      <td>False</td>\n",
       "      <td>False</td>\n",
       "      <td>False</td>\n",
       "      <td>False</td>\n",
       "      <td>False</td>\n",
       "      <td>False</td>\n",
       "      <td>False</td>\n",
       "      <td>False</td>\n",
       "    </tr>\n",
       "    <tr>\n",
       "      <th>100835</th>\n",
       "      <td>610</td>\n",
       "      <td>163981</td>\n",
       "      <td>3.5</td>\n",
       "      <td>1493850155</td>\n",
       "      <td>2017</td>\n",
       "      <td>31 (2016)</td>\n",
       "      <td>Horror</td>\n",
       "      <td>False</td>\n",
       "      <td>False</td>\n",
       "      <td>False</td>\n",
       "      <td>...</td>\n",
       "      <td>False</td>\n",
       "      <td>False</td>\n",
       "      <td>False</td>\n",
       "      <td>False</td>\n",
       "      <td>False</td>\n",
       "      <td>False</td>\n",
       "      <td>False</td>\n",
       "      <td>False</td>\n",
       "      <td>False</td>\n",
       "      <td>False</td>\n",
       "    </tr>\n",
       "  </tbody>\n",
       "</table>\n",
       "<p>100836 rows × 26 columns</p>\n",
       "</div>"
      ],
      "text/plain": [
       "        userId  movieId  rating   timestamp  year  \\\n",
       "0            1        1     4.0   964982703  2000   \n",
       "1            5        1     4.0   847434962  1996   \n",
       "2            7        1     4.5  1106635946  2005   \n",
       "3           15        1     2.5  1510577970  2017   \n",
       "4           17        1     4.5  1305696483  2011   \n",
       "...        ...      ...     ...         ...   ...   \n",
       "100831     610   160341     2.5  1479545749  2016   \n",
       "100832     610   160527     4.5  1479544998  2016   \n",
       "100833     610   160836     3.0  1493844794  2017   \n",
       "100834     610   163937     3.5  1493848789  2017   \n",
       "100835     610   163981     3.5  1493850155  2017   \n",
       "\n",
       "                                   title  \\\n",
       "0                       Toy Story (1995)   \n",
       "1                       Toy Story (1995)   \n",
       "2                       Toy Story (1995)   \n",
       "3                       Toy Story (1995)   \n",
       "4                       Toy Story (1995)   \n",
       "...                                  ...   \n",
       "100831                  Bloodmoon (1997)   \n",
       "100832  Sympathy for the Underdog (1971)   \n",
       "100833                     Hazard (2005)   \n",
       "100834                Blair Witch (2016)   \n",
       "100835                         31 (2016)   \n",
       "\n",
       "                                             genres  Comedy  Drama  Action  \\\n",
       "0       Adventure|Animation|Children|Comedy|Fantasy    True  False   False   \n",
       "1       Adventure|Animation|Children|Comedy|Fantasy    True  False   False   \n",
       "2       Adventure|Animation|Children|Comedy|Fantasy    True  False   False   \n",
       "3       Adventure|Animation|Children|Comedy|Fantasy    True  False   False   \n",
       "4       Adventure|Animation|Children|Comedy|Fantasy    True  False   False   \n",
       "...                                             ...     ...    ...     ...   \n",
       "100831                              Action|Thriller   False  False    True   \n",
       "100832                           Action|Crime|Drama   False   True    True   \n",
       "100833                        Action|Drama|Thriller   False   True    True   \n",
       "100834                              Horror|Thriller   False  False   False   \n",
       "100835                                       Horror   False  False   False   \n",
       "\n",
       "        ...  Thriller  Sci_Fi  Mystery  Fantasy  Romance  (no genres listed)  \\\n",
       "0       ...     False   False    False     True    False               False   \n",
       "1       ...     False   False    False     True    False               False   \n",
       "2       ...     False   False    False     True    False               False   \n",
       "3       ...     False   False    False     True    False               False   \n",
       "4       ...     False   False    False     True    False               False   \n",
       "...     ...       ...     ...      ...      ...      ...                 ...   \n",
       "100831  ...      True   False    False    False    False               False   \n",
       "100832  ...     False   False    False    False    False               False   \n",
       "100833  ...      True   False    False    False    False               False   \n",
       "100834  ...      True   False    False    False    False               False   \n",
       "100835  ...     False   False    False    False    False               False   \n",
       "\n",
       "        Western  Musical  Film-Noir    War  \n",
       "0         False    False      False  False  \n",
       "1         False    False      False  False  \n",
       "2         False    False      False  False  \n",
       "3         False    False      False  False  \n",
       "4         False    False      False  False  \n",
       "...         ...      ...        ...    ...  \n",
       "100831    False    False      False  False  \n",
       "100832    False    False      False  False  \n",
       "100833    False    False      False  False  \n",
       "100834    False    False      False  False  \n",
       "100835    False    False      False  False  \n",
       "\n",
       "[100836 rows x 26 columns]"
      ]
     },
     "execution_count": 79,
     "metadata": {},
     "output_type": "execute_result"
    }
   ],
   "source": [
    "# creating a dataframe to look at genre information\n",
    "genre_chrt_names = pd.merge(\n",
    "    ratings,\n",
    "    movies,\n",
    "    how=\"inner\",\n",
    "    on='movieId'\n",
    ")\n",
    "\n",
    "genre_chrt_names"
   ]
  },
  {
   "cell_type": "markdown",
   "id": "5a12454c",
   "metadata": {},
   "source": [
    "# Recommendation Model"
   ]
  },
  {
   "cell_type": "code",
   "execution_count": 106,
   "id": "eaa1e15d",
   "metadata": {},
   "outputs": [],
   "source": [
    "# a reader is still needed but only the rating_scale param is requiered.\n",
    "reader = Reader(rating_scale=(0.5, 5))"
   ]
  },
  {
   "cell_type": "code",
   "execution_count": 107,
   "id": "f7e62f33",
   "metadata": {},
   "outputs": [],
   "source": [
    "# test set is made of 20% of the ratings.\n",
    "trainset, testset = train_test_split(ratings, test_size=0.20)"
   ]
  },
  {
   "cell_type": "code",
   "execution_count": 108,
   "id": "35420e3a",
   "metadata": {
    "ExecuteTime": {
     "end_time": "2023-05-02T03:16:21.790539Z",
     "start_time": "2023-05-02T03:16:21.664315Z"
    }
   },
   "outputs": [],
   "source": [
    "# the columns must correspond to user id, item id and ratings (in that order).\n",
    "traindata = Dataset.load_from_df(trainset[['userId', 'movieId', 'rating']], reader)"
   ]
  },
  {
   "cell_type": "code",
   "execution_count": 116,
   "id": "87e10603",
   "metadata": {},
   "outputs": [],
   "source": [
    "traindata=traindata.build_full_trainset()"
   ]
  },
  {
   "cell_type": "code",
   "execution_count": 113,
   "id": "5e4cdfc8",
   "metadata": {},
   "outputs": [],
   "source": [
    "# the columns must correspond to user id, item id and ratings (in that order).\n",
    "testdata = Dataset.load_from_df(testset[['userId', 'movieId', 'rating']], reader)"
   ]
  },
  {
   "cell_type": "code",
   "execution_count": 114,
   "id": "83f49c57",
   "metadata": {
    "ExecuteTime": {
     "end_time": "2023-05-02T03:19:43.786635Z",
     "start_time": "2023-05-02T03:16:50.543563Z"
    }
   },
   "outputs": [
    {
     "name": "stdout",
     "output_type": "stream",
     "text": [
      "Computing the msd similarity matrix...\n",
      "Done computing similarity matrix.\n",
      "Computing the msd similarity matrix...\n",
      "Done computing similarity matrix.\n",
      "Computing the msd similarity matrix...\n",
      "Done computing similarity matrix.\n",
      "Computing the msd similarity matrix...\n",
      "Done computing similarity matrix.\n",
      "Computing the msd similarity matrix...\n",
      "Done computing similarity matrix.\n"
     ]
    }
   ],
   "source": [
    "# parameterize our algorithms to test.\n",
    "algo1 = SVD()\n",
    "algo2 = KNNBasic()\n",
    "algo3 = NMF()\n",
    "algo4 = CoClustering()\n",
    "algo5 = SlopeOne()\n",
    "\n",
    "# run 5-fold cross-validation and print results.\n",
    "algo1_dict = cross_validate(algo1, traindata, measures=['RMSE', 'MAE'], cv=5, verbose=False)\n",
    "algo2_dict = cross_validate(algo2, traindata, measures=['RMSE', 'MAE'], cv=5, verbose=False)\n",
    "algo3_dict = cross_validate(algo3, traindata, measures=['RMSE', 'MAE'], cv=5, verbose=False)\n",
    "algo4_dict = cross_validate(algo4, traindata, measures=['RMSE', 'MAE'], cv=5, verbose=False)\n",
    "algo5_dict = cross_validate(algo5, traindata, measures=['RMSE', 'MAE'], cv=5, verbose=False)"
   ]
  },
  {
   "cell_type": "code",
   "execution_count": 96,
   "id": "93848ff5",
   "metadata": {
    "ExecuteTime": {
     "end_time": "2023-05-02T03:19:43.969802Z",
     "start_time": "2023-05-02T03:19:43.788999Z"
    },
    "scrolled": false
   },
   "outputs": [
    {
     "data": {
      "image/png": "[encoded data removed]",
      "text/plain": [
       "<Figure size 640x480 with 1 Axes>"
      ]
     },
     "metadata": {},
     "output_type": "display_data"
    }
   ],
   "source": [
    "# let's look at the performance of our difference alogrithms against our training data and cross validation\n",
    "algos = ['SVD', 'KNN', 'NMF', 'CoClustering', 'SlopeOne']\n",
    "x_pos = np.arange(float(len(algos)))\n",
    "\n",
    "Y = [algo1_dict['test_rmse'], algo2_dict['test_rmse'], algo3_dict['test_rmse'], algo4_dict['test_rmse'], algo5_dict['test_rmse']]\n",
    "for y in range(len(Y)):\n",
    "  plt.scatter([algos[y], algos[y], algos[y], algos[y], algos[y]], Y[y], marker='o')"
   ]
  },
  {
   "cell_type": "code",
   "execution_count": 130,
   "id": "6c0e19db",
   "metadata": {},
   "outputs": [
    {
     "data": {
      "text/plain": [
       "<surprise.prediction_algorithms.matrix_factorization.SVD at 0x13be2f1f0>"
      ]
     },
     "execution_count": 130,
     "metadata": {},
     "output_type": "execute_result"
    }
   ],
   "source": [
    "# train the algorithm on the trainset, and predict ratings for the testset\n",
    "algo1.fit(traindata)"
   ]
  },
  {
   "cell_type": "code",
   "execution_count": 133,
   "id": "b4aabd9e",
   "metadata": {},
   "outputs": [
    {
     "ename": "AttributeError",
     "evalue": "'SVD' object has no attribute 'testdata'",
     "output_type": "error",
     "traceback": [
      "\u001b[0;31m---------------------------------------------------------------------------\u001b[0m",
      "\u001b[0;31mAttributeError\u001b[0m                            Traceback (most recent call last)",
      "Cell \u001b[0;32mIn[133], line 1\u001b[0m\n\u001b[0;32m----> 1\u001b[0m predictions1 \u001b[38;5;241m=\u001b[39m \u001b[43malgo1\u001b[49m\u001b[38;5;241;43m.\u001b[39;49m\u001b[43mtestdata\u001b[49m()\n",
      "\u001b[0;31mAttributeError\u001b[0m: 'SVD' object has no attribute 'testdata'"
     ]
    }
   ],
   "source": [
    "predictions1 = algo1.test()"
   ]
  },
  {
   "cell_type": "code",
   "execution_count": null,
   "id": "5f23f519",
   "metadata": {},
   "outputs": [],
   "source": [
    "# Then compute RMSE\n",
    "accuracy.rmse(predictions1)"
   ]
  },
  {
   "cell_type": "markdown",
   "id": "a26d020b",
   "metadata": {},
   "source": [
    "# Testing"
   ]
  },
  {
   "cell_type": "code",
   "execution_count": 198,
   "id": "858d5b32",
   "metadata": {
    "ExecuteTime": {
     "end_time": "2023-05-02T03:19:43.977498Z",
     "start_time": "2023-05-02T03:19:43.972655Z"
    }
   },
   "outputs": [],
   "source": [
    "from collections import defaultdict\n",
    "\n",
    "def get_top_n(predictions, n=10):\n",
    "    '''Return the top-N recommendation for each user from a set of predictions.\n",
    "\n",
    "    Args:\n",
    "        predictions(list of Prediction objects): The list of predictions, as\n",
    "            returned by the test method of an algorithm.\n",
    "        n(int): The number of recommendation to output for each user. Default\n",
    "            is 10.\n",
    "\n",
    "    Returns:\n",
    "    A dict where keys are user (raw) ids and values are lists of tuples:\n",
    "        [(raw item id, rating estimation), ...] of size n.\n",
    "    '''\n",
    "\n",
    "    # First map the predictions to each user.\n",
    "    top_n = defaultdict(list)\n",
    "    for uid, iid, true_r, est, _ in predictions:\n",
    "        top_n[uid].append((iid, est))\n",
    "\n",
    "    # Then sort the predictions for each user and retrieve the k highest ones.\n",
    "    for uid, user_ratings in top_n.items():\n",
    "        user_ratings.sort(key=lambda x: x[1], reverse=True)\n",
    "        top_n[uid] = user_ratings[:n]\n",
    "\n",
    "    return top_n"
   ]
  },
  {
   "cell_type": "code",
   "execution_count": 203,
   "id": "294fe8cd",
   "metadata": {
    "ExecuteTime": {
     "end_time": "2023-05-02T03:23:07.663684Z",
     "start_time": "2023-05-02T03:22:44.333320Z"
    }
   },
   "outputs": [
    {
     "name": "stdout",
     "output_type": "stream",
     "text": [
      "196 ['169', '603', '12', '64', '483']\n",
      "186 ['178', '282', '313', '515', '1']\n",
      "22 ['357', '318', '12', '169', '480']\n",
      "244 ['647', '483', '923', '661', '474']\n",
      "166 ['483', '64', '408', '190', '169']\n",
      "298 ['12', '272', '963', '515', '64']\n",
      "115 ['408', '179', '134', '175', '114']\n",
      "253 ['174', '69', '603', '178', '515']\n",
      "305 ['498', '647', '705', '132', '185']\n",
      "6 ['603', '657', '114', '647', '654']\n",
      "62 ['169', '408', '268', '515', '187']\n",
      "286 ['318', '12', '485', '659', '242']\n",
      "200 ['12', '114', '963', '181', '251']\n",
      "210 ['178', '100', '427', '603', '480']\n",
      "224 ['64', '174', '95', '161', '172']\n",
      "303 ['180', '178', '89', '169', '192']\n",
      "122 ['408', '302', '316', '59', '275']\n",
      "194 ['480', '169', '408', '512', '114']\n",
      "291 ['408', '169', '357', '114', '127']\n",
      "234 ['57', '169', '262', '60', '315']\n",
      "119 ['114', '178', '190', '480', '524']\n",
      "167 ['12', '98', '285', '50', '515']\n",
      "299 ['64', '694', '923', '180', '657']\n",
      "308 ['923', '114', '320', '190', '474']\n",
      "95 ['318', '12', '87', '251', '11']\n",
      "38 ['143', '385', '64', '8', '739']\n",
      "102 ['12', '408', '318', '64', '169']\n",
      "63 ['603', '12', '169', '89', '127']\n",
      "160 ['511', '134', '654', '114', '357']\n",
      "50 ['169', '168', '515', '483', '408']\n",
      "301 ['169', '526', '302', '114', '48']\n",
      "225 ['100', '483', '408', '318', '169']\n",
      "290 ['313', '169', '300', '603', '427']\n",
      "97 ['22', '127', '313', '12', '114']\n",
      "157 ['408', '603', '134', '64', '173']\n",
      "181 ['22', '204', '69', '313', '257']\n",
      "278 ['483', '169', '64', '657', '408']\n",
      "276 ['114', '480', '48', '661', '641']\n",
      "7 ['302', '512', '408', '316', '315']\n",
      "10 ['408', '187', '169', '318', '316']\n",
      "284 ['408', '169', '12', '64', '483']\n",
      "201 ['132', '246', '168', '178', '60']\n",
      "287 ['318', '357', '603', '174', '408']\n",
      "246 ['657', '480', '483', '408', '474']\n",
      "242 ['302', '474', '603', '100', '479']\n",
      "249 ['474', '507', '285', '14', '180']\n",
      "99 ['357', '603', '318', '180', '480']\n",
      "178 ['496', '169', '190', '114', '487']\n",
      "251 ['173', '98', '408', '483', '178']\n",
      "81 ['313', '174', '483', '59', '114']\n",
      "260 ['483', '318', '50', '513', '474']\n",
      "25 ['313', '318', '64', '22', '190']\n",
      "59 ['114', '408', '144', '124', '750']\n",
      "72 ['474', '143', '286', '216', '512']\n",
      "87 ['98', '69', '479', '603', '511']\n",
      "42 ['22', '169', '520', '611', '480']\n",
      "292 ['134', '318', '187', '963', '474']\n",
      "20 ['408', '169', '272', '512', '83']\n",
      "13 ['1142', '134', '114', '512', '963']\n",
      "138 ['174', '169', '50', '64', '178']\n",
      "60 ['408', '963', '169', '191', '316']\n",
      "57 ['172', '114', '484', '483', '178']\n",
      "223 ['174', '50', '272', '223', '181']\n",
      "189 ['285', '357', '12', '64', '493']\n",
      "243 ['169', '488', '408', '178', '603']\n",
      "92 ['127', '114', '483', '272', '511']\n",
      "241 ['408', '169', '511', '64', '12']\n",
      "254 ['511', '79', '318', '169', '513']\n",
      "293 ['169', '511', '178', '318', '9']\n",
      "127 ['603', '483', '56', '64', '12']\n",
      "222 ['272', '114', '203', '408', '429']\n",
      "267 ['134', '661', '192', '357', '657']\n",
      "11 ['483', '496', '302', '14', '493']\n",
      "8 ['178', '318', '1194', '474', '98']\n",
      "162 ['64', '272', '603', '408', '98']\n",
      "279 ['134', '192', '430', '302', '320']\n",
      "145 ['199', '511', '480', '357', '129']\n",
      "28 ['169', '408', '114', '427', '483']\n",
      "135 ['318', '483', '515', '64', '474']\n",
      "32 ['483', '169', '318', '515', '172']\n",
      "90 ['408', '963', '169', '484', '172']\n",
      "216 ['127', '661', '187', '427', '483']\n",
      "250 ['169', '408', '923', '603', '185']\n",
      "271 ['114', '483', '478', '165', '408']\n",
      "265 ['64', '313', '22', '357', '169']\n",
      "198 ['169', '12', '408', '178', '199']\n",
      "168 ['513', '496', '174', '318', '22']\n",
      "110 ['50', '172', '174', '318', '483']\n",
      "58 ['136', '856', '484', '1449', '656']\n",
      "237 ['302', '515', '12', '114', '511']\n",
      "94 ['199', '178', '137', '661', '641']\n",
      "128 ['272', '318', '316', '357', '12']\n",
      "44 ['302', '114', '408', '251', '169']\n",
      "264 ['483', '408', '134', '169', '114']\n",
      "41 ['89', '178', '408', '12', '480']\n",
      "82 ['89', '98', '12', '114', '408']\n",
      "262 ['408', '285', '603', '114', '479']\n",
      "174 ['89', '251', '302', '179', '632']\n",
      "43 ['176', '89', '96', '22', '515']\n",
      "84 ['272', '169', '480', '173', '603']\n",
      "269 ['656', '1021', '14', '199', '480']\n",
      "259 ['64', '169', '408', '318', '483']\n",
      "85 ['169', '408', '603', '178', '262']\n",
      "213 ['427', '408', '169', '657', '1007']\n",
      "121 ['169', '408', '963', '173', '114']\n",
      "49 ['137', '14', '408', '60', '134']\n",
      "155 ['483', '318', '357', '178', '515']\n",
      "68 ['408', '169', '474', '12', '483']\n",
      "172 ['318', '408', '50', '100', '22']\n",
      "19 ['98', '64', '483', '603', '285']\n",
      "268 ['9', '511', '530', '513', '641']\n",
      "5 ['483', '48', '511', '114', '175']\n",
      "80 ['408', '114', '173', '313', '318']\n",
      "66 ['64', '114', '169', '483', '22']\n",
      "18 ['124', '641', '499', '114', '694']\n",
      "26 ['114', '483', '408', '191', '318']\n",
      "130 ['515', '15', '48', '318', '520']\n",
      "256 ['143', '408', '318', '173', '1449']\n",
      "1 ['479', '318', '408', '357', '430']\n",
      "56 ['12', '603', '251', '513', '357']\n",
      "15 ['318', '313', '169', '64', '114']\n",
      "207 ['496', '651', '427', '132', '513']\n",
      "232 ['242', '513', '59', '432', '408']\n",
      "52 ['603', '483', '408', '64', '169']\n",
      "161 ['59', '170', '488', '603', '169']\n",
      "148 ['12', '96', '480', '483', '223']\n",
      "125 ['121', '429', '161', '651', '114']\n",
      "83 ['520', '496', '318', '272', '392']\n",
      "272 ['180', '169', '408', '511', '199']\n",
      "151 ['515', '963', '923', '1449', '613']\n",
      "54 ['169', '963', '114', '923', '408']\n",
      "16 ['173', '50', '483', '114', '429']\n",
      "91 ['96', '114', '169', '272', '408']\n",
      "294 ['169', '272', '318', '172', '183']\n",
      "229 ['408', '318', '50', '169', '12']\n",
      "36 ['427', '483', '12', '251', '1449']\n",
      "70 ['318', '98', '178', '64', '603']\n",
      "14 ['169', '963', '493', '223', '657']\n",
      "295 ['302', '603', '515', '480', '479']\n",
      "233 ['272', '114', '657', '169', '427']\n",
      "214 ['657', '480', '178', '513', '474']\n",
      "192 ['408', '169', '474', '488', '318']\n",
      "100 ['64', '318', '512', '174', '513']\n",
      "307 ['190', '514', '963', '57', '134']\n",
      "297 ['169', '408', '318', '1449', '483']\n",
      "193 ['318', '427', '496', '143', '316']\n",
      "113 ['169', '64', '57', '168', '318']\n",
      "275 ['64', '483', '136', '357', '318']\n",
      "219 ['169', '89', '315', '134', '199']\n",
      "218 ['483', '408', '89', '513', '169']\n",
      "123 ['474', '12', '513', '661', '408']\n",
      "158 ['178', '318', '114', '480', '251']\n",
      "302 ['127', '483', '408', '511', '318']\n",
      "23 ['169', '12', '114', '657', '513']\n",
      "296 ['318', '178', '511', '169', '408']\n",
      "33 ['169', '50', '172', '408', '174']\n",
      "154 ['169', '48', '408', '603', '963']\n",
      "77 ['12', '408', '64', '489', '178']\n",
      "270 ['302', '474', '515', '480', '132']\n",
      "187 ['318', '169', '12', '114', '408']\n",
      "170 ['603', '483', '12', '318', '408']\n",
      "101 ['12', '408', '963', '316', '22']\n",
      "184 ['603', '169', '59', '663', '427']\n",
      "112 ['496', '98', '603', '165', '657']\n",
      "133 ['408', '169', '483', '603', '64']\n",
      "215 ['318', '251', '173', '408', '510']\n",
      "69 ['483', '511', '64', '169', '408']\n",
      "104 ['172', '483', '511', '498', '963']\n",
      "240 ['408', '318', '12', '480', '483']\n",
      "144 ['169', '114', '511', '515', '496']\n",
      "191 ['483', '474', '408', '498', '134']\n",
      "61 ['603', '64', '318', '98', '357']\n",
      "142 ['114', '96', '272', '127', '483']\n",
      "177 ['408', '357', '603', '192', '661']\n",
      "203 ['408', '483', '169', '64', '114']\n",
      "21 ['268', '515', '483', '172', '132']\n",
      "197 ['216', '496', '69', '199', '71']\n",
      "134 ['22', '64', '169', '318', '190']\n",
      "180 ['197', '483', '474', '513', '498']\n",
      "236 ['242', '357', '498', '709', '513']\n",
      "263 ['178', '613', '191', '187', '603']\n",
      "109 ['484', '408', '114', '272', '124']\n",
      "64 ['530', '483', '357', '302', '654']\n",
      "114 ['50', '302', '12', '127', '316']\n",
      "239 ['285', '522', '23', '661', '641']\n",
      "117 ['408', '169', '513', '483', '272']\n",
      "65 ['496', '169', '174', '143', '22']\n",
      "137 ['474', '86', '98', '603', '100']\n",
      "257 ['199', '513', '515', '483', '89']\n",
      "111 ['318', '173', '408', '64', '199']\n",
      "285 ['408', '169', '285', '513', '603']\n",
      "96 ['603', '480', '169', '408', '251']\n",
      "116 ['318', '64', '357', '480', '96']\n",
      "73 ['302', '483', '408', '603', '199']\n",
      "221 ['127', '169', '923', '408', '187']\n",
      "235 ['408', '127', '169', '489', '657']\n",
      "164 ['265', '603', '480', '174', '648']\n",
      "281 ['12', '408', '50', '174', '515']\n",
      "182 ['483', '169', '64', '174', '511']\n",
      "129 ['318', '408', '488', '474', '641']\n",
      "45 ['515', '178', '318', '483', '408']\n",
      "131 ['408', '169', '197', '132', '318']\n",
      "230 ['318', '735', '651', '190', '659']\n",
      "126 ['64', '427', '603', '408', '169']\n",
      "231 ['483', '603', '12', '64', '169']\n",
      "280 ['408', '921', '178', '479', '134']\n",
      "288 ['603', '483', '316', '496', '170']\n",
      "152 ['265', '603', '196', '427', '208']\n",
      "217 ['64', '190', '408', '12', '98']\n",
      "79 ['318', '178', '12', '408', '190']\n",
      "75 ['169', '285', '657', '50', '64']\n",
      "245 ['64', '178', '98', '318', '89']\n",
      "282 ['483', '169', '50', '64', '172']\n",
      "78 ['318', '64', '272', '603', '174']\n",
      "118 ['302', '86', '144', '181', '515']\n",
      "283 ['408', '64', '114', '174', '318']\n",
      "171 ['50', '64', '172', '127', '251']\n",
      "107 ['408', '169', '603', '185', '50']\n",
      "226 ['318', '64', '272', '483', '603']\n",
      "306 ['127', '318', '185', '427', '515']\n",
      "173 ['474', '98', '603', '1137', '100']\n",
      "185 ['603', '64', '98', '427', '272']\n",
      "150 ['56', '169', '12', '98', '180']\n",
      "274 ['483', '64', '114', '313', '480']\n",
      "188 ['480', '272', '190', '427', '89']\n",
      "48 ['114', '318', '169', '64', '127']\n",
      "311 ['272', '144', '313', '408', '513']\n",
      "165 ['114', '483', '50', '12', '408']\n",
      "208 ['318', '427', '64', '603', '515']\n",
      "2 ['169', '408', '98', '603', '114']\n",
      "205 ['64', '98', '603', '174', '483']\n",
      "248 ['191', '408', '479', '178', '606']\n",
      "93 ['169', '408', '318', '513', '251']\n",
      "159 ['50', '483', '282', '313', '174']\n",
      "146 ['64', '408', '603', '12', '318']\n",
      "29 ['50', '408', '483', '603', '127']\n",
      "156 ['134', '483', '169', '479', '603']\n",
      "37 ['657', '12', '169', '114', '483']\n",
      "141 ['22', '318', '82', '707', '659']\n",
      "195 ['50', '174', '483', '318', '191']\n",
      "108 ['408', '272', '169', '134', '709']\n",
      "47 ['318', '603', '169', '408', '136']\n",
      "255 ['357', '127', '318', '59', '9']\n",
      "89 ['178', '183', '98', '603', '199']\n",
      "140 ['318', '515', '408', '272', '169']\n",
      "190 ['169', '12', '483', '511', '408']\n",
      "24 ['496', '174', '272', '408', '169']\n",
      "17 ['169', '187', '127', '408', '657']\n",
      "313 ['513', '285', '530', '169', '251']\n",
      "53 ['272', '603', '318', '408', '513']\n",
      "124 ['408', '56', '12', '64', '603']\n",
      "149 ['318', '427', '169', '511', '174']\n",
      "176 ['302', '179', '483', '603', '408']\n",
      "106 ['98', '127', '316', '496', '178']\n",
      "312 ['318', '285', '923', '694', '64']\n",
      "175 ['318', '174', '313', '22', '511']\n",
      "153 ['98', '480', '197', '603', '180']\n",
      "220 ['12', '408', '64', '169', '96']\n",
      "143 ['98', '483', '50', '172', '174']\n",
      "199 ['56', '318', '197', '474', '179']\n",
      "202 ['56', '114', '483', '408', '513']\n",
      "277 ['169', '318', '357', '64', '1019']\n",
      "206 ['169', '320', '50', '12', '963']\n",
      "76 ['127', '178', '408', '320', '923']\n",
      "314 ['79', '313', '333', '385', '485']\n",
      "136 ['474', '408', '169', '513', '483']\n",
      "179 ['64', '357', '143', '79', '169']\n",
      "4 ['515', '165', '480', '498', '272']\n",
      "304 ['318', '191', '114', '64', '611']\n",
      "3 ['483', '98', '515', '127', '603']\n",
      "227 ['134', '89', '483', '272', '183']\n",
      "252 ['98', '603', '515', '272', '408']\n",
      "212 ['169', '64', '190', '651', '483']\n",
      "310 ['408', '474', '114', '483', '12']\n",
      "35 ['169', '174', '114', '474', '173']\n",
      "147 ['474', '657', '480', '603', '483']\n",
      "105 ['50', '127', '12', '169', '64']\n",
      "34 ['474', '98', '603', '427', '483']\n",
      "71 ['318', '483', '408', '251', '641']\n",
      "51 ['174', '12', '408', '313', '272']\n",
      "204 ['408', '483', '603', '513', '190']\n",
      "315 ['179', '408', '169', '357', '963']\n",
      "31 ['169', '408', '114', '709', '251']\n",
      "316 ['514', '56', '481', '272', '479']\n",
      "103 ['12', '408', '318', '114', '515']\n",
      "318 ['515', '603', '178', '98', '479']\n",
      "30 ['318', '513', '357', '169', '114']\n",
      "120 ['318', '64', '169', '98', '174']\n",
      "46 ['408', '511', '963', '318', '64']\n",
      "289 ['169', '89', '64', '483', '272']\n",
      "209 ['22', '318', '64', '174', '8']\n",
      "261 ['302', '474', '265', '98', '603']\n",
      "88 ['169', '408', '483', '923', '285']\n",
      "9 ['318', '484', '199', '427', '357']\n",
      "247 ['316', '483', '408', '12', '511']\n",
      "321 ['408', '178', '98', '251', '223']\n",
      "266 ['318', '408', '114', '169', '251']\n",
      "74 ['318', '169', '513', '483', '316']\n",
      "238 ['302', '483', '513', '50', '318']\n",
      "319 ['408', '64', '169', '50', '515']\n",
      "323 ['357', '12', '603', '169', '187']\n",
      "67 ['98', '603', '408', '169', '12']\n",
      "211 ['603', '483', '654', '513', '480']\n",
      "98 ['169', '318', '483', '64', '408']\n",
      "12 ['64', '12', '603', '316', '169']\n",
      "40 ['64', '483', '114', '318', '603']\n",
      "258 ['12', '318', '64', '275', '302']\n",
      "228 ['169', '408', '515', '483', '318']\n",
      "325 ['603', '12', '169', '657', '641']\n",
      "320 ['12', '169', '408', '64', '611']\n",
      "326 ['408', '121', '83', '100', '189']\n",
      "327 ['483', '963', '187', '923', '515']\n",
      "183 ['64', '484', '318', '603', '170']\n",
      "328 ['173', '178', '174', '114', '320']\n",
      "322 ['408', '114', '169', '474', '285']\n",
      "330 ['515', '480', '498', '272', '79']\n",
      "27 ['12', '408', '513', '603', '114']\n",
      "331 ['408', '963', '483', '474', '12']\n",
      "332 ['480', '48', '483', '318', '357']\n",
      "329 ['318', '64', '603', '114', '408']\n",
      "86 ['174', '50', '172', '12', '408']\n",
      "139 ['169', '483', '408', '480', '114']\n",
      "300 ['318', '64', '963', '169', '114']\n",
      "163 ['603', '178', '483', '480', '12']\n",
      "333 ['272', '169', '114', '190', '318']\n",
      "334 ['114', '48', '357', '480', '199']\n",
      "39 ['12', '64', '483', '357', '318']\n",
      "324 ['603', '143', '515', '15', '498']\n",
      "132 ['169', '64', '114', '513', '483']\n",
      "336 ['22', '318', '313', '64', '357']\n",
      "335 ['483', '285', '603', '178', '408']\n",
      "169 ['169', '318', '64', '114', '923']\n",
      "338 ['114', '12', '657', '641', '190']\n",
      "339 ['14', '318', '641', '923', '169']\n",
      "309 ['169', '318', '408', '178', '483']\n",
      "342 ['474', '195', '127', '187', '603']\n",
      "340 ['316', '318', '496', '83', '178']\n",
      "317 ['603', '12', '483', '64', '98']\n",
      "341 ['474', '603', '408', '178', '478']\n",
      "343 ['14', '479', '172', '173', '589']\n",
      "344 ['179', '114', '483', '474', '657']\n",
      "345 ['408', '603', '483', '357', '178']\n",
      "346 ['199', '316', '648', '513', '282']\n",
      "347 ['511', '265', '64', '205', '493']\n",
      "273 ['169', '114', '408', '178', '127']\n",
      "55 ['64', '169', '100', '483', '480']\n",
      "349 ['408', '114', '169', '89', '56']\n",
      "348 ['302', '174', '272', '258', '483']\n",
      "354 ['530', '923', '474', '963', '493']\n",
      "351 ['302', '194', '100', '515', '427']\n",
      "358 ['56', '528', '169', '190', '223']\n",
      "352 ['127', '515', '408', '603', '187']\n",
      "360 ['603', '169', '408', '180', '514']\n",
      "363 ['251', '13', '483', '192', '48']\n",
      "355 ['474', '98', '603', '515', '512']\n",
      "362 ['98', '316', '483', '89', '127']\n",
      "357 ['474', '98', '193', '194', '603']\n",
      "356 ['64', '318', '169', '56', '408']\n",
      "361 ['318', '114', '511', '169', '357']\n",
      "365 ['169', '408', '127', '603', '480']\n",
      "350 ['169', '408', '318', '134', '178']\n",
      "367 ['174', '195', '479', '483', '408']\n",
      "368 ['169', '318', '251', '357', '64']\n",
      "371 ['318', '427', '313', '170', '114']\n",
      "373 ['272', '478', '251', '963', '1019']\n",
      "370 ['127', '963', '192', '191', '169']\n",
      "374 ['313', '22', '169', '190', '258']\n",
      "372 ['474', '194', '603', '515', '427']\n",
      "337 ['64', '169', '408', '480', '318']\n",
      "378 ['408', '169', '114', '483', '963']\n",
      "366 ['302', '474', '86', '246', '194']\n",
      "377 ['169', '483', '318', '114', '408']\n",
      "375 ['50', '169', '172', '313', '173']\n",
      "359 ['64', '169', '272', '483', '98']\n",
      "379 ['408', '318', '14', '513', '180']\n",
      "380 ['169', '178', '316', '408', '963']\n",
      "381 ['474', '408', '12', '173', '169']\n",
      "385 ['14', '709', '124', '86', '513']\n",
      "382 ['169', '64', '483', '709', '192']\n",
      "387 ['134', '483', '302', '480', '59']\n",
      "364 ['89', '272', '64', '483', '12']\n",
      "369 ['483', '318', '515', '173', '357']\n",
      "388 ['143', '174', '96', '172', '483']\n",
      "386 ['408', '318', '64', '316', '169']\n",
      "389 ['408', '647', '432', '190', '114']\n",
      "383 ['318', '169', '98', '515', '659']\n",
      "390 ['496', '169', '64', '603', '98']\n",
      "393 ['408', '515', '174', '300', '611']\n",
      "392 ['603', '654', '483', '408', '357']\n",
      "376 ['12', '512', '272', '64', '408']\n",
      "394 ['408', '318', '169', '302', '479']\n",
      "391 ['654', '169', '923', '408', '178']\n",
      "398 ['98', '511', '318', '169', '83']\n",
      "397 ['187', '603', '209', '511', '89']\n",
      "399 ['515', '306', '86', '1103', '408']\n",
      "396 ['318', '50', '64', '174', '496']\n",
      "401 ['15', '513', '87', '496', '423']\n",
      "402 ['114', '64', '178', '318', '493']\n",
      "384 ['64', '408', '190', '12', '169']\n",
      "395 ['195', '183', '178', '408', '316']\n",
      "353 ['169', '98', '408', '963', '114']\n",
      "403 ['174', '199', '483', '12', '83']\n",
      "405 ['496', '237', '144', '121', '486']\n",
      "400 ['483', '318', '169', '114', '64']\n",
      "406 ['242', '530', '493', '59', '178']\n",
      "407 ['318', '190', '480', '12', '64']\n",
      "409 ['408', '114', '515', '137', '512']\n",
      "404 ['64', '318', '114', '12', '50']\n",
      "413 ['408', '173', '169', '114', '172']\n",
      "416 ['169', '114', '483', '408', '89']\n",
      "408 ['12', '483', '59', '64', '198']\n",
      "410 ['169', '187', '64', '12', '515']\n",
      "411 ['169', '657', '64', '480', '408']\n",
      "417 ['318', '661', '603', '199', '531']\n",
      "412 ['98', '50', '513', '272', '511']\n",
      "420 ['187', '169', '272', '318', '64']\n",
      "422 ['56', '169', '197', '318', '408']\n",
      "425 ['179', '285', '408', '483', '647']\n",
      "419 ['114', '169', '64', '483', '12']\n",
      "415 ['64', '318', '187', '98', '603']\n",
      "423 ['318', '12', '190', '408', '169']\n",
      "429 ['408', '474', '515', '169', '1449']\n",
      "428 ['64', '169', '114', '318', '174']\n",
      "427 ['242', '474', '265', '86', '486']\n",
      "418 ['169', '64', '408', '318', '483']\n",
      "424 ['318', '603', '64', '1449', '12']\n",
      "432 ['64', '318', '272', '96', '98']\n",
      "421 ['169', '64', '22', '181', '168']\n",
      "435 ['48', '180', '114', '223', '475']\n",
      "433 ['169', '408', '479', '320', '89']\n",
      "426 ['169', '114', '272', '12', '64']\n",
      "436 ['483', '272', '169', '408', '515']\n",
      "430 ['357', '114', '427', '223', '494']\n",
      "434 ['313', '64', '22', '318', '480']\n",
      "437 ['127', '187', '427', '302', '285']\n",
      "438 ['483', '603', '199', '169', '318']\n",
      "431 ['64', '56', '12', '173', '114']\n",
      "442 ['408', '169', '603', '50', '114']\n",
      "440 ['603', '479', '483', '408', '318']\n",
      "445 ['98', '357', '318', '178', '427']\n",
      "447 ['172', '64', '127', '603', '357']\n",
      "449 ['50', '302', '12', '408', '98']\n",
      "450 ['251', '513', '515', '863', '1449']\n",
      "446 ['408', '603', '12', '515', '64']\n",
      "439 ['603', '408', '316', '657', '318']\n",
      "451 ['22', '431', '313', '169', '64']\n",
      "452 ['12', '408', '114', '1063', '208']\n",
      "454 ['429', '187', '512', '251', '265']\n",
      "453 ['169', '483', '64', '173', '127']\n",
      "414 ['474', '172', '169', '50', '174']\n",
      "455 ['285', '169', '963', '187', '302']\n",
      "444 ['134', '603', '318', '199', '408']\n",
      "448 ['114', '50', '511', '318', '169']\n",
      "457 ['603', '408', '187', '511', '313']\n",
      "456 ['134', '169', '137', '408', '285']\n",
      "458 ['923', '114', '320', '478', '657']\n",
      "462 ['69', '318', '64', '178', '191']\n",
      "459 ['313', '272', '318', '515', '963']\n",
      "460 ['318', '480', '408', '603', '483']\n",
      "461 ['408', '318', '169', '603', '178']\n",
      "467 ['12', '427', '169', '603', '515']\n",
      "468 ['187', '480', '168', '496', '169']\n",
      "466 ['408', '169', '134', '223', '709']\n",
      "472 ['242', '302', '474', '144', '1137']\n",
      "465 ['302', '512', '659', '168', '223']\n",
      "463 ['12', '173', '357', '408', '316']\n",
      "471 ['272', '515', '313', '318', '64']\n",
      "474 ['114', '408', '144', '1143', '251']\n",
      "469 ['169', '285', '488', '114', '318']\n",
      "464 ['408', '318', '169', '64', '427']\n",
      "476 ['12', '174', '190', '64', '316']\n",
      "478 ['132', '651', '408', '603', '286']\n",
      "473 ['318', '64', '114', '963', '427']\n",
      "470 ['316', '483', '408', '302', '114']\n",
      "480 ['318', '408', '275', '124', '513']\n",
      "441 ['64', '408', '513', '316', '318']\n",
      "479 ['64', '56', '178', '484', '652']\n",
      "484 ['496', '114', '251', '64', '483']\n",
      "486 ['89', '474', '12', '357', '318']\n",
      "487 ['169', '483', '8', '479', '603']\n",
      "482 ['114', '64', '169', '251', '57']\n",
      "481 ['923', '169', '172', '515', '478']\n",
      "492 ['408', '12', '603', '169', '89']\n",
      "493 ['169', '64', '313', '114', '512']\n",
      "490 ['172', '483', '320', '185', '168']\n",
      "489 ['318', '64', '199', '12', '589']\n",
      "483 ['172', '169', '408', '174', '178']\n",
      "496 ['114', '169', '474', '513', '1194']\n",
      "494 ['172', '318', '496', '12', '251']\n",
      "495 ['480', '48', '318', '199', '169']\n",
      "477 ['302', '474', '265', '98', '194']\n",
      "497 ['272', '313', '474', '641', '178']\n",
      "488 ['313', '479', '121', '282', '251']\n",
      "498 ['408', '169', '320', '178', '114']\n",
      "499 ['114', '408', '488', '169', '515']\n",
      "491 ['169', '114', '192', '269', '251']\n",
      "500 ['318', '357', '14', '603', '198']\n",
      "502 ['12', '483', '169', '56', '302']\n",
      "503 ['474', '169', '178', '513', '483']\n",
      "504 ['483', '313', '134', '513', '316']\n",
      "505 ['603', '657', '483', '645', '488']\n",
      "506 ['144', '22', '98', '313', '64']\n",
      "443 ['318', '98', '56', '64', '50']\n",
      "507 ['242', '474', '265', '465', '86']\n",
      "514 ['657', '963', '488', '520', '1007']\n",
      "508 ['169', '100', '408', '654', '302']\n",
      "511 ['190', '318', '12', '657', '302']\n",
      "515 ['169', '408', '484', '114', '603']\n",
      "512 ['603', '64', '357', '12', '427']\n",
      "513 ['174', '96', '272', '483', '408']\n",
      "475 ['408', '285', '483', '134', '603']\n",
      "523 ['603', '143', '515', '427', '496']\n",
      "518 ['12', '89', '272', '483', '313']\n",
      "509 ['483', '169', '408', '174', '12']\n",
      "516 ['408', '318', '114', '923', '178']\n",
      "510 ['87', '174', '114', '50', '12']\n",
      "524 ['272', '408', '114', '428', '313']\n",
      "501 ['12', '318', '169', '114', '408']\n",
      "525 ['318', '173', '408', '114', '483']\n",
      "521 ['169', '408', '129', '98', '483']\n",
      "520 ['318', '50', '178', '963', '174']\n",
      "519 ['242', '302', '474', '193', '194']\n",
      "528 ['408', '169', '172', '12', '114']\n",
      "532 ['174', '172', '69', '64', '173']\n",
      "530 ['603', '316', '318', '480', '199']\n",
      "531 ['89', '512', '318', '272', '513']\n",
      "529 ['483', '12', '169', '515', '64']\n",
      "517 ['169', '408', '483', '657', '320']\n",
      "527 ['483', '98', '408', '611', '114']\n",
      "485 ['408', '603', '318', '127', '316']\n",
      "533 ['173', '316', '272', '302', '512']\n",
      "535 ['408', '647', '12', '208', '191']\n",
      "536 ['173', '705', '963', '202', '484']\n",
      "526 ['172', '483', '169', '511', '174']\n",
      "537 ['408', '114', '223', '589', '656']\n",
      "534 ['302', '98', '194', '603', '181']\n",
      "541 ['169', '483', '189', '195', '513']\n",
      "538 ['357', '169', '64', '408', '251']\n",
      "542 ['169', '603', '657', '98', '408']\n",
      "545 ['496', '318', '408', '64', '272']\n",
      "539 ['318', '114', '64', '408', '169']\n",
      "547 ['483', '50', '408', '172', '134']\n",
      "543 ['100', '285', '408', '483', '251']\n",
      "548 ['174', '22', '199', '265', '172']\n",
      "546 ['603', '496', '132', '195', '79']\n",
      "522 ['127', '408', '50', '178', '64']\n",
      "551 ['513', '87', '197', '718', '813']\n",
      "544 ['511', '603', '127', '318', '496']\n",
      "553 ['408', '12', '127', '169', '64']\n",
      "552 ['64', '318', '316', '483', '496']\n",
      "540 ['12', '408', '169', '127', '56']\n",
      "554 ['496', '64', '313', '272', '483']\n",
      "550 ['318', '195', '272', '174', '114']\n",
      "556 ['174', '50', '480', '169', '408']\n",
      "559 ['483', '134', '185', '98', '357']\n",
      "560 ['114', '169', '511', '408', '187']\n",
      "561 ['134', '408', '641', '60', '516']\n",
      "563 ['318', '483', '134', '178', '136']\n",
      "566 ['474', '408', '285', '484', '9']\n",
      "557 ['64', '318', '169', '190', '45']\n",
      "558 ['169', '98', '178', '357', '480']\n",
      "564 ['483', '64', '318', '98', '316']\n",
      "565 ['302', '98', '603', '100', '427']\n",
      "573 ['12', '114', '169', '64', '56']\n",
      "549 ['318', '22', '12', '64', '174']\n",
      "567 ['169', '516', '408', '488', '86']\n",
      "569 ['603', '408', '480', '169', '318']\n",
      "562 ['178', '64', '603', '408', '519']\n",
      "576 ['318', '64', '603', '12', '258']\n",
      "577 ['57', '483', '647', '169', '488']\n",
      "579 ['318', '132', '515', '496', '483']\n",
      "574 ['498', '134', '657', '89', '408']\n",
      "555 ['408', '483', '515', '178', '641']\n",
      "572 ['12', '408', '127', '180', '64']\n",
      "575 ['64', '480', '190', '661', '408']\n",
      "584 ['318', '64', '22', '169', '56']\n",
      "588 ['528', '169', '963', '200', '936']\n",
      "587 ['483', '190', '318', '498', '64']\n",
      "568 ['511', '408', '12', '98', '89']\n",
      "586 ['114', '512', '408', '12', '298']\n",
      "585 ['408', '603', '169', '272', '12']\n",
      "582 ['302', '408', '89', '179', '12']\n",
      "591 ['408', '169', '657', '12', '474']\n",
      "581 ['318', '474', '408', '512', '315']\n",
      "592 ['474', '511', '114', '663', '190']\n",
      "580 ['169', '318', '272', '483', '408']\n",
      "590 ['474', '511', '498', '483', '480']\n",
      "593 ['64', '258', '12', '408', '316']\n",
      "583 ['474', '603', '178', '134', '480']\n",
      "596 ['408', '513', '515', '169', '603']\n",
      "570 ['223', '285', '127', '641', '134']\n",
      "599 ['408', '478', '12', '318', '64']\n",
      "589 ['64', '483', '185', '611', '657']\n",
      "594 ['12', '408', '480', '285', '513']\n",
      "597 ['408', '479', '64', '12', '169']\n",
      "578 ['50', '483', '408', '174', '480']\n",
      "601 ['89', '169', '199', '657', '302']\n",
      "602 ['174', '408', '64', '12', '603']\n",
      "600 ['318', '191', '64', '408', '483']\n",
      "605 ['134', '515', '185', '480', '427']\n",
      "603 ['515', '64', '1142', '199', '963']\n",
      "595 ['408', '169', '483', '474', '178']\n",
      "606 ['318', '169', '357', '114', '603']\n",
      "608 ['272', '169', '408', '515', '513']\n",
      "607 ['169', '64', '408', '12', '357']\n",
      "610 ['603', '64', '178', '496', '659']\n",
      "611 ['318', '483', '603', '408', '199']\n",
      "617 ['474', '603', '169', '178', '285']\n",
      "618 ['480', '199', '357', '178', '603']\n",
      "614 ['127', '427', '603', '185', '657']\n",
      "609 ['127', '98', '169', '480', '114']\n",
      "615 ['603', '515', '511', '64', '483']\n",
      "616 ['483', '408', '515', '178', '511']\n",
      "620 ['515', '272', '408', '484', '169']\n",
      "571 ['169', '408', '251', '963', '318']\n",
      "619 ['64', '169', '100', '98', '172']\n",
      "613 ['408', '513', '641', '174', '183']\n",
      "622 ['180', '114', '357', '186', '657']\n",
      "621 ['98', '408', '127', '657', '483']\n",
      "604 ['114', '408', '174', '483', '169']\n",
      "624 ['64', '483', '169', '318', '114']\n",
      "612 ['318', '169', '64', '408', '515']\n",
      "627 ['169', '134', '513', '483', '251']\n",
      "623 ['174', '313', '515', '318', '64']\n",
      "628 ['474', '98', '194', '603', '1137']\n",
      "625 ['64', '318', '511', '302', '12']\n",
      "629 ['511', '313', '318', '114', '124']\n",
      "633 ['173', '174', '64', '520', '513']\n",
      "632 ['496', '8', '169', '83', '199']\n",
      "631 ['173', '169', '408', '50', '178']\n",
      "634 ['64', '496', '483', '318', '172']\n",
      "639 ['474', '515', '603', '611', '480']\n",
      "630 ['143', '169', '1449', '498', '603']\n",
      "642 ['241', '300', '272', '265', '408']\n",
      "637 ['318', '64', '194', '735', '173']\n",
      "640 ['98', '172', '483', '127', '50']\n",
      "626 ['169', '408', '187', '318', '515']\n",
      "643 ['182', '480', '320', '64', '192']\n",
      "598 ['318', '64', '169', '513', '50']\n",
      "638 ['173', '657', '12', '318', '169']\n",
      "635 ['318', '174', '511', '178', '603']\n",
      "644 ['174', '483', '318', '64', '357']\n",
      "636 ['474', '98', '603', '423', '515']\n",
      "645 ['100', '603', '127', '169', '192']\n",
      "648 ['313', '64', '12', '300', '657']\n",
      "647 ['64', '408', '169', '318', '603']\n",
      "650 ['169', '408', '178', '64', '83']\n",
      "651 ['318', '408', '483', '169', '272']\n",
      "654 ['64', '520', '483', '1007', '378']\n",
      "653 ['173', '169', '114', '178', '48']\n",
      "655 ['169', '408', '524', '519', '83']\n",
      "649 ['318', '357', '408', '603', '64']\n",
      "658 ['64', '427', '483', '480', '285']\n",
      "656 ['483', '357', '603', '169', '56']\n",
      "660 ['408', '127', '302', '511', '169']\n",
      "659 ['318', '480', '427', '169', '487']\n",
      "646 ['12', '408', '603', '169', '64']\n",
      "663 ['483', '480', '156', '169', '114']\n",
      "664 ['135', '963', '185', '114', '474']\n",
      "657 ['515', '484', '272', '318', '408']\n",
      "665 ['603', '408', '654', '64', '169']\n",
      "666 ['14', '59', '285', '475', '408']\n",
      "661 ['483', '511', '114', '12', '100']\n",
      "662 ['169', '318', '64', '603', '114']\n",
      "667 ['12', '483', '100', '963', '302']\n",
      "641 ['169', '408', '603', '474', '12']\n",
      "668 ['483', '12', '408', '169', '484']\n",
      "673 ['64', '127', '483', '50', '199']\n",
      "671 ['313', '272', '302', '496', '660']\n",
      "669 ['100', '498', '178', '124', '318']\n",
      "676 ['496', '588', '427', '69', '210']\n",
      "674 ['64', '513', '114', '98', '12']\n",
      "652 ['963', '172', '64', '12', '169']\n",
      "677 ['12', '114', '272', '64', '169']\n",
      "682 ['169', '313', '483', '511', '178']\n",
      "679 ['114', '134', '511', '89', '474']\n",
      "684 ['12', '169', '174', '302', '316']\n",
      "685 ['483', '169', '357', '515', '408']\n",
      "683 ['408', '50', '318', '172', '114']\n",
      "691 ['474', '357', '515', '480', '187']\n",
      "672 ['483', '169', '178', '474', '114']\n",
      "692 ['190', '480', '408', '169', '515']\n",
      "690 ['483', '11', '520', '172', '50']\n",
      "689 ['12', '648', '172', '498', '64']\n",
      "686 ['408', '169', '513', '114', '483']\n",
      "693 ['515', '408', '603', '487', '496']\n",
      "688 ['346', '474', '265', '86', '257']\n",
      "697 ['318', '64', '169', '408', '22']\n",
      "698 ['320', '408', '272', '64', '114']\n",
      "670 ['169', '427', '408', '170', '124']\n",
      "694 ['64', '515', '513', '251', '114']\n",
      "680 ['64', '483', '178', '603', '480']\n",
      "705 ['316', '647', '499', '272', '169']\n",
      "701 ['318', '64', '12', '483', '178']\n",
      "699 ['169', '408', '318', '272', '1137']\n",
      "704 ['127', '513', '285', '199', '179']\n",
      "707 ['59', '408', '114', '316', '196']\n",
      "700 ['483', '313', '64', '272', '515']\n",
      "687 ['169', '114', '272', '603', '408']\n",
      "695 ['318', '134', '187', '408', '483']\n",
      "675 ['316', '302', '12', '59', '127']\n",
      "708 ['22', '318', '64', '169', '174']\n",
      "709 ['169', '272', '496', '313', '357']\n",
      "711 ['276', '14', '178', '515', '60']\n",
      "710 ['169', '408', '114', '480', '178']\n",
      "712 ['117', '272', '316', '265', '22']\n",
      "715 ['357', '190', '169', '483', '313']\n",
      "713 ['408', '169', '474', '603', '127']\n",
      "716 ['1142', '408', '657', '114', '100']\n",
      "681 ['127', '313', '511', '98', '272']\n",
      "678 ['483', '318', '603', '513', '408']\n",
      "719 ['603', '174', '408', '1007', '515']\n",
      "702 ['174', '64', '50', '318', '169']\n",
      "721 ['496', '313', '143', '178', '513']\n",
      "714 ['483', '64', '169', '513', '12']\n",
      "717 ['318', '178', '59', '515', '173']\n",
      "718 ['190', '64', '114', '483', '173']\n",
      "696 ['483', '169', '657', '408', '603']\n",
      "722 ['483', '169', '408', '480', '318']\n",
      "724 ['173', '169', '64', '98', '114']\n",
      "727 ['64', '272', '190', '318', '45']\n",
      "725 ['318', '64', '12', '408', '173']\n",
      "706 ['64', '172', '169', '313', '186']\n",
      "720 ['408', '169', '318', '50', '603']\n",
      "729 ['318', '50', '174', '408', '173']\n",
      "726 ['50', '169', '318', '285', '64']\n",
      "728 ['318', '64', '169', '408', '12']\n",
      "703 ['318', '12', '483', '114', '313']\n",
      "738 ['483', '114', '513', '647', '657']\n",
      "736 ['178', '483', '408', '182', '187']\n",
      "734 ['127', '408', '169', '474', '285']\n",
      "730 ['127', '408', '169', '251', '603']\n",
      "743 ['169', '483', '272', '89', '178']\n",
      "742 ['408', '169', '483', '114', '657']\n",
      "737 ['134', '56', '168', '179', '408']\n",
      "733 ['408', '169', '114', '50', '168']\n",
      "745 ['408', '114', '173', '513', '474']\n",
      "740 ['12', '513', '316', '64', '408']\n",
      "735 ['318', '12', '64', '313', '169']\n",
      "747 ['346', '527', '611', '191', '656']\n",
      "723 ['12', '64', '114', '408', '173']\n",
      "739 ['408', '484', '427', '483', '205']\n",
      "749 ['318', '1449', '12', '963', '57']\n",
      "748 ['12', '98', '251', '513', '87']\n",
      "746 ['169', '318', '173', '357', '114']\n",
      "731 ['318', '22', '88', '651', '79']\n",
      "750 ['169', '12', '408', '64', '603']\n",
      "741 ['127', '169', '603', '64', '408']\n",
      "751 ['318', '132', '169', '515', '408']\n",
      "756 ['318', '408', '114', '169', '12']\n",
      "757 ['12', '408', '114', '318', '513']\n",
      "752 ['169', '12', '408', '114', '483']\n",
      "758 ['408', '169', '187', '114', '318']\n",
      "732 ['408', '64', '12', '318', '483']\n",
      "762 ['50', '172', '169', '483', '479']\n",
      "744 ['408', '169', '12', '474', '89']\n",
      "754 ['169', '64', '513', '483', '98']\n",
      "753 ['169', '498', '318', '408', '496']\n",
      "763 ['474', '169', '114', '408', '285']\n",
      "764 ['316', '170', '114', '603', '190']\n",
      "767 ['64', '169', '603', '134', '50']\n",
      "769 ['169', '134', '318', '483', '127']\n",
      "755 ['12', '64', '89', '408', '513']\n",
      "771 ['143', '12', '484', '520', '96']\n",
      "768 ['114', '169', '483', '98', '318']\n",
      "773 ['654', '483', '276', '134', '479']\n",
      "765 ['134', '187', '408', '169', '318']\n",
      "772 ['603', '318', '64', '199', '98']\n",
      "766 ['100', '114', '408', '12', '169']\n",
      "774 ['474', '513', '963', '124', '408']\n",
      "760 ['12', '408', '489', '187', '56']\n",
      "761 ['121', '22', '12', '318', '174']\n",
      "777 ['64', '169', '22', '318', '483']\n",
      "759 ['318', '64', '272', '83', '408']\n",
      "776 ['114', '169', '408', '172', '313']\n",
      "780 ['483', '169', '181', '272', '64']\n",
      "779 ['12', '127', '187', '408', '64']\n",
      "778 ['408', '169', '89', '135', '474']\n",
      "782 ['12', '173', '963', '22', '64']\n",
      "786 ['313', '64', '316', '483', '478']\n",
      "784 ['64', '12', '172', '22', '50']\n",
      "770 ['474', '98', '603', '1137', '515']\n",
      "788 ['515', '242', '316', '190', '191']\n",
      "789 ['302', '172', '483', '423', '174']\n",
      "790 ['190', '12', '408', '64', '316']\n",
      "787 ['64', '318', '114', '169', '963']\n",
      "783 ['480', '483', '114', '192', '174']\n",
      "785 ['169', '272', '483', '178', '963']\n",
      "794 ['272', '408', '318', '134', '169']\n",
      "781 ['185', '603', '408', '192', '251']\n",
      "796 ['651', '837', '392', '136', '208']\n",
      "795 ['199', '474', '134', '923', '475']\n",
      "793 ['515', '480', '178', '318', '64']\n",
      "798 ['22', '300', '96', '272', '512']\n",
      "791 ['89', '318', '272', '169', '408']\n",
      "802 ['174', '22', '50', '483', '172']\n"
     ]
    },
    {
     "name": "stdout",
     "output_type": "stream",
     "text": [
      "800 ['318', '64', '98', '603', '12']\n",
      "804 ['313', '169', '272', '316', '408']\n",
      "803 ['169', '408', '483', '272', '318']\n",
      "775 ['114', '511', '603', '408', '134']\n",
      "792 ['64', '318', '12', '114', '479']\n",
      "799 ['318', '64', '408', '169', '483']\n",
      "805 ['134', '408', '474', '641', '285']\n",
      "806 ['603', '64', '320', '8', '512']\n",
      "807 ['64', '169', '316', '603', '923']\n",
      "797 ['483', '172', '114', '511', '169']\n",
      "801 ['265', '174', '96', '272', '408']\n",
      "809 ['603', '64', '135', '178', '488']\n",
      "815 ['186', '22', '478', '64', '657']\n",
      "817 ['483', '22', '64', '114', '169']\n",
      "821 ['515', '408', '191', '169', '12']\n",
      "818 ['357', '199', '100', '56', '180']\n",
      "814 ['408', '318', '89', '50', '168']\n",
      "812 ['64', '22', '12', '183', '50']\n",
      "823 ['199', '272', '208', '515', '179']\n",
      "825 ['173', '64', '22', '313', '328']\n",
      "827 ['169', '603', '483', '408', '50']\n",
      "829 ['169', '114', '12', '98', '174']\n",
      "811 ['302', '474', '100', '181', '480']\n",
      "830 ['408', '603', '169', '483', '515']\n",
      "826 ['12', '408', '318', '251', '114']\n",
      "831 ['127', '515', '318', '98', '513']\n",
      "819 ['483', '408', '488', '318', '480']\n",
      "828 ['50', '408', '169', '272', '114']\n",
      "808 ['603', '480', '174', '483', '408']\n",
      "835 ['64', '12', '603', '515', '479']\n",
      "833 ['408', '10', '169', '285', '709']\n",
      "836 ['169', '64', '408', '474', '179']\n",
      "816 ['98', '603', '483', '408', '89']\n",
      "838 ['603', '64', '98', '357', '496']\n",
      "839 ['12', '963', '474', '483', '511']\n",
      "840 ['408', '12', '427', '320', '9']\n",
      "832 ['64', '318', '603', '114', '169']\n",
      "810 ['474', '265', '144', '98', '603']\n",
      "844 ['169', '483', '408', '272', '357']\n",
      "843 ['169', '12', '408', '251', '114']\n",
      "834 ['12', '318', '483', '89', '408']\n",
      "846 ['408', '114', '223', '1019', '589']\n",
      "837 ['408', '169', '657', '513', '199']\n",
      "813 ['50', '511', '169', '483', '114']\n",
      "842 ['12', '173', '169', '50', '114']\n",
      "847 ['169', '313', '963', '515', '408']\n",
      "848 ['515', '408', '114', '735', '613']\n",
      "822 ['483', '64', '251', '498', '316']\n",
      "852 ['64', '603', '483', '513', '318']\n",
      "851 ['357', '427', '205', '408', '89']\n",
      "849 ['242', '302', '144', '98', '193']\n",
      "854 ['408', '169', '179', '114', '657']\n",
      "850 ['1', '483', '189', '498', '143']\n",
      "858 ['318', '178', '185', '513', '474']\n",
      "853 ['134', '169', '408', '313', '50']\n",
      "855 ['50', '318', '408', '64', '174']\n",
      "824 ['483', '98', '408', '318', '169']\n",
      "845 ['318', '483', '178', '64', '657']\n",
      "841 ['318', '64', '173', '114', '488']\n",
      "859 ['408', '127', '64', '603', '483']\n",
      "862 ['272', '408', '318', '169', '251']\n",
      "856 ['169', '64', '12', '22', '318']\n",
      "820 ['483', '408', '169', '50', '127']\n",
      "863 ['498', '169', '190', '246', '318']\n",
      "860 ['408', '114', '169', '480', '89']\n",
      "857 ['56', '133', '408', '313', '48']\n",
      "864 ['272', '513', '484', '480', '515']\n",
      "865 ['179', '134', '272', '276', '59']\n",
      "868 ['134', '430', '182', '511', '479']\n",
      "867 ['408', '199', '169', '641', '127']\n",
      "861 ['169', '511', '174', '963', '96']\n",
      "870 ['408', '1007', '661', '1524', '285']\n",
      "871 ['169', '64', '12', '114', '318']\n",
      "875 ['408', '318', '483', '657', '513']\n",
      "876 ['285', '480', '657', '169', '483']\n",
      "872 ['64', '316', '484', '12', '483']\n",
      "866 ['64', '603', '515', '318', '589']\n",
      "877 ['114', '511', '64', '134', '483']\n",
      "873 ['114', '483', '64', '12', '611']\n",
      "880 ['178', '474', '183', '89', '480']\n",
      "878 ['272', '408', '124', '603', '134']\n",
      "869 ['285', '408', '474', '657', '318']\n",
      "881 ['318', '603', '496', '210', '114']\n",
      "879 ['174', '313', '169', '272', '483']\n",
      "883 ['652', '474', '923', '32', '528']\n",
      "882 ['657', '64', '483', '478', '285']\n",
      "884 ['318', '169', '408', '134', '50']\n",
      "886 ['169', '705', '603', '83', '528']\n",
      "885 ['22', '64', '1449', '480', '483']\n",
      "889 ['641', '272', '527', '1449', '313']\n",
      "874 ['603', '12', '98', '408', '483']\n",
      "892 ['408', '474', '603', '114', '302']\n",
      "890 ['318', '197', '100', '191', '488']\n",
      "893 ['408', '178', '64', '515', '511']\n",
      "887 ['275', '709', '169', '306', '230']\n",
      "891 ['603', '480', '272', '483', '178']\n",
      "894 ['64', '408', '169', '603', '474']\n",
      "896 ['169', '268', '114', '170', '963']\n",
      "897 ['64', '318', '316', '480', '313']\n",
      "901 ['496', '143', '316', '265', '300']\n",
      "899 ['169', '313', '272', '488', '1007']\n",
      "903 ['197', '313', '169', '480', '603']\n",
      "904 ['134', '169', '408', '127', '427']\n",
      "907 ['242', '302', '474', '193', '194']\n",
      "905 ['169', '483', '98', '963', '408']\n",
      "902 ['603', '496', '64', '427', '185']\n",
      "898 ['169', '50', '114', '483', '318']\n",
      "895 ['172', '98', '511', '169', '408']\n",
      "906 ['474', '169', '923', '251', '178']\n",
      "900 ['515', '12', '408', '169', '114']\n",
      "908 ['64', '408', '178', '651', '316']\n",
      "916 ['127', '169', '178', '199', '59']\n",
      "911 ['408', '318', '64', '12', '169']\n",
      "912 ['480', '408', '603', '515', '657']\n",
      "914 ['185', '320', '56', '519', '98']\n",
      "918 ['478', '318', '251', '60', '61']\n",
      "919 ['169', '408', '242', '603', '528']\n",
      "921 ['64', '22', '114', '272', '318']\n",
      "910 ['64', '178', '316', '172', '483']\n",
      "913 ['496', '272', '192', '197', '313']\n",
      "915 ['483', '134', '178', '408', '199']\n",
      "922 ['496', '318', '513', '205', '169']\n",
      "923 ['302', '474', '98', '427', '512']\n",
      "928 ['242', '302', '603', '1137', '100']\n",
      "927 ['190', '478', '484', '648', '313']\n",
      "924 ['169', '513', '251', '657', '1137']\n",
      "929 ['603', '64', '114', '408', '169']\n",
      "931 ['178', '603', '408', '12', '205']\n",
      "917 ['169', '603', '408', '316', '272']\n",
      "932 ['60', '127', '408', '12', '50']\n",
      "909 ['302', '474', '100', '174', '483']\n",
      "934 ['114', '408', '285', '272', '98']\n",
      "933 ['603', '480', '134', '408', '192']\n",
      "935 ['64', '169', '408', '318', '12']\n",
      "938 ['483', '172', '114', '174', '134']\n",
      "940 ['169', '64', '480', '408', '190']\n",
      "888 ['483', '89', '169', '114', '484']\n",
      "925 ['64', '12', '169', '483', '114']\n",
      "942 ['64', '169', '488', '483', '114']\n",
      "937 ['318', '114', '483', '169', '64']\n",
      "926 ['169', '318', '173', '474', '496']\n",
      "943 ['313', '272', '435', '48', '1039']\n",
      "939 ['474', '98', '193', '603', '515']\n",
      "936 ['515', '132', '318', '603', '657']\n",
      "930 ['318', '98', '313', '513', '170']\n",
      "920 ['483', '114', '251', '408', '603']\n",
      "941 ['114', '169', '480', '50', '172']\n"
     ]
    }
   ],
   "source": [
    "trainset = data.build_full_trainset()\n",
    "algo1.fit(trainset)\n",
    "\n",
    "# Than predict ratings for all pairs (u, i) that are NOT in the training set.\n",
    "testset = trainset.build_anti_testset()\n",
    "predictions = algo1.test(testset)\n",
    "\n",
    "top_n = get_top_n(predictions, n=5)\n",
    "\n",
    "# Print the recommended items for each user\n",
    "for uid, user_ratings in top_n.items():\n",
    "    print(uid, [iid for (iid, _) in user_ratings])"
   ]
  },
  {
   "cell_type": "code",
   "execution_count": 202,
   "id": "a61f3f91",
   "metadata": {
    "ExecuteTime": {
     "end_time": "2023-05-02T03:21:32.336148Z",
     "start_time": "2023-05-02T03:21:25.541537Z"
    },
    "scrolled": true
   },
   "outputs": [
    {
     "name": "stdout",
     "output_type": "stream",
     "text": [
      "RMSE: 0.9413\n"
     ]
    },
    {
     "data": {
      "text/plain": [
       "0.9412636379582322"
      ]
     },
     "execution_count": 202,
     "metadata": {},
     "output_type": "execute_result"
    }
   ],
   "source": [
    "from surprise import accuracy, Dataset, SVD\n",
    "from surprise.model_selection import train_test_split\n",
    "\n",
    "# sample random trainset and testset\n",
    "# test set is made of 25% of the ratings.\n",
    "trainset, testset = train_test_split(data, test_size=0.25)\n",
    "\n",
    "# We'll use the famous SVD algorithm.\n",
    "algo = SVD()\n",
    "\n",
    "# Train the algorithm on the trainset, and predict ratings for the testset\n",
    "algo.fit(trainset)\n",
    "predictions = algo.test(testset)\n",
    "\n",
    "# Then compute RMSE\n",
    "accuracy.rmse(predictions)"
   ]
  },
  {
   "cell_type": "code",
   "execution_count": null,
   "id": "08c2e328",
   "metadata": {},
   "outputs": [],
   "source": []
  }
 ],
 "metadata": {
  "kernelspec": {
   "display_name": "Python 3 (ipykernel)",
   "language": "python",
   "name": "python3"
  },
  "language_info": {
   "codemirror_mode": {
    "name": "ipython",
    "version": 3
   },
   "file_extension": ".py",
   "mimetype": "text/x-python",
   "name": "python",
   "nbconvert_exporter": "python",
   "pygments_lexer": "ipython3",
   "version": "3.10.9"
  },
  "toc": {
   "base_numbering": 1,
   "nav_menu": {},
   "number_sections": true,
   "sideBar": true,
   "skip_h1_title": false,
   "title_cell": "Table of Contents",
   "title_sidebar": "Contents",
   "toc_cell": false,
   "toc_position": {},
   "toc_section_display": true,
   "toc_window_display": false
  }
 },
 "nbformat": 4,
 "nbformat_minor": 5
}
